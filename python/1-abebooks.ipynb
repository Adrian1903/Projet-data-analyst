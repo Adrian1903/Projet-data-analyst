{
 "nbformat": 4,
 "nbformat_minor": 2,
 "metadata": {
  "language_info": {
   "name": "python",
   "codemirror_mode": {
    "name": "ipython",
    "version": 3
   },
   "version": "3.7.6-final"
  },
  "orig_nbformat": 2,
  "file_extension": ".py",
  "mimetype": "text/x-python",
  "name": "python",
  "npconvert_exporter": "python",
  "pygments_lexer": "ipython3",
  "version": 3,
  "kernelspec": {
   "name": "python3",
   "display_name": "Python 3"
  }
 },
 "cells": [
  {
   "cell_type": "markdown",
   "metadata": {},
   "source": [
    "# Abebooks"
   ]
  },
  {
   "cell_type": "markdown",
   "metadata": {},
   "source": [
    "___"
   ]
  },
  {
   "cell_type": "code",
   "execution_count": 1,
   "metadata": {},
   "outputs": [],
   "source": [
    "import pandas as pd\n",
    "import os\n",
    "import glob\n",
    "import mysql.connector"
   ]
  },
  {
   "cell_type": "code",
   "execution_count": 2,
   "metadata": {},
   "outputs": [
    {
     "output_type": "execute_result",
     "data": {
      "text/plain": "(3750, 16)"
     },
     "metadata": {},
     "execution_count": 2
    }
   ],
   "source": [
    "os.chdir(\"C:\\Adrian - GDrive\\Professionnel\\Formation\\Informatique - Digital\\Data University\\Projet certification\\src\\\\abebooks\")\n",
    "\n",
    "df = pd.DataFrame(columns=[], index=[])\n",
    "\n",
    "for file in glob.glob(\"*.txt\"):\n",
    "    #print(file)\n",
    "    csv = pd.read_csv(file, sep=\"\\t\")\n",
    "    df = df.append(csv, ignore_index=True)\n",
    "\n",
    "df.shape"
   ]
  },
  {
   "cell_type": "code",
   "execution_count": 3,
   "metadata": {},
   "outputs": [
    {
     "output_type": "execute_result",
     "data": {
      "text/plain": "Index(['N° de commande Abebooks', 'Programme', 'Option d'achat',\n       'Votre n° de référence', 'Auteur', 'Titre', 'Prix du livre (EUR)',\n       'Frais de port (EUR)', 'Paiements pour vos ventes (brut) (EUR)',\n       'Commissions Abebooks (EUR)',\n       'Frais de prestataire de paiement externe (EUR)',\n       'Frais de prestataire de paiement externe (pour cent)',\n       'Paiements pour vos ventes (net) (EUR)', 'Date de traitement',\n       'Date du retour', 'Unnamed: 15'],\n      dtype='object')"
     },
     "metadata": {},
     "execution_count": 3
    }
   ],
   "source": [
    "df.columns"
   ]
  },
  {
   "cell_type": "code",
   "execution_count": 4,
   "metadata": {},
   "outputs": [],
   "source": [
    "df = df.drop(columns=['N° de commande Abebooks', 'Programme', \"Option d'achat\",\n",
    "       'Auteur', 'Titre',\n",
    "       'Frais de port (EUR)', 'Paiements pour vos ventes (brut) (EUR)',\n",
    "       'Commissions Abebooks (EUR)',\n",
    "       'Frais de prestataire de paiement externe (EUR)',\n",
    "       'Frais de prestataire de paiement externe (pour cent)',\n",
    "       'Paiements pour vos ventes (net) (EUR)',\n",
    "       'Date du retour', 'Unnamed: 15'])\n",
    ""
   ]
  },
  {
   "cell_type": "code",
   "execution_count": 5,
   "metadata": {},
   "outputs": [
    {
     "output_type": "execute_result",
     "data": {
      "text/plain": "(3750, 3)"
     },
     "metadata": {},
     "execution_count": 5
    }
   ],
   "source": [
    "df.shape"
   ]
  },
  {
   "cell_type": "code",
   "execution_count": 6,
   "metadata": {},
   "outputs": [
    {
     "output_type": "execute_result",
     "data": {
      "text/plain": "  Votre n° de référence Prix du livre (EUR) Date de traitement\n0            RO10078500              -46,16         31/07/2019\n1            R240146799               45,80         01/08/2019\n2            RO30312733               35,80         01/08/2019\n3            R110487848               30,90         01/08/2019\n4            RO80209687               55,50         01/08/2019",
      "text/html": "<div>\n<style scoped>\n    .dataframe tbody tr th:only-of-type {\n        vertical-align: middle;\n    }\n\n    .dataframe tbody tr th {\n        vertical-align: top;\n    }\n\n    .dataframe thead th {\n        text-align: right;\n    }\n</style>\n<table border=\"1\" class=\"dataframe\">\n  <thead>\n    <tr style=\"text-align: right;\">\n      <th></th>\n      <th>Votre n° de référence</th>\n      <th>Prix du livre (EUR)</th>\n      <th>Date de traitement</th>\n    </tr>\n  </thead>\n  <tbody>\n    <tr>\n      <th>0</th>\n      <td>RO10078500</td>\n      <td>-46,16</td>\n      <td>31/07/2019</td>\n    </tr>\n    <tr>\n      <th>1</th>\n      <td>R240146799</td>\n      <td>45,80</td>\n      <td>01/08/2019</td>\n    </tr>\n    <tr>\n      <th>2</th>\n      <td>RO30312733</td>\n      <td>35,80</td>\n      <td>01/08/2019</td>\n    </tr>\n    <tr>\n      <th>3</th>\n      <td>R110487848</td>\n      <td>30,90</td>\n      <td>01/08/2019</td>\n    </tr>\n    <tr>\n      <th>4</th>\n      <td>RO80209687</td>\n      <td>55,50</td>\n      <td>01/08/2019</td>\n    </tr>\n  </tbody>\n</table>\n</div>"
     },
     "metadata": {},
     "execution_count": 6
    }
   ],
   "source": [
    "df.head()"
   ]
  },
  {
   "cell_type": "code",
   "execution_count": 7,
   "metadata": {},
   "outputs": [
    {
     "output_type": "execute_result",
     "data": {
      "text/plain": "Votre n° de référence    object\nPrix du livre (EUR)      object\nDate de traitement       object\ndtype: object"
     },
     "metadata": {},
     "execution_count": 7
    }
   ],
   "source": [
    "df.dtypes"
   ]
  },
  {
   "cell_type": "code",
   "execution_count": 8,
   "metadata": {},
   "outputs": [],
   "source": [
    "df['Date de traitement'] = pd.to_datetime(df['Date de traitement'], format='%d/%m/%Y')"
   ]
  },
  {
   "cell_type": "code",
   "execution_count": 9,
   "metadata": {},
   "outputs": [
    {
     "output_type": "execute_result",
     "data": {
      "text/plain": "     Votre n° de référence Prix du livre (EUR) Date de traitement\n1               R240146799               45,80         2019-08-01\n2               RO30312733               35,80         2019-08-01\n3               R110487848               30,90         2019-08-01\n4               RO80209687               55,50         2019-08-01\n5               RO40124703               25,80         2019-08-01\n...                    ...                 ...                ...\n3745            RO80214439               20,90         2019-03-31\n3746            RO80214438               35,80         2019-03-31\n3747            R150179069               25,80         2019-03-31\n3748            R320114014               35,80         2019-03-31\n3749            RO20207647               35,80         2019-03-31\n\n[3617 rows x 3 columns]",
      "text/html": "<div>\n<style scoped>\n    .dataframe tbody tr th:only-of-type {\n        vertical-align: middle;\n    }\n\n    .dataframe tbody tr th {\n        vertical-align: top;\n    }\n\n    .dataframe thead th {\n        text-align: right;\n    }\n</style>\n<table border=\"1\" class=\"dataframe\">\n  <thead>\n    <tr style=\"text-align: right;\">\n      <th></th>\n      <th>Votre n° de référence</th>\n      <th>Prix du livre (EUR)</th>\n      <th>Date de traitement</th>\n    </tr>\n  </thead>\n  <tbody>\n    <tr>\n      <th>1</th>\n      <td>R240146799</td>\n      <td>45,80</td>\n      <td>2019-08-01</td>\n    </tr>\n    <tr>\n      <th>2</th>\n      <td>RO30312733</td>\n      <td>35,80</td>\n      <td>2019-08-01</td>\n    </tr>\n    <tr>\n      <th>3</th>\n      <td>R110487848</td>\n      <td>30,90</td>\n      <td>2019-08-01</td>\n    </tr>\n    <tr>\n      <th>4</th>\n      <td>RO80209687</td>\n      <td>55,50</td>\n      <td>2019-08-01</td>\n    </tr>\n    <tr>\n      <th>5</th>\n      <td>RO40124703</td>\n      <td>25,80</td>\n      <td>2019-08-01</td>\n    </tr>\n    <tr>\n      <th>...</th>\n      <td>...</td>\n      <td>...</td>\n      <td>...</td>\n    </tr>\n    <tr>\n      <th>3745</th>\n      <td>RO80214439</td>\n      <td>20,90</td>\n      <td>2019-03-31</td>\n    </tr>\n    <tr>\n      <th>3746</th>\n      <td>RO80214438</td>\n      <td>35,80</td>\n      <td>2019-03-31</td>\n    </tr>\n    <tr>\n      <th>3747</th>\n      <td>R150179069</td>\n      <td>25,80</td>\n      <td>2019-03-31</td>\n    </tr>\n    <tr>\n      <th>3748</th>\n      <td>R320114014</td>\n      <td>35,80</td>\n      <td>2019-03-31</td>\n    </tr>\n    <tr>\n      <th>3749</th>\n      <td>RO20207647</td>\n      <td>35,80</td>\n      <td>2019-03-31</td>\n    </tr>\n  </tbody>\n</table>\n<p>3617 rows × 3 columns</p>\n</div>"
     },
     "metadata": {},
     "execution_count": 9
    }
   ],
   "source": [
    "df = df[df[\"Prix du livre (EUR)\"] > \"0\"]\n",
    "df"
   ]
  },
  {
   "cell_type": "code",
   "execution_count": 10,
   "metadata": {},
   "outputs": [],
   "source": [
    "df[\"Prix du livre (EUR)\"] = df[\"Prix du livre (EUR)\"].str.replace(\",\",\".\").str.replace(\" \", \"\").str.replace(\"\\xa0\", \"\").astype(float)"
   ]
  },
  {
   "cell_type": "code",
   "execution_count": 11,
   "metadata": {},
   "outputs": [
    {
     "output_type": "execute_result",
     "data": {
      "text/plain": "     Votre n° de référence  Prix du livre (EUR) Date de traitement\n414             R320096990                11.25         2019-08-28\n482             R160028048                13.00         2019-04-02\n488             R160028045                13.00         2019-04-02\n1042            RO90042923                13.00         2019-02-08\n483             R160028069                13.00         2019-04-02\n...                    ...                  ...                ...\n2059            RO30104851               605.00         2019-07-07\n392             R160112358               605.00         2019-08-27\n1074            R260227837               905.00         2019-02-10\n810             RO40111821              1005.00         2019-04-22\n2200            RO80115561              1006.00         2019-07-18\n\n[3617 rows x 3 columns]",
      "text/html": "<div>\n<style scoped>\n    .dataframe tbody tr th:only-of-type {\n        vertical-align: middle;\n    }\n\n    .dataframe tbody tr th {\n        vertical-align: top;\n    }\n\n    .dataframe thead th {\n        text-align: right;\n    }\n</style>\n<table border=\"1\" class=\"dataframe\">\n  <thead>\n    <tr style=\"text-align: right;\">\n      <th></th>\n      <th>Votre n° de référence</th>\n      <th>Prix du livre (EUR)</th>\n      <th>Date de traitement</th>\n    </tr>\n  </thead>\n  <tbody>\n    <tr>\n      <th>414</th>\n      <td>R320096990</td>\n      <td>11.25</td>\n      <td>2019-08-28</td>\n    </tr>\n    <tr>\n      <th>482</th>\n      <td>R160028048</td>\n      <td>13.00</td>\n      <td>2019-04-02</td>\n    </tr>\n    <tr>\n      <th>488</th>\n      <td>R160028045</td>\n      <td>13.00</td>\n      <td>2019-04-02</td>\n    </tr>\n    <tr>\n      <th>1042</th>\n      <td>RO90042923</td>\n      <td>13.00</td>\n      <td>2019-02-08</td>\n    </tr>\n    <tr>\n      <th>483</th>\n      <td>R160028069</td>\n      <td>13.00</td>\n      <td>2019-04-02</td>\n    </tr>\n    <tr>\n      <th>...</th>\n      <td>...</td>\n      <td>...</td>\n      <td>...</td>\n    </tr>\n    <tr>\n      <th>2059</th>\n      <td>RO30104851</td>\n      <td>605.00</td>\n      <td>2019-07-07</td>\n    </tr>\n    <tr>\n      <th>392</th>\n      <td>R160112358</td>\n      <td>605.00</td>\n      <td>2019-08-27</td>\n    </tr>\n    <tr>\n      <th>1074</th>\n      <td>R260227837</td>\n      <td>905.00</td>\n      <td>2019-02-10</td>\n    </tr>\n    <tr>\n      <th>810</th>\n      <td>RO40111821</td>\n      <td>1005.00</td>\n      <td>2019-04-22</td>\n    </tr>\n    <tr>\n      <th>2200</th>\n      <td>RO80115561</td>\n      <td>1006.00</td>\n      <td>2019-07-18</td>\n    </tr>\n  </tbody>\n</table>\n<p>3617 rows × 3 columns</p>\n</div>"
     },
     "metadata": {},
     "execution_count": 11
    }
   ],
   "source": [
    "df.sort_values(by=\"Prix du livre (EUR)\")"
   ]
  },
  {
   "cell_type": "code",
   "execution_count": 12,
   "metadata": {},
   "outputs": [],
   "source": [
    "os.chdir(\"C:\\Adrian - GDrive\\Professionnel\\Formation\\Informatique - Digital\\Data University\\Projet certification\\csv\")\n",
    "\n",
    "df.to_csv(\"1-abebooks.csv\", index=False)"
   ]
  },
  {
   "cell_type": "code",
   "execution_count": null,
   "metadata": {},
   "outputs": [],
   "source": []
  }
 ]
}