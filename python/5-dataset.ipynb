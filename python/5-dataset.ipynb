{
 "nbformat": 4,
 "nbformat_minor": 2,
 "metadata": {
  "language_info": {
   "name": "python",
   "codemirror_mode": {
    "name": "ipython",
    "version": 3
   },
   "version": "3.7.6-final"
  },
  "orig_nbformat": 2,
  "file_extension": ".py",
  "mimetype": "text/x-python",
  "name": "python",
  "npconvert_exporter": "python",
  "pygments_lexer": "ipython3",
  "version": 3,
  "kernelspec": {
   "name": "python3",
   "display_name": "Python 3"
  }
 },
 "cells": [
  {
   "cell_type": "markdown",
   "metadata": {},
   "source": [
    "# Merge des fichiers sales et catalog"
   ],
   "execution_count": null,
   "outputs": []
  },
  {
   "cell_type": "code",
   "execution_count": 1,
   "metadata": {},
   "outputs": [],
   "source": [
    "import pandas as pd\n",
    "import os"
   ]
  },
  {
   "cell_type": "code",
   "execution_count": 2,
   "metadata": {},
   "outputs": [],
   "source": [
    "os.chdir(\"C:\\Adrian - GDrive\\Professionnel\\Formation\\Informatique - Digital\\Data University\\Projet certification\\csv\")\n",
    "\n",
    "df_sales = pd.read_csv(\"3-sales.csv\")\n",
    "df_catalog_isbn = pd.read_csv(\"4-catalog_rakuten_isbn.csv\")\n",
    "df_catalog_ean = pd.read_csv(\"4-catalog_rakuten_ean.csv\")"
   ]
  },
  {
   "cell_type": "code",
   "execution_count": 3,
   "metadata": {},
   "outputs": [
    {
     "output_type": "execute_result",
     "data": {
      "text/plain": "(2160, 3)"
     },
     "metadata": {},
     "execution_count": 3
    }
   ],
   "source": [
    "df_catalog_ean.shape"
   ]
  },
  {
   "cell_type": "code",
   "execution_count": 4,
   "metadata": {},
   "outputs": [
    {
     "output_type": "execute_result",
     "data": {
      "text/plain": "(2160, 3)"
     },
     "metadata": {},
     "execution_count": 4
    }
   ],
   "source": [
    "df_catalog_isbn.shape"
   ]
  },
  {
   "cell_type": "code",
   "execution_count": 5,
   "metadata": {},
   "outputs": [
    {
     "output_type": "execute_result",
     "data": {
      "text/plain": "       ean\nvalue     \nNone   520",
      "text/html": "<div>\n<style scoped>\n    .dataframe tbody tr th:only-of-type {\n        vertical-align: middle;\n    }\n\n    .dataframe tbody tr th {\n        vertical-align: top;\n    }\n\n    .dataframe thead th {\n        text-align: right;\n    }\n</style>\n<table border=\"1\" class=\"dataframe\">\n  <thead>\n    <tr style=\"text-align: right;\">\n      <th></th>\n      <th>ean</th>\n    </tr>\n    <tr>\n      <th>value</th>\n      <th></th>\n    </tr>\n  </thead>\n  <tbody>\n    <tr>\n      <th>None</th>\n      <td>520</td>\n    </tr>\n  </tbody>\n</table>\n</div>"
     },
     "metadata": {},
     "execution_count": 5
    }
   ],
   "source": [
    "df_catalog_ean[[\"ean\",\"value\"]].groupby(\"value\").count().sort_values(by=\"ean\", ascending=False).head(1)"
   ]
  },
  {
   "cell_type": "code",
   "execution_count": 6,
   "metadata": {},
   "outputs": [
    {
     "output_type": "execute_result",
     "data": {
      "text/plain": "       isbn\nvalue      \nNone    704",
      "text/html": "<div>\n<style scoped>\n    .dataframe tbody tr th:only-of-type {\n        vertical-align: middle;\n    }\n\n    .dataframe tbody tr th {\n        vertical-align: top;\n    }\n\n    .dataframe thead th {\n        text-align: right;\n    }\n</style>\n<table border=\"1\" class=\"dataframe\">\n  <thead>\n    <tr style=\"text-align: right;\">\n      <th></th>\n      <th>isbn</th>\n    </tr>\n    <tr>\n      <th>value</th>\n      <th></th>\n    </tr>\n  </thead>\n  <tbody>\n    <tr>\n      <th>None</th>\n      <td>704</td>\n    </tr>\n  </tbody>\n</table>\n</div>"
     },
     "metadata": {},
     "execution_count": 6
    }
   ],
   "source": [
    "df_catalog_isbn[[\"isbn\",\"value\"]].groupby(\"value\").count().sort_values(by=\"isbn\", ascending=False).head(1)"
   ]
  },
  {
   "cell_type": "code",
   "execution_count": 7,
   "metadata": {},
   "outputs": [],
   "source": [
    "df_catalog = df_catalog_ean.merge(df_catalog_isbn, left_index=True, right_index=True)"
   ]
  },
  {
   "cell_type": "code",
   "execution_count": 8,
   "metadata": {},
   "outputs": [
    {
     "output_type": "execute_result",
     "data": {
      "text/plain": "(2160, 6)"
     },
     "metadata": {},
     "execution_count": 8
    }
   ],
   "source": [
    "df_catalog.shape"
   ]
  },
  {
   "cell_type": "code",
   "execution_count": 9,
   "metadata": {},
   "outputs": [
    {
     "output_type": "execute_result",
     "data": {
      "text/plain": "              ean value_x quantity_x        isbn value_y quantity_y  \\\n0   9782848331683    None          0  2848331682    None          0   \n1   9782036518117     0.9         18  2036518117     0.9         18   \n2   9782218926099     2.9          8  2218926091    None       None   \n3   9782080648884    9.89          8  2080648888    9.89          8   \n4   9780140707182    2.93          5  0140707182    None       None   \n5   9782895404408    3.09          3  2895404402    None       None   \n6   9782857040064    2.57          8  2857040067    2.57          8   \n7   9783423030137    None       None  3423030135    None          0   \n8   9782080642912     0.9         40  208064291X     0.9         40   \n9   9782020029889   32.45          1  202002988X   32.45          1   \n10  9782020029889   32.45          1  202002988X   32.45          1   \n11  9782716711807    None       None  2716711801    None          0   \n12  9782716708340    None          0  2716708347    None          0   \n13  9782738224705     7.0          4  2738224709    None       None   \n14  9782070530274    4.98         39  2070530272    4.98         39   \n15  9782868820082   23.78          2  2868820085   23.78          2   \n16  9782890397927    8.27          2  2890397920    8.27          2   \n17  9782864321064    6.43          7  2864321068    6.43          7   \n18  9788881830022    None       None  8881830027    None       None   \n19  9782856202913  132.24          1  2856202918   10.38          3   \n20  9782724249217     1.5          6  2724249216     1.5          6   \n21  9782895121886    None       None  2895121885    None          0   \n22  9782020000413    3.05          8  2020000415    3.05          8   \n23  9782724289831    2.98          8  2724289838    2.98          8   \n24  9782222033028    None       None  2222033020    None          0   \n25  9782909031156     9.9          1  2909031152     9.9          1   \n26  9782222038542    55.5          3  2222038545    55.5          3   \n27  9782222038542    55.5          3  2222038545    55.5          3   \n28  9780747577119   15.36          1  0747577110    None       None   \n29  9782844450272    14.0          5  284445027X    14.0          5   \n30  9780330305372    None          0  0330305379    None       None   \n31  9782234045644    24.0          2  2234045649    24.0          2   \n32  9782744140518     5.8          3  2744140511     5.8          3   \n33  9782856691090    4.15          1  2856691099    4.15          1   \n34  9782080643178    None       None  2080643177   11.98          4   \n35  9782080643178    None       None  2080643177   11.98          4   \n36  9782907017022    22.5          2  2907017020    22.5          2   \n37  9782262000783     0.9         10  2262000786     0.9         10   \n38  9782286468880    None       None  2286468885   12.99          7   \n39  9782738201560     0.9          4  2738201563     0.9          4   \n\n   value_rakuten quantity_rakuten  \n0           None             None  \n1            0.9               18  \n2            2.9                8  \n3           9.89                8  \n4           2.93                5  \n5           3.09                3  \n6           2.57                8  \n7           None             None  \n8            0.9               40  \n9          32.45                1  \n10         32.45                1  \n11          None             None  \n12          None             None  \n13           7.0                4  \n14          4.98               39  \n15         23.78                2  \n16          8.27                2  \n17          6.43                7  \n18          None             None  \n19        132.24                1  \n20           1.5                6  \n21          None             None  \n22          3.05                8  \n23          2.98                8  \n24          None             None  \n25           9.9                1  \n26          55.5                3  \n27          55.5                3  \n28         15.36                1  \n29          14.0                5  \n30          None             None  \n31          24.0                2  \n32           5.8                3  \n33          4.15                1  \n34         11.98                4  \n35         11.98                4  \n36          22.5                2  \n37           0.9               10  \n38         12.99                7  \n39           0.9                4  ",
      "text/html": "<div>\n<style scoped>\n    .dataframe tbody tr th:only-of-type {\n        vertical-align: middle;\n    }\n\n    .dataframe tbody tr th {\n        vertical-align: top;\n    }\n\n    .dataframe thead th {\n        text-align: right;\n    }\n</style>\n<table border=\"1\" class=\"dataframe\">\n  <thead>\n    <tr style=\"text-align: right;\">\n      <th></th>\n      <th>ean</th>\n      <th>value_x</th>\n      <th>quantity_x</th>\n      <th>isbn</th>\n      <th>value_y</th>\n      <th>quantity_y</th>\n      <th>value_rakuten</th>\n      <th>quantity_rakuten</th>\n    </tr>\n  </thead>\n  <tbody>\n    <tr>\n      <th>0</th>\n      <td>9782848331683</td>\n      <td>None</td>\n      <td>0</td>\n      <td>2848331682</td>\n      <td>None</td>\n      <td>0</td>\n      <td>None</td>\n      <td>None</td>\n    </tr>\n    <tr>\n      <th>1</th>\n      <td>9782036518117</td>\n      <td>0.9</td>\n      <td>18</td>\n      <td>2036518117</td>\n      <td>0.9</td>\n      <td>18</td>\n      <td>0.9</td>\n      <td>18</td>\n    </tr>\n    <tr>\n      <th>2</th>\n      <td>9782218926099</td>\n      <td>2.9</td>\n      <td>8</td>\n      <td>2218926091</td>\n      <td>None</td>\n      <td>None</td>\n      <td>2.9</td>\n      <td>8</td>\n    </tr>\n    <tr>\n      <th>3</th>\n      <td>9782080648884</td>\n      <td>9.89</td>\n      <td>8</td>\n      <td>2080648888</td>\n      <td>9.89</td>\n      <td>8</td>\n      <td>9.89</td>\n      <td>8</td>\n    </tr>\n    <tr>\n      <th>4</th>\n      <td>9780140707182</td>\n      <td>2.93</td>\n      <td>5</td>\n      <td>0140707182</td>\n      <td>None</td>\n      <td>None</td>\n      <td>2.93</td>\n      <td>5</td>\n    </tr>\n    <tr>\n      <th>5</th>\n      <td>9782895404408</td>\n      <td>3.09</td>\n      <td>3</td>\n      <td>2895404402</td>\n      <td>None</td>\n      <td>None</td>\n      <td>3.09</td>\n      <td>3</td>\n    </tr>\n    <tr>\n      <th>6</th>\n      <td>9782857040064</td>\n      <td>2.57</td>\n      <td>8</td>\n      <td>2857040067</td>\n      <td>2.57</td>\n      <td>8</td>\n      <td>2.57</td>\n      <td>8</td>\n    </tr>\n    <tr>\n      <th>7</th>\n      <td>9783423030137</td>\n      <td>None</td>\n      <td>None</td>\n      <td>3423030135</td>\n      <td>None</td>\n      <td>0</td>\n      <td>None</td>\n      <td>None</td>\n    </tr>\n    <tr>\n      <th>8</th>\n      <td>9782080642912</td>\n      <td>0.9</td>\n      <td>40</td>\n      <td>208064291X</td>\n      <td>0.9</td>\n      <td>40</td>\n      <td>0.9</td>\n      <td>40</td>\n    </tr>\n    <tr>\n      <th>9</th>\n      <td>9782020029889</td>\n      <td>32.45</td>\n      <td>1</td>\n      <td>202002988X</td>\n      <td>32.45</td>\n      <td>1</td>\n      <td>32.45</td>\n      <td>1</td>\n    </tr>\n    <tr>\n      <th>10</th>\n      <td>9782020029889</td>\n      <td>32.45</td>\n      <td>1</td>\n      <td>202002988X</td>\n      <td>32.45</td>\n      <td>1</td>\n      <td>32.45</td>\n      <td>1</td>\n    </tr>\n    <tr>\n      <th>11</th>\n      <td>9782716711807</td>\n      <td>None</td>\n      <td>None</td>\n      <td>2716711801</td>\n      <td>None</td>\n      <td>0</td>\n      <td>None</td>\n      <td>None</td>\n    </tr>\n    <tr>\n      <th>12</th>\n      <td>9782716708340</td>\n      <td>None</td>\n      <td>0</td>\n      <td>2716708347</td>\n      <td>None</td>\n      <td>0</td>\n      <td>None</td>\n      <td>None</td>\n    </tr>\n    <tr>\n      <th>13</th>\n      <td>9782738224705</td>\n      <td>7.0</td>\n      <td>4</td>\n      <td>2738224709</td>\n      <td>None</td>\n      <td>None</td>\n      <td>7.0</td>\n      <td>4</td>\n    </tr>\n    <tr>\n      <th>14</th>\n      <td>9782070530274</td>\n      <td>4.98</td>\n      <td>39</td>\n      <td>2070530272</td>\n      <td>4.98</td>\n      <td>39</td>\n      <td>4.98</td>\n      <td>39</td>\n    </tr>\n    <tr>\n      <th>15</th>\n      <td>9782868820082</td>\n      <td>23.78</td>\n      <td>2</td>\n      <td>2868820085</td>\n      <td>23.78</td>\n      <td>2</td>\n      <td>23.78</td>\n      <td>2</td>\n    </tr>\n    <tr>\n      <th>16</th>\n      <td>9782890397927</td>\n      <td>8.27</td>\n      <td>2</td>\n      <td>2890397920</td>\n      <td>8.27</td>\n      <td>2</td>\n      <td>8.27</td>\n      <td>2</td>\n    </tr>\n    <tr>\n      <th>17</th>\n      <td>9782864321064</td>\n      <td>6.43</td>\n      <td>7</td>\n      <td>2864321068</td>\n      <td>6.43</td>\n      <td>7</td>\n      <td>6.43</td>\n      <td>7</td>\n    </tr>\n    <tr>\n      <th>18</th>\n      <td>9788881830022</td>\n      <td>None</td>\n      <td>None</td>\n      <td>8881830027</td>\n      <td>None</td>\n      <td>None</td>\n      <td>None</td>\n      <td>None</td>\n    </tr>\n    <tr>\n      <th>19</th>\n      <td>9782856202913</td>\n      <td>132.24</td>\n      <td>1</td>\n      <td>2856202918</td>\n      <td>10.38</td>\n      <td>3</td>\n      <td>132.24</td>\n      <td>1</td>\n    </tr>\n    <tr>\n      <th>20</th>\n      <td>9782724249217</td>\n      <td>1.5</td>\n      <td>6</td>\n      <td>2724249216</td>\n      <td>1.5</td>\n      <td>6</td>\n      <td>1.5</td>\n      <td>6</td>\n    </tr>\n    <tr>\n      <th>21</th>\n      <td>9782895121886</td>\n      <td>None</td>\n      <td>None</td>\n      <td>2895121885</td>\n      <td>None</td>\n      <td>0</td>\n      <td>None</td>\n      <td>None</td>\n    </tr>\n    <tr>\n      <th>22</th>\n      <td>9782020000413</td>\n      <td>3.05</td>\n      <td>8</td>\n      <td>2020000415</td>\n      <td>3.05</td>\n      <td>8</td>\n      <td>3.05</td>\n      <td>8</td>\n    </tr>\n    <tr>\n      <th>23</th>\n      <td>9782724289831</td>\n      <td>2.98</td>\n      <td>8</td>\n      <td>2724289838</td>\n      <td>2.98</td>\n      <td>8</td>\n      <td>2.98</td>\n      <td>8</td>\n    </tr>\n    <tr>\n      <th>24</th>\n      <td>9782222033028</td>\n      <td>None</td>\n      <td>None</td>\n      <td>2222033020</td>\n      <td>None</td>\n      <td>0</td>\n      <td>None</td>\n      <td>None</td>\n    </tr>\n    <tr>\n      <th>25</th>\n      <td>9782909031156</td>\n      <td>9.9</td>\n      <td>1</td>\n      <td>2909031152</td>\n      <td>9.9</td>\n      <td>1</td>\n      <td>9.9</td>\n      <td>1</td>\n    </tr>\n    <tr>\n      <th>26</th>\n      <td>9782222038542</td>\n      <td>55.5</td>\n      <td>3</td>\n      <td>2222038545</td>\n      <td>55.5</td>\n      <td>3</td>\n      <td>55.5</td>\n      <td>3</td>\n    </tr>\n    <tr>\n      <th>27</th>\n      <td>9782222038542</td>\n      <td>55.5</td>\n      <td>3</td>\n      <td>2222038545</td>\n      <td>55.5</td>\n      <td>3</td>\n      <td>55.5</td>\n      <td>3</td>\n    </tr>\n    <tr>\n      <th>28</th>\n      <td>9780747577119</td>\n      <td>15.36</td>\n      <td>1</td>\n      <td>0747577110</td>\n      <td>None</td>\n      <td>None</td>\n      <td>15.36</td>\n      <td>1</td>\n    </tr>\n    <tr>\n      <th>29</th>\n      <td>9782844450272</td>\n      <td>14.0</td>\n      <td>5</td>\n      <td>284445027X</td>\n      <td>14.0</td>\n      <td>5</td>\n      <td>14.0</td>\n      <td>5</td>\n    </tr>\n    <tr>\n      <th>30</th>\n      <td>9780330305372</td>\n      <td>None</td>\n      <td>0</td>\n      <td>0330305379</td>\n      <td>None</td>\n      <td>None</td>\n      <td>None</td>\n      <td>None</td>\n    </tr>\n    <tr>\n      <th>31</th>\n      <td>9782234045644</td>\n      <td>24.0</td>\n      <td>2</td>\n      <td>2234045649</td>\n      <td>24.0</td>\n      <td>2</td>\n      <td>24.0</td>\n      <td>2</td>\n    </tr>\n    <tr>\n      <th>32</th>\n      <td>9782744140518</td>\n      <td>5.8</td>\n      <td>3</td>\n      <td>2744140511</td>\n      <td>5.8</td>\n      <td>3</td>\n      <td>5.8</td>\n      <td>3</td>\n    </tr>\n    <tr>\n      <th>33</th>\n      <td>9782856691090</td>\n      <td>4.15</td>\n      <td>1</td>\n      <td>2856691099</td>\n      <td>4.15</td>\n      <td>1</td>\n      <td>4.15</td>\n      <td>1</td>\n    </tr>\n    <tr>\n      <th>34</th>\n      <td>9782080643178</td>\n      <td>None</td>\n      <td>None</td>\n      <td>2080643177</td>\n      <td>11.98</td>\n      <td>4</td>\n      <td>11.98</td>\n      <td>4</td>\n    </tr>\n    <tr>\n      <th>35</th>\n      <td>9782080643178</td>\n      <td>None</td>\n      <td>None</td>\n      <td>2080643177</td>\n      <td>11.98</td>\n      <td>4</td>\n      <td>11.98</td>\n      <td>4</td>\n    </tr>\n    <tr>\n      <th>36</th>\n      <td>9782907017022</td>\n      <td>22.5</td>\n      <td>2</td>\n      <td>2907017020</td>\n      <td>22.5</td>\n      <td>2</td>\n      <td>22.5</td>\n      <td>2</td>\n    </tr>\n    <tr>\n      <th>37</th>\n      <td>9782262000783</td>\n      <td>0.9</td>\n      <td>10</td>\n      <td>2262000786</td>\n      <td>0.9</td>\n      <td>10</td>\n      <td>0.9</td>\n      <td>10</td>\n    </tr>\n    <tr>\n      <th>38</th>\n      <td>9782286468880</td>\n      <td>None</td>\n      <td>None</td>\n      <td>2286468885</td>\n      <td>12.99</td>\n      <td>7</td>\n      <td>12.99</td>\n      <td>7</td>\n    </tr>\n    <tr>\n      <th>39</th>\n      <td>9782738201560</td>\n      <td>0.9</td>\n      <td>4</td>\n      <td>2738201563</td>\n      <td>0.9</td>\n      <td>4</td>\n      <td>0.9</td>\n      <td>4</td>\n    </tr>\n  </tbody>\n</table>\n</div>"
     },
     "metadata": {},
     "execution_count": 9
    }
   ],
   "source": [
    "df_catalog[\"value_rakuten\"] = \"None\"\n",
    "df_catalog[\"quantity_rakuten\"] = \"None\"\n",
    "\n",
    "df_catalog[\"value_rakuten\"][df_catalog[\"value_y\"] != \"None\"] = df_catalog[\"value_y\"]\n",
    "df_catalog[\"quantity_rakuten\"][df_catalog[\"value_y\"] != \"None\"] = df_catalog[\"quantity_y\"]\n",
    "\n",
    "df_catalog[\"value_rakuten\"][df_catalog[\"value_x\"] != \"None\"] = df_catalog[\"value_x\"]\n",
    "df_catalog[\"quantity_rakuten\"][df_catalog[\"value_x\"] != \"None\"] = df_catalog[\"quantity_x\"]\n",
    "\n",
    "df_catalog.head(40)"
   ]
  },
  {
   "cell_type": "code",
   "execution_count": 10,
   "metadata": {},
   "outputs": [
    {
     "output_type": "execute_result",
     "data": {
      "text/plain": "               isbn\nvalue_rakuten      \nNone            409",
      "text/html": "<div>\n<style scoped>\n    .dataframe tbody tr th:only-of-type {\n        vertical-align: middle;\n    }\n\n    .dataframe tbody tr th {\n        vertical-align: top;\n    }\n\n    .dataframe thead th {\n        text-align: right;\n    }\n</style>\n<table border=\"1\" class=\"dataframe\">\n  <thead>\n    <tr style=\"text-align: right;\">\n      <th></th>\n      <th>isbn</th>\n    </tr>\n    <tr>\n      <th>value_rakuten</th>\n      <th></th>\n    </tr>\n  </thead>\n  <tbody>\n    <tr>\n      <th>None</th>\n      <td>409</td>\n    </tr>\n  </tbody>\n</table>\n</div>"
     },
     "metadata": {},
     "execution_count": 10
    }
   ],
   "source": [
    "df_catalog[[\"isbn\",\"value_rakuten\"]].groupby(\"value_rakuten\").count().sort_values(by=\"isbn\", ascending=False).head(1)"
   ]
  },
  {
   "cell_type": "code",
   "execution_count": 11,
   "metadata": {},
   "outputs": [
    {
     "output_type": "execute_result",
     "data": {
      "text/plain": "                ean        isbn value_rakuten quantity_rakuten\n0     9782848331683  2848331682          None             None\n1     9782036518117  2036518117           0.9               18\n2     9782218926099  2218926091           2.9                8\n3     9782080648884  2080648888          9.89                8\n4     9780140707182  0140707182          2.93                5\n...             ...         ...           ...              ...\n2155  9780708819197  0708819192          None             None\n2156  9782011250285  2011250285          5.74                4\n2157  9782730404822  2730404821         14.95                2\n2158  9780807612774  0807612774          None             None\n2159  9789232023483  9232023482          12.0                2\n\n[2160 rows x 4 columns]",
      "text/html": "<div>\n<style scoped>\n    .dataframe tbody tr th:only-of-type {\n        vertical-align: middle;\n    }\n\n    .dataframe tbody tr th {\n        vertical-align: top;\n    }\n\n    .dataframe thead th {\n        text-align: right;\n    }\n</style>\n<table border=\"1\" class=\"dataframe\">\n  <thead>\n    <tr style=\"text-align: right;\">\n      <th></th>\n      <th>ean</th>\n      <th>isbn</th>\n      <th>value_rakuten</th>\n      <th>quantity_rakuten</th>\n    </tr>\n  </thead>\n  <tbody>\n    <tr>\n      <th>0</th>\n      <td>9782848331683</td>\n      <td>2848331682</td>\n      <td>None</td>\n      <td>None</td>\n    </tr>\n    <tr>\n      <th>1</th>\n      <td>9782036518117</td>\n      <td>2036518117</td>\n      <td>0.9</td>\n      <td>18</td>\n    </tr>\n    <tr>\n      <th>2</th>\n      <td>9782218926099</td>\n      <td>2218926091</td>\n      <td>2.9</td>\n      <td>8</td>\n    </tr>\n    <tr>\n      <th>3</th>\n      <td>9782080648884</td>\n      <td>2080648888</td>\n      <td>9.89</td>\n      <td>8</td>\n    </tr>\n    <tr>\n      <th>4</th>\n      <td>9780140707182</td>\n      <td>0140707182</td>\n      <td>2.93</td>\n      <td>5</td>\n    </tr>\n    <tr>\n      <th>...</th>\n      <td>...</td>\n      <td>...</td>\n      <td>...</td>\n      <td>...</td>\n    </tr>\n    <tr>\n      <th>2155</th>\n      <td>9780708819197</td>\n      <td>0708819192</td>\n      <td>None</td>\n      <td>None</td>\n    </tr>\n    <tr>\n      <th>2156</th>\n      <td>9782011250285</td>\n      <td>2011250285</td>\n      <td>5.74</td>\n      <td>4</td>\n    </tr>\n    <tr>\n      <th>2157</th>\n      <td>9782730404822</td>\n      <td>2730404821</td>\n      <td>14.95</td>\n      <td>2</td>\n    </tr>\n    <tr>\n      <th>2158</th>\n      <td>9780807612774</td>\n      <td>0807612774</td>\n      <td>None</td>\n      <td>None</td>\n    </tr>\n    <tr>\n      <th>2159</th>\n      <td>9789232023483</td>\n      <td>9232023482</td>\n      <td>12.0</td>\n      <td>2</td>\n    </tr>\n  </tbody>\n</table>\n<p>2160 rows × 4 columns</p>\n</div>"
     },
     "metadata": {},
     "execution_count": 11
    }
   ],
   "source": [
    "df_catalog = df_catalog.drop(columns=[\"value_x\",\"quantity_x\",\"value_y\",\"quantity_y\"])\n",
    "df_catalog"
   ]
  },
  {
   "cell_type": "markdown",
   "metadata": {},
   "source": [
    "---"
   ]
  },
  {
   "cell_type": "code",
   "execution_count": 12,
   "metadata": {},
   "outputs": [],
   "source": [
    "df_sales[\"ean\"] = df_sales[\"ean\"].astype(str).str.slice(0,-2)"
   ]
  },
  {
   "cell_type": "code",
   "execution_count": 13,
   "metadata": {},
   "outputs": [
    {
     "output_type": "execute_result",
     "data": {
      "text/plain": "sku                       object\nitem_price               float64\nsale_source               object\nship_country              object\nprinting_year              int64\nean                       object\nisbn                      object\ntitre                     object\ncentury                   object\ndewey_class                int64\nlabel_dewey_class         object\nretention_delay_years    float64\nship_world_region         object\ndtype: object"
     },
     "metadata": {},
     "execution_count": 13
    }
   ],
   "source": [
    "df_sales.dtypes"
   ]
  },
  {
   "cell_type": "code",
   "execution_count": 14,
   "metadata": {},
   "outputs": [],
   "source": [
    "df_tmp = df_sales[df_sales[\"isbn\"].notna()].reset_index().merge(df_catalog, left_index=True, right_index=True)"
   ]
  },
  {
   "cell_type": "code",
   "execution_count": 15,
   "metadata": {},
   "outputs": [
    {
     "output_type": "execute_result",
     "data": {
      "text/plain": "Index(['index', 'sku', 'item_price', 'sale_source', 'ship_country',\n       'printing_year', 'ean_x', 'isbn_x', 'titre', 'century', 'dewey_class',\n       'label_dewey_class', 'retention_delay_years', 'ship_world_region',\n       'ean_y', 'isbn_y', 'value_rakuten', 'quantity_rakuten'],\n      dtype='object')"
     },
     "metadata": {},
     "execution_count": 15
    }
   ],
   "source": [
    "df_tmp.columns"
   ]
  },
  {
   "cell_type": "code",
   "execution_count": 16,
   "metadata": {},
   "outputs": [],
   "source": [
    "df_tmp = df_tmp.drop(columns=(['sku', 'item_price', 'sale_source', 'ship_country',\n",
    "       'printing_year', 'titre',  'ean_x', 'isbn_x', 'century', 'dewey_class',\n",
    "       'retention_delay_years', 'ship_world_region', 'ean_y', 'isbn_y']))"
   ]
  },
  {
   "cell_type": "code",
   "execution_count": 17,
   "metadata": {},
   "outputs": [],
   "source": [
    "df = df_sales.merge(df_tmp, left_index=True, right_on=\"index\", how='left')"
   ]
  },
  {
   "cell_type": "code",
   "execution_count": 18,
   "metadata": {},
   "outputs": [
    {
     "output_type": "execute_result",
     "data": {
      "text/plain": "            sku  item_price sale_source ship_country  printing_year  \\\nNaN  R240146799       45.80    abebooks          NaN           1955   \nNaN  R240115614       30.90    abebooks          NaN           1928   \n0.0  R150216443       30.90    abebooks          NaN           1986   \nNaN  R320110344       30.90    abebooks          NaN           1929   \nNaN  R160131648       65.25    abebooks          NaN           1879   \n..          ...         ...         ...          ...            ...   \nNaN  RO60029238       35.80     rakuten          NaN           1957   \nNaN  R110108053       25.80     rakuten          NaN           1978   \nNaN  RO30116455       16.95     rakuten          NaN           1963   \nNaN  R320049974       16.95     rakuten          NaN           1987   \nNaN  RO30058208       25.80     rakuten          NaN           1976   \n\n               ean        isbn  \\\nNaN              n         NaN   \nNaN              n         NaN   \n0.0  9782080648884  2080648888   \nNaN              n         NaN   \nNaN              n         NaN   \n..             ...         ...   \nNaN              n         NaN   \nNaN              n         NaN   \nNaN              n         NaN   \nNaN              n         NaN   \nNaN              n         NaN   \n\n                                                 titre century  dewey_class  \\\nNaN                                  La défense accuse     XXe          800   \nNaN  LES OEUVRES COMPLETES EMILE ZOLA - LA CONFESSI...     XXe          800   \n0.0                              LES CENDRES BRULANTES     XXe          800   \nNaN  FABLES - PRECEDEES D'UNE NOTICE BIOGRAPHIQUE E...     XXe          800   \nNaN              CHOIX DE FABLES DE J. DE LA FONTAINE.    XIXe          800   \n..                                                 ...     ...          ...   \nNaN                 EXPERTISE D'EVALUATION IMMOBILIERE     XXe          600   \nNaN                        L'ENCYCLOPEDIE DU JARDINAGE     XXe          600   \nNaN  MADELEINE, QUELQUES RECETTES FINES RECETTES SP...     XXe          600   \nNaN   PLAQUETTE PUBLICITAIRE DU VEHICULE PEUGEOT 405 .     XXe          600   \nNaN                                                J 7     XXe          600   \n\n    label_dewey_class_x  retention_delay_years ship_world_region  index  \\\nNaN     800-Littérature               0.054758               NaN      0   \nNaN     800-Littérature               3.244420               NaN      1   \n0.0     800-Littérature               2.633867               NaN      2   \nNaN     800-Littérature               1.111590               NaN      3   \nNaN     800-Littérature               7.282833               NaN      4   \n..                  ...                    ...               ...    ...   \nNaN     600-Technologie              12.835308               NaN  11167   \nNaN     600-Technologie               1.900107               NaN  11168   \nNaN     600-Technologie               7.072014               NaN  11169   \nNaN     600-Technologie               5.240354               NaN  11170   \nNaN     600-Technologie              10.847588               NaN  11171   \n\n    label_dewey_class_y value_rakuten quantity_rakuten  \nNaN                 NaN           NaN              NaN  \nNaN                 NaN           NaN              NaN  \n0.0     800-Littérature          None             None  \nNaN                 NaN           NaN              NaN  \nNaN                 NaN           NaN              NaN  \n..                  ...           ...              ...  \nNaN                 NaN           NaN              NaN  \nNaN                 NaN           NaN              NaN  \nNaN                 NaN           NaN              NaN  \nNaN                 NaN           NaN              NaN  \nNaN                 NaN           NaN              NaN  \n\n[11172 rows x 17 columns]",
      "text/html": "<div>\n<style scoped>\n    .dataframe tbody tr th:only-of-type {\n        vertical-align: middle;\n    }\n\n    .dataframe tbody tr th {\n        vertical-align: top;\n    }\n\n    .dataframe thead th {\n        text-align: right;\n    }\n</style>\n<table border=\"1\" class=\"dataframe\">\n  <thead>\n    <tr style=\"text-align: right;\">\n      <th></th>\n      <th>sku</th>\n      <th>item_price</th>\n      <th>sale_source</th>\n      <th>ship_country</th>\n      <th>printing_year</th>\n      <th>ean</th>\n      <th>isbn</th>\n      <th>titre</th>\n      <th>century</th>\n      <th>dewey_class</th>\n      <th>label_dewey_class_x</th>\n      <th>retention_delay_years</th>\n      <th>ship_world_region</th>\n      <th>index</th>\n      <th>label_dewey_class_y</th>\n      <th>value_rakuten</th>\n      <th>quantity_rakuten</th>\n    </tr>\n  </thead>\n  <tbody>\n    <tr>\n      <th>NaN</th>\n      <td>R240146799</td>\n      <td>45.80</td>\n      <td>abebooks</td>\n      <td>NaN</td>\n      <td>1955</td>\n      <td>n</td>\n      <td>NaN</td>\n      <td>La défense accuse</td>\n      <td>XXe</td>\n      <td>800</td>\n      <td>800-Littérature</td>\n      <td>0.054758</td>\n      <td>NaN</td>\n      <td>0</td>\n      <td>NaN</td>\n      <td>NaN</td>\n      <td>NaN</td>\n    </tr>\n    <tr>\n      <th>NaN</th>\n      <td>R240115614</td>\n      <td>30.90</td>\n      <td>abebooks</td>\n      <td>NaN</td>\n      <td>1928</td>\n      <td>n</td>\n      <td>NaN</td>\n      <td>LES OEUVRES COMPLETES EMILE ZOLA - LA CONFESSI...</td>\n      <td>XXe</td>\n      <td>800</td>\n      <td>800-Littérature</td>\n      <td>3.244420</td>\n      <td>NaN</td>\n      <td>1</td>\n      <td>NaN</td>\n      <td>NaN</td>\n      <td>NaN</td>\n    </tr>\n    <tr>\n      <th>0.0</th>\n      <td>R150216443</td>\n      <td>30.90</td>\n      <td>abebooks</td>\n      <td>NaN</td>\n      <td>1986</td>\n      <td>9782080648884</td>\n      <td>2080648888</td>\n      <td>LES CENDRES BRULANTES</td>\n      <td>XXe</td>\n      <td>800</td>\n      <td>800-Littérature</td>\n      <td>2.633867</td>\n      <td>NaN</td>\n      <td>2</td>\n      <td>800-Littérature</td>\n      <td>None</td>\n      <td>None</td>\n    </tr>\n    <tr>\n      <th>NaN</th>\n      <td>R320110344</td>\n      <td>30.90</td>\n      <td>abebooks</td>\n      <td>NaN</td>\n      <td>1929</td>\n      <td>n</td>\n      <td>NaN</td>\n      <td>FABLES - PRECEDEES D'UNE NOTICE BIOGRAPHIQUE E...</td>\n      <td>XXe</td>\n      <td>800</td>\n      <td>800-Littérature</td>\n      <td>1.111590</td>\n      <td>NaN</td>\n      <td>3</td>\n      <td>NaN</td>\n      <td>NaN</td>\n      <td>NaN</td>\n    </tr>\n    <tr>\n      <th>NaN</th>\n      <td>R160131648</td>\n      <td>65.25</td>\n      <td>abebooks</td>\n      <td>NaN</td>\n      <td>1879</td>\n      <td>n</td>\n      <td>NaN</td>\n      <td>CHOIX DE FABLES DE J. DE LA FONTAINE.</td>\n      <td>XIXe</td>\n      <td>800</td>\n      <td>800-Littérature</td>\n      <td>7.282833</td>\n      <td>NaN</td>\n      <td>4</td>\n      <td>NaN</td>\n      <td>NaN</td>\n      <td>NaN</td>\n    </tr>\n    <tr>\n      <th>...</th>\n      <td>...</td>\n      <td>...</td>\n      <td>...</td>\n      <td>...</td>\n      <td>...</td>\n      <td>...</td>\n      <td>...</td>\n      <td>...</td>\n      <td>...</td>\n      <td>...</td>\n      <td>...</td>\n      <td>...</td>\n      <td>...</td>\n      <td>...</td>\n      <td>...</td>\n      <td>...</td>\n      <td>...</td>\n    </tr>\n    <tr>\n      <th>NaN</th>\n      <td>RO60029238</td>\n      <td>35.80</td>\n      <td>rakuten</td>\n      <td>NaN</td>\n      <td>1957</td>\n      <td>n</td>\n      <td>NaN</td>\n      <td>EXPERTISE D'EVALUATION IMMOBILIERE</td>\n      <td>XXe</td>\n      <td>600</td>\n      <td>600-Technologie</td>\n      <td>12.835308</td>\n      <td>NaN</td>\n      <td>11167</td>\n      <td>NaN</td>\n      <td>NaN</td>\n      <td>NaN</td>\n    </tr>\n    <tr>\n      <th>NaN</th>\n      <td>R110108053</td>\n      <td>25.80</td>\n      <td>rakuten</td>\n      <td>NaN</td>\n      <td>1978</td>\n      <td>n</td>\n      <td>NaN</td>\n      <td>L'ENCYCLOPEDIE DU JARDINAGE</td>\n      <td>XXe</td>\n      <td>600</td>\n      <td>600-Technologie</td>\n      <td>1.900107</td>\n      <td>NaN</td>\n      <td>11168</td>\n      <td>NaN</td>\n      <td>NaN</td>\n      <td>NaN</td>\n    </tr>\n    <tr>\n      <th>NaN</th>\n      <td>RO30116455</td>\n      <td>16.95</td>\n      <td>rakuten</td>\n      <td>NaN</td>\n      <td>1963</td>\n      <td>n</td>\n      <td>NaN</td>\n      <td>MADELEINE, QUELQUES RECETTES FINES RECETTES SP...</td>\n      <td>XXe</td>\n      <td>600</td>\n      <td>600-Technologie</td>\n      <td>7.072014</td>\n      <td>NaN</td>\n      <td>11169</td>\n      <td>NaN</td>\n      <td>NaN</td>\n      <td>NaN</td>\n    </tr>\n    <tr>\n      <th>NaN</th>\n      <td>R320049974</td>\n      <td>16.95</td>\n      <td>rakuten</td>\n      <td>NaN</td>\n      <td>1987</td>\n      <td>n</td>\n      <td>NaN</td>\n      <td>PLAQUETTE PUBLICITAIRE DU VEHICULE PEUGEOT 405 .</td>\n      <td>XXe</td>\n      <td>600</td>\n      <td>600-Technologie</td>\n      <td>5.240354</td>\n      <td>NaN</td>\n      <td>11170</td>\n      <td>NaN</td>\n      <td>NaN</td>\n      <td>NaN</td>\n    </tr>\n    <tr>\n      <th>NaN</th>\n      <td>RO30058208</td>\n      <td>25.80</td>\n      <td>rakuten</td>\n      <td>NaN</td>\n      <td>1976</td>\n      <td>n</td>\n      <td>NaN</td>\n      <td>J 7</td>\n      <td>XXe</td>\n      <td>600</td>\n      <td>600-Technologie</td>\n      <td>10.847588</td>\n      <td>NaN</td>\n      <td>11171</td>\n      <td>NaN</td>\n      <td>NaN</td>\n      <td>NaN</td>\n    </tr>\n  </tbody>\n</table>\n<p>11172 rows × 17 columns</p>\n</div>"
     },
     "metadata": {},
     "execution_count": 18
    }
   ],
   "source": [
    "df"
   ]
  },
  {
   "cell_type": "markdown",
   "metadata": {},
   "source": [
    "---"
   ],
   "execution_count": null,
   "outputs": []
  },
  {
   "cell_type": "code",
   "execution_count": 19,
   "metadata": {},
   "outputs": [
    {
     "output_type": "execute_result",
     "data": {
      "text/plain": "               sku  item_price   sale_source   ship_country  printing_year  \\\nNaN     RO40111821     1005.00      abebooks            NaN           1856   \nNaN     R260227837      905.00      abebooks            NaN           1873   \n1000.0  R240066654      705.00          ebay  United States           1993   \nNaN     RO30104851      605.00      abebooks            NaN           1882   \nNaN     R160112358      605.00      abebooks            NaN           1755   \n...            ...         ...           ...            ...            ...   \n181.0   RO90075629        7.00       lelivre         France           1968   \nNaN     ROD0076072        7.00       lelivre         France           1977   \n907.0   RO60132147        7.00  leslibraires            NaN           2007   \n553.0   RO90073530        7.00       lelivre         France           1962   \n673.0   RO80214481        6.24       rakuten            NaN           1990   \n\n                  ean        isbn  \\\nNaN                 n         NaN   \nNaN                 n         NaN   \n1000.0  9782869412040  2869412045   \nNaN                 n         NaN   \nNaN                 n         NaN   \n...               ...         ...   \n181.0   9782253005438  2253005436   \nNaN                 n         NaN   \n907.0   9782290004067  2290004065   \n553.0   9782253010777  2253010774   \n673.0   9782702118658  2702118658   \n\n                                                    titre century  \\\nNaN     TABLEAUX, STATUES, BAS-RELIEFS ET CAMEES DE LA...    XIXe   \nNaN     LES SAINT EVANGILES - 2 TOMES EN 2 VOLUMES (TO...    XIXe   \n1000.0  BLEUETTE LA PETITE FILLE MODELE DE LA COLLECTI...     XXe   \nNaN     L'ART - REVUE HEBDOMADAIRE ILLUSTREE 4 VOLUMES...    XIXe   \nNaN     TELLIAMED OU ENTRETIENS D'UN PHILOSOPHE INDIEN...  XVIIIe   \n...                                                   ...     ...   \n181.0                   ANTHOLOGIE DE LA POESIE FRANCAISE     XXe   \nNaN                                    METAL HURLANT N°23     XXe   \n907.0             PAROLES DE FEMMES, LA LIBERTE DU REGARD    XXIe   \n553.0                                               MOIRA     XXe   \n673.0               Alois Brunner - La haine irréductible     XXe   \n\n        dewey_class    label_dewey_class_x  retention_delay_years  \\\nNaN             700       700-Arts/Loisirs              10.825684   \nNaN             200          200-Religions               1.440139   \n1000.0            0        000-Généralités               4.920019   \nNaN             700       700-Arts/Loisirs               8.583338   \nNaN             100       100-Philo/Psycho               8.931053   \n...             ...                    ...                    ...   \n181.0           800        800-Littérature              11.469092   \nNaN               0        000-Généralités               9.347215   \n907.0           300  300-Sciences sociales               1.171824   \n553.0           800        800-Littérature              11.701815   \n673.0           800        800-Littérature               0.005476   \n\n       ship_world_region  index    label_dewey_class_y value_rakuten  \\\nNaN                  NaN   5288                    NaN           NaN   \nNaN                  NaN   6743                    NaN           NaN   \n1000.0  NORTHERN_AMERICA   4584        000-Généralités          None   \nNaN                  NaN   5428                    NaN           NaN   \nNaN                  NaN  10042                    NaN           NaN   \n...                  ...    ...                    ...           ...   \n181.0             FRANCE    843        800-Littérature           8.9   \nNaN               FRANCE   4938                    NaN           NaN   \n907.0                NaN   3753  300-Sciences sociales           0.9   \n553.0             FRANCE   2408        800-Littérature           3.0   \n673.0                NaN   2609        800-Littérature          None   \n\n       quantity_rakuten  \nNaN                 NaN  \nNaN                 NaN  \n1000.0             None  \nNaN                 NaN  \nNaN                 NaN  \n...                 ...  \n181.0                 3  \nNaN                 NaN  \n907.0                11  \n553.0                12  \n673.0              None  \n\n[11172 rows x 17 columns]",
      "text/html": "<div>\n<style scoped>\n    .dataframe tbody tr th:only-of-type {\n        vertical-align: middle;\n    }\n\n    .dataframe tbody tr th {\n        vertical-align: top;\n    }\n\n    .dataframe thead th {\n        text-align: right;\n    }\n</style>\n<table border=\"1\" class=\"dataframe\">\n  <thead>\n    <tr style=\"text-align: right;\">\n      <th></th>\n      <th>sku</th>\n      <th>item_price</th>\n      <th>sale_source</th>\n      <th>ship_country</th>\n      <th>printing_year</th>\n      <th>ean</th>\n      <th>isbn</th>\n      <th>titre</th>\n      <th>century</th>\n      <th>dewey_class</th>\n      <th>label_dewey_class_x</th>\n      <th>retention_delay_years</th>\n      <th>ship_world_region</th>\n      <th>index</th>\n      <th>label_dewey_class_y</th>\n      <th>value_rakuten</th>\n      <th>quantity_rakuten</th>\n    </tr>\n  </thead>\n  <tbody>\n    <tr>\n      <th>NaN</th>\n      <td>RO40111821</td>\n      <td>1005.00</td>\n      <td>abebooks</td>\n      <td>NaN</td>\n      <td>1856</td>\n      <td>n</td>\n      <td>NaN</td>\n      <td>TABLEAUX, STATUES, BAS-RELIEFS ET CAMEES DE LA...</td>\n      <td>XIXe</td>\n      <td>700</td>\n      <td>700-Arts/Loisirs</td>\n      <td>10.825684</td>\n      <td>NaN</td>\n      <td>5288</td>\n      <td>NaN</td>\n      <td>NaN</td>\n      <td>NaN</td>\n    </tr>\n    <tr>\n      <th>NaN</th>\n      <td>R260227837</td>\n      <td>905.00</td>\n      <td>abebooks</td>\n      <td>NaN</td>\n      <td>1873</td>\n      <td>n</td>\n      <td>NaN</td>\n      <td>LES SAINT EVANGILES - 2 TOMES EN 2 VOLUMES (TO...</td>\n      <td>XIXe</td>\n      <td>200</td>\n      <td>200-Religions</td>\n      <td>1.440139</td>\n      <td>NaN</td>\n      <td>6743</td>\n      <td>NaN</td>\n      <td>NaN</td>\n      <td>NaN</td>\n    </tr>\n    <tr>\n      <th>1000.0</th>\n      <td>R240066654</td>\n      <td>705.00</td>\n      <td>ebay</td>\n      <td>United States</td>\n      <td>1993</td>\n      <td>9782869412040</td>\n      <td>2869412045</td>\n      <td>BLEUETTE LA PETITE FILLE MODELE DE LA COLLECTI...</td>\n      <td>XXe</td>\n      <td>0</td>\n      <td>000-Généralités</td>\n      <td>4.920019</td>\n      <td>NORTHERN_AMERICA</td>\n      <td>4584</td>\n      <td>000-Généralités</td>\n      <td>None</td>\n      <td>None</td>\n    </tr>\n    <tr>\n      <th>NaN</th>\n      <td>RO30104851</td>\n      <td>605.00</td>\n      <td>abebooks</td>\n      <td>NaN</td>\n      <td>1882</td>\n      <td>n</td>\n      <td>NaN</td>\n      <td>L'ART - REVUE HEBDOMADAIRE ILLUSTREE 4 VOLUMES...</td>\n      <td>XIXe</td>\n      <td>700</td>\n      <td>700-Arts/Loisirs</td>\n      <td>8.583338</td>\n      <td>NaN</td>\n      <td>5428</td>\n      <td>NaN</td>\n      <td>NaN</td>\n      <td>NaN</td>\n    </tr>\n    <tr>\n      <th>NaN</th>\n      <td>R160112358</td>\n      <td>605.00</td>\n      <td>abebooks</td>\n      <td>NaN</td>\n      <td>1755</td>\n      <td>n</td>\n      <td>NaN</td>\n      <td>TELLIAMED OU ENTRETIENS D'UN PHILOSOPHE INDIEN...</td>\n      <td>XVIIIe</td>\n      <td>100</td>\n      <td>100-Philo/Psycho</td>\n      <td>8.931053</td>\n      <td>NaN</td>\n      <td>10042</td>\n      <td>NaN</td>\n      <td>NaN</td>\n      <td>NaN</td>\n    </tr>\n    <tr>\n      <th>...</th>\n      <td>...</td>\n      <td>...</td>\n      <td>...</td>\n      <td>...</td>\n      <td>...</td>\n      <td>...</td>\n      <td>...</td>\n      <td>...</td>\n      <td>...</td>\n      <td>...</td>\n      <td>...</td>\n      <td>...</td>\n      <td>...</td>\n      <td>...</td>\n      <td>...</td>\n      <td>...</td>\n      <td>...</td>\n    </tr>\n    <tr>\n      <th>181.0</th>\n      <td>RO90075629</td>\n      <td>7.00</td>\n      <td>lelivre</td>\n      <td>France</td>\n      <td>1968</td>\n      <td>9782253005438</td>\n      <td>2253005436</td>\n      <td>ANTHOLOGIE DE LA POESIE FRANCAISE</td>\n      <td>XXe</td>\n      <td>800</td>\n      <td>800-Littérature</td>\n      <td>11.469092</td>\n      <td>FRANCE</td>\n      <td>843</td>\n      <td>800-Littérature</td>\n      <td>8.9</td>\n      <td>3</td>\n    </tr>\n    <tr>\n      <th>NaN</th>\n      <td>ROD0076072</td>\n      <td>7.00</td>\n      <td>lelivre</td>\n      <td>France</td>\n      <td>1977</td>\n      <td>n</td>\n      <td>NaN</td>\n      <td>METAL HURLANT N°23</td>\n      <td>XXe</td>\n      <td>0</td>\n      <td>000-Généralités</td>\n      <td>9.347215</td>\n      <td>FRANCE</td>\n      <td>4938</td>\n      <td>NaN</td>\n      <td>NaN</td>\n      <td>NaN</td>\n    </tr>\n    <tr>\n      <th>907.0</th>\n      <td>RO60132147</td>\n      <td>7.00</td>\n      <td>leslibraires</td>\n      <td>NaN</td>\n      <td>2007</td>\n      <td>9782290004067</td>\n      <td>2290004065</td>\n      <td>PAROLES DE FEMMES, LA LIBERTE DU REGARD</td>\n      <td>XXIe</td>\n      <td>300</td>\n      <td>300-Sciences sociales</td>\n      <td>1.171824</td>\n      <td>NaN</td>\n      <td>3753</td>\n      <td>300-Sciences sociales</td>\n      <td>0.9</td>\n      <td>11</td>\n    </tr>\n    <tr>\n      <th>553.0</th>\n      <td>RO90073530</td>\n      <td>7.00</td>\n      <td>lelivre</td>\n      <td>France</td>\n      <td>1962</td>\n      <td>9782253010777</td>\n      <td>2253010774</td>\n      <td>MOIRA</td>\n      <td>XXe</td>\n      <td>800</td>\n      <td>800-Littérature</td>\n      <td>11.701815</td>\n      <td>FRANCE</td>\n      <td>2408</td>\n      <td>800-Littérature</td>\n      <td>3.0</td>\n      <td>12</td>\n    </tr>\n    <tr>\n      <th>673.0</th>\n      <td>RO80214481</td>\n      <td>6.24</td>\n      <td>rakuten</td>\n      <td>NaN</td>\n      <td>1990</td>\n      <td>9782702118658</td>\n      <td>2702118658</td>\n      <td>Alois Brunner - La haine irréductible</td>\n      <td>XXe</td>\n      <td>800</td>\n      <td>800-Littérature</td>\n      <td>0.005476</td>\n      <td>NaN</td>\n      <td>2609</td>\n      <td>800-Littérature</td>\n      <td>None</td>\n      <td>None</td>\n    </tr>\n  </tbody>\n</table>\n<p>11172 rows × 17 columns</p>\n</div>"
     },
     "metadata": {},
     "execution_count": 19
    }
   ],
   "source": [
    "df.sort_values(by=\"item_price\", ascending=False)"
   ]
  },
  {
   "cell_type": "code",
   "execution_count": 20,
   "metadata": {},
   "outputs": [],
   "source": [
    "df[\"url_photo\"] = \"https://www.le-livre.fr/photos/\" + df[\"sku\"].str.slice(0,3) + \"/\" + df[\"sku\"] + \".jpg\""
   ]
  },
  {
   "cell_type": "code",
   "execution_count": 21,
   "metadata": {},
   "outputs": [],
   "source": [
    "df.to_csv(\"5-dataset.csv\", index=False)"
   ]
  },
  {
   "cell_type": "markdown",
   "metadata": {},
   "source": [
    "---"
   ],
   "execution_count": null,
   "outputs": []
  },
  {
   "cell_type": "markdown",
   "metadata": {},
   "source": [
    "# Analyse"
   ],
   "execution_count": null,
   "outputs": []
  },
  {
   "cell_type": "code",
   "execution_count": 22,
   "metadata": {},
   "outputs": [
    {
     "output_type": "execute_result",
     "data": {
      "text/plain": "sku                       object\nitem_price               float64\nsale_source               object\nship_country              object\nprinting_year              int64\nean                       object\nisbn                      object\ntitre                     object\ncentury                   object\ndewey_class                int64\nlabel_dewey_class_x       object\nretention_delay_years    float64\nship_world_region         object\nindex                      int64\nlabel_dewey_class_y       object\nvalue_rakuten             object\nquantity_rakuten          object\nurl_photo                 object\ndtype: object"
     },
     "metadata": {},
     "execution_count": 22
    }
   ],
   "source": [
    "df.dtypes"
   ]
  }
 ]
}