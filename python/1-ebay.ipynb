{
 "nbformat": 4,
 "nbformat_minor": 2,
 "metadata": {
  "language_info": {
   "name": "python",
   "codemirror_mode": {
    "name": "ipython",
    "version": 3
   },
   "version": "3.7.6-final"
  },
  "orig_nbformat": 2,
  "file_extension": ".py",
  "mimetype": "text/x-python",
  "name": "python",
  "npconvert_exporter": "python",
  "pygments_lexer": "ipython3",
  "version": 3,
  "kernelspec": {
   "name": "python3",
   "display_name": "Python 3"
  }
 },
 "cells": [
  {
   "cell_type": "markdown",
   "execution_count": null,
   "metadata": {},
   "outputs": [],
   "source": [
    "# eBay"
   ]
  },
  {
   "cell_type": "markdown",
   "execution_count": null,
   "metadata": {},
   "outputs": [],
   "source": [
    "---"
   ]
  },
  {
   "cell_type": "code",
   "execution_count": 2,
   "metadata": {},
   "outputs": [],
   "source": [
    "import pandas as pd\n",
    "import os\n",
    "import glob"
   ]
  },
  {
   "cell_type": "code",
   "execution_count": 3,
   "metadata": {},
   "outputs": [
    {
     "output_type": "execute_result",
     "data": {
      "text/plain": "(2142, 49)"
     },
     "metadata": {},
     "execution_count": 3
    }
   ],
   "source": [
    "os.chdir(\"C:\\Adrian - GDrive\\Professionnel\\Formation\\Informatique - Digital\\Data University\\Projet certification\\src\\\\ebay\")\n",
    "\n",
    "df_raw = pd.DataFrame(columns=[], index=[])\n",
    "\n",
    "for file in glob.glob(\"*.csv\"):\n",
    "    #print(file)\n",
    "    csv = pd.read_csv(file, sep=\";\", encoding='latin-1')\n",
    "    df_raw = df_raw.append(csv, ignore_index=True)\n",
    "\n",
    "df_raw.shape\n",
    ""
   ]
  },
  {
   "cell_type": "code",
   "execution_count": 4,
   "metadata": {},
   "outputs": [],
   "source": [
    "df = df_raw"
   ]
  },
  {
   "cell_type": "code",
   "execution_count": 5,
   "metadata": {},
   "outputs": [
    {
     "output_type": "execute_result",
     "data": {
      "text/plain": "Index(['Numéro de la fiche de vente', 'Pseudo', 'Nom complet de l'acheteur',\n       'E-mail de l'acheteur', 'Acheteur - Adresse 1', 'Acheteur - Adresse 2',\n       'Ville', 'Région', 'Code postal', 'Pays', 'Code de la commande',\n       'Numéro de l'objet', 'Code de la transaction ', 'Titre de l'objet',\n       'Quantité', 'Prix de vente', 'Taux de TVA inclus',\n       'Livraison et expédition', 'Assurance', 'Taxe perçue par eBay',\n       'Prix total', 'Mode de paiement', 'Code de transaction PayPal',\n       'Numéro de la facture', 'Date de facturation', 'Date de vente',\n       'Date de la finalisation de l'achat', 'Payé le', 'Envoyé le',\n       'Service de livraison', 'Évaluation laissée', 'Évaluation reçue',\n       'Mes commentaires', 'Libellé personnalisé', 'Commentaires',\n       'Type de code produit', 'Valeur de code produit', 'Product ID Value 2',\n       'Détails des différentes versions', 'Code de référence produit',\n       'Numéro de suivi ',\n       'Code de référence pour la livraison internationale',\n       'Adresse de livraison 1', 'Adresse de livraison 2',\n       'Ville de livraison', 'Région de livraison', 'Code postal de livraison',\n       'Pays de livraison', 'Téléphone'],\n      dtype='object')"
     },
     "metadata": {},
     "execution_count": 5
    }
   ],
   "source": [
    "df.columns"
   ]
  },
  {
   "cell_type": "code",
   "execution_count": 6,
   "metadata": {},
   "outputs": [],
   "source": [
    "df = df.drop(columns=([\"Numéro de la fiche de vente\", \"Pseudo\", \"Nom complet de l'acheteur\", \"E-mail de l'acheteur\", \"Acheteur - Adresse 1\", \"Acheteur - Adresse 2\", \"Ville\", \"Région\", \"Code postal\", \"Pays\", \"Code de la commande\", \"Numéro de l'objet\", \"Code de la transaction \", \"Titre de l'objet\", \"Quantité\", \"Taux de TVA inclus\", \"Livraison et expédition\", \"Assurance\", \"Taxe perçue par eBay\", \"Prix total\", \"Mode de paiement\", \"Code de transaction PayPal\", \"Numéro de la facture\", \"Date de facturation\", \"Date de la finalisation de l'achat\", \"Payé le\", \"Envoyé le\", \"Service de livraison\", \"Évaluation laissée\", \"Évaluation reçue\", \"Mes commentaires\", \"Commentaires\", \"Type de code produit\", \"Valeur de code produit\", \"Product ID Value 2\", \"Détails des différentes versions\", \"Code de référence produit\", \"Numéro de suivi \", \"Code de référence pour la livraison internationale\", \"Adresse de livraison 1\", \"Adresse de livraison 2\", \"Ville de livraison\", \"Région de livraison\", \"Code postal de livraison\", \"Téléphone\"]))"
   ]
  },
  {
   "cell_type": "code",
   "execution_count": 7,
   "metadata": {},
   "outputs": [
    {
     "output_type": "execute_result",
     "data": {
      "text/plain": "  Prix de vente Date de vente Libellé personnalisé      Pays de livraison\n0     16,00 EUR    01-déc.-18           R160072377             États-Unis\n1     20,00 EUR    01-déc.-18           ROD0059054  France métropolitaine\n2     20,00 EUR    01-déc.-18           R200010391  France métropolitaine\n3     25,00 EUR    02-déc.-18           RO20153259  France métropolitaine\n4     55,00 EUR    02-déc.-18           RO30146771  France métropolitaine",
      "text/html": "<div>\n<style scoped>\n    .dataframe tbody tr th:only-of-type {\n        vertical-align: middle;\n    }\n\n    .dataframe tbody tr th {\n        vertical-align: top;\n    }\n\n    .dataframe thead th {\n        text-align: right;\n    }\n</style>\n<table border=\"1\" class=\"dataframe\">\n  <thead>\n    <tr style=\"text-align: right;\">\n      <th></th>\n      <th>Prix de vente</th>\n      <th>Date de vente</th>\n      <th>Libellé personnalisé</th>\n      <th>Pays de livraison</th>\n    </tr>\n  </thead>\n  <tbody>\n    <tr>\n      <th>0</th>\n      <td>16,00 EUR</td>\n      <td>01-déc.-18</td>\n      <td>R160072377</td>\n      <td>États-Unis</td>\n    </tr>\n    <tr>\n      <th>1</th>\n      <td>20,00 EUR</td>\n      <td>01-déc.-18</td>\n      <td>ROD0059054</td>\n      <td>France métropolitaine</td>\n    </tr>\n    <tr>\n      <th>2</th>\n      <td>20,00 EUR</td>\n      <td>01-déc.-18</td>\n      <td>R200010391</td>\n      <td>France métropolitaine</td>\n    </tr>\n    <tr>\n      <th>3</th>\n      <td>25,00 EUR</td>\n      <td>02-déc.-18</td>\n      <td>RO20153259</td>\n      <td>France métropolitaine</td>\n    </tr>\n    <tr>\n      <th>4</th>\n      <td>55,00 EUR</td>\n      <td>02-déc.-18</td>\n      <td>RO30146771</td>\n      <td>France métropolitaine</td>\n    </tr>\n  </tbody>\n</table>\n</div>"
     },
     "metadata": {},
     "execution_count": 7
    }
   ],
   "source": [
    "df.head()"
   ]
  },
  {
   "cell_type": "code",
   "execution_count": 8,
   "metadata": {},
   "outputs": [
    {
     "output_type": "execute_result",
     "data": {
      "text/plain": "Prix de vente           object\nDate de vente           object\nLibellé personnalisé    object\nPays de livraison       object\ndtype: object"
     },
     "metadata": {},
     "execution_count": 8
    }
   ],
   "source": [
    "df.dtypes"
   ]
  },
  {
   "cell_type": "code",
   "execution_count": 9,
   "metadata": {},
   "outputs": [
    {
     "output_type": "execute_result",
     "data": {
      "text/plain": "       Prix de vente\ncount    2142.000000\nmean       39.526937\nstd        45.809470\nmin         7.000000\n25%        20.900000\n50%        30.900000\n75%        45.800000\nmax      1506.000000",
      "text/html": "<div>\n<style scoped>\n    .dataframe tbody tr th:only-of-type {\n        vertical-align: middle;\n    }\n\n    .dataframe tbody tr th {\n        vertical-align: top;\n    }\n\n    .dataframe thead th {\n        text-align: right;\n    }\n</style>\n<table border=\"1\" class=\"dataframe\">\n  <thead>\n    <tr style=\"text-align: right;\">\n      <th></th>\n      <th>Prix de vente</th>\n    </tr>\n  </thead>\n  <tbody>\n    <tr>\n      <th>count</th>\n      <td>2142.000000</td>\n    </tr>\n    <tr>\n      <th>mean</th>\n      <td>39.526937</td>\n    </tr>\n    <tr>\n      <th>std</th>\n      <td>45.809470</td>\n    </tr>\n    <tr>\n      <th>min</th>\n      <td>7.000000</td>\n    </tr>\n    <tr>\n      <th>25%</th>\n      <td>20.900000</td>\n    </tr>\n    <tr>\n      <th>50%</th>\n      <td>30.900000</td>\n    </tr>\n    <tr>\n      <th>75%</th>\n      <td>45.800000</td>\n    </tr>\n    <tr>\n      <th>max</th>\n      <td>1506.000000</td>\n    </tr>\n  </tbody>\n</table>\n</div>"
     },
     "metadata": {},
     "execution_count": 9
    }
   ],
   "source": [
    "df[\"Prix de vente\"] = df[\"Prix de vente\"].str.replace(\",\",\".\").str.replace(\" \",\"\").str.slice(0,-4).astype(float)\n",
    "df.describe()"
   ]
  },
  {
   "cell_type": "code",
   "execution_count": 10,
   "metadata": {},
   "outputs": [
    {
     "output_type": "execute_result",
     "data": {
      "text/plain": "      Prix de vente Date de vente Libellé personnalisé      Pays de livraison\n0              16.0    2018-12-01           R160072377             États-Unis\n1              20.0    2018-12-01           ROD0059054  France métropolitaine\n2              20.0    2018-12-01           R200010391  France métropolitaine\n3              25.0    2018-12-02           RO20153259  France métropolitaine\n4              55.0    2018-12-02           RO30146771  France métropolitaine\n...             ...           ...                  ...                    ...\n2137           16.9    2019-08-31           R260147914  France métropolitaine\n2138           45.8    2019-08-31           RO80091170             États-Unis\n2139           25.8    2019-08-31           R150169509  France métropolitaine\n2140           20.9    2019-08-31           R300066307            Royaume-Uni\n2141           25.8    2019-08-31           RO30147008  France métropolitaine\n\n[2142 rows x 4 columns]",
      "text/html": "<div>\n<style scoped>\n    .dataframe tbody tr th:only-of-type {\n        vertical-align: middle;\n    }\n\n    .dataframe tbody tr th {\n        vertical-align: top;\n    }\n\n    .dataframe thead th {\n        text-align: right;\n    }\n</style>\n<table border=\"1\" class=\"dataframe\">\n  <thead>\n    <tr style=\"text-align: right;\">\n      <th></th>\n      <th>Prix de vente</th>\n      <th>Date de vente</th>\n      <th>Libellé personnalisé</th>\n      <th>Pays de livraison</th>\n    </tr>\n  </thead>\n  <tbody>\n    <tr>\n      <th>0</th>\n      <td>16.0</td>\n      <td>2018-12-01</td>\n      <td>R160072377</td>\n      <td>États-Unis</td>\n    </tr>\n    <tr>\n      <th>1</th>\n      <td>20.0</td>\n      <td>2018-12-01</td>\n      <td>ROD0059054</td>\n      <td>France métropolitaine</td>\n    </tr>\n    <tr>\n      <th>2</th>\n      <td>20.0</td>\n      <td>2018-12-01</td>\n      <td>R200010391</td>\n      <td>France métropolitaine</td>\n    </tr>\n    <tr>\n      <th>3</th>\n      <td>25.0</td>\n      <td>2018-12-02</td>\n      <td>RO20153259</td>\n      <td>France métropolitaine</td>\n    </tr>\n    <tr>\n      <th>4</th>\n      <td>55.0</td>\n      <td>2018-12-02</td>\n      <td>RO30146771</td>\n      <td>France métropolitaine</td>\n    </tr>\n    <tr>\n      <th>...</th>\n      <td>...</td>\n      <td>...</td>\n      <td>...</td>\n      <td>...</td>\n    </tr>\n    <tr>\n      <th>2137</th>\n      <td>16.9</td>\n      <td>2019-08-31</td>\n      <td>R260147914</td>\n      <td>France métropolitaine</td>\n    </tr>\n    <tr>\n      <th>2138</th>\n      <td>45.8</td>\n      <td>2019-08-31</td>\n      <td>RO80091170</td>\n      <td>États-Unis</td>\n    </tr>\n    <tr>\n      <th>2139</th>\n      <td>25.8</td>\n      <td>2019-08-31</td>\n      <td>R150169509</td>\n      <td>France métropolitaine</td>\n    </tr>\n    <tr>\n      <th>2140</th>\n      <td>20.9</td>\n      <td>2019-08-31</td>\n      <td>R300066307</td>\n      <td>Royaume-Uni</td>\n    </tr>\n    <tr>\n      <th>2141</th>\n      <td>25.8</td>\n      <td>2019-08-31</td>\n      <td>RO30147008</td>\n      <td>France métropolitaine</td>\n    </tr>\n  </tbody>\n</table>\n<p>2142 rows × 4 columns</p>\n</div>"
     },
     "metadata": {},
     "execution_count": 10
    }
   ],
   "source": [
    "df['Date de vente'] = df['Date de vente'].str.replace(\"déc.\",\"12\").str.replace(\"janv.\",\"01\").str.replace(\"févr.\",\"02\").str.replace(\"mars\",\"03\").str.replace(\"avr.\",\"04\").str.replace(\"mai\",\"05\").str.replace(\"juin\",\"06\").str.replace(\"juil.\",\"07\").str.replace(\"août\",\"08\")\n",
    "df['Date de vente'] = pd.to_datetime(df['Date de vente'], format=\"%d-%m-%y\")\n",
    "df"
   ]
  },
  {
   "cell_type": "code",
   "execution_count": 11,
   "metadata": {},
   "outputs": [
    {
     "output_type": "execute_result",
     "data": {
      "text/plain": "      Prix de vente Date de vente Libellé personnalisé Pays de livraison\n0              16.0    2018-12-01           R160072377        États-Unis\n1              20.0    2018-12-01           ROD0059054            France\n2              20.0    2018-12-01           R200010391            France\n3              25.0    2018-12-02           RO20153259            France\n4              55.0    2018-12-02           RO30146771            France\n...             ...           ...                  ...               ...\n2137           16.9    2019-08-31           R260147914            France\n2138           45.8    2019-08-31           RO80091170        États-Unis\n2139           25.8    2019-08-31           R150169509            France\n2140           20.9    2019-08-31           R300066307       Royaume-Uni\n2141           25.8    2019-08-31           RO30147008            France\n\n[2142 rows x 4 columns]",
      "text/html": "<div>\n<style scoped>\n    .dataframe tbody tr th:only-of-type {\n        vertical-align: middle;\n    }\n\n    .dataframe tbody tr th {\n        vertical-align: top;\n    }\n\n    .dataframe thead th {\n        text-align: right;\n    }\n</style>\n<table border=\"1\" class=\"dataframe\">\n  <thead>\n    <tr style=\"text-align: right;\">\n      <th></th>\n      <th>Prix de vente</th>\n      <th>Date de vente</th>\n      <th>Libellé personnalisé</th>\n      <th>Pays de livraison</th>\n    </tr>\n  </thead>\n  <tbody>\n    <tr>\n      <th>0</th>\n      <td>16.0</td>\n      <td>2018-12-01</td>\n      <td>R160072377</td>\n      <td>États-Unis</td>\n    </tr>\n    <tr>\n      <th>1</th>\n      <td>20.0</td>\n      <td>2018-12-01</td>\n      <td>ROD0059054</td>\n      <td>France</td>\n    </tr>\n    <tr>\n      <th>2</th>\n      <td>20.0</td>\n      <td>2018-12-01</td>\n      <td>R200010391</td>\n      <td>France</td>\n    </tr>\n    <tr>\n      <th>3</th>\n      <td>25.0</td>\n      <td>2018-12-02</td>\n      <td>RO20153259</td>\n      <td>France</td>\n    </tr>\n    <tr>\n      <th>4</th>\n      <td>55.0</td>\n      <td>2018-12-02</td>\n      <td>RO30146771</td>\n      <td>France</td>\n    </tr>\n    <tr>\n      <th>...</th>\n      <td>...</td>\n      <td>...</td>\n      <td>...</td>\n      <td>...</td>\n    </tr>\n    <tr>\n      <th>2137</th>\n      <td>16.9</td>\n      <td>2019-08-31</td>\n      <td>R260147914</td>\n      <td>France</td>\n    </tr>\n    <tr>\n      <th>2138</th>\n      <td>45.8</td>\n      <td>2019-08-31</td>\n      <td>RO80091170</td>\n      <td>États-Unis</td>\n    </tr>\n    <tr>\n      <th>2139</th>\n      <td>25.8</td>\n      <td>2019-08-31</td>\n      <td>R150169509</td>\n      <td>France</td>\n    </tr>\n    <tr>\n      <th>2140</th>\n      <td>20.9</td>\n      <td>2019-08-31</td>\n      <td>R300066307</td>\n      <td>Royaume-Uni</td>\n    </tr>\n    <tr>\n      <th>2141</th>\n      <td>25.8</td>\n      <td>2019-08-31</td>\n      <td>RO30147008</td>\n      <td>France</td>\n    </tr>\n  </tbody>\n</table>\n<p>2142 rows × 4 columns</p>\n</div>"
     },
     "metadata": {},
     "execution_count": 11
    }
   ],
   "source": [
    "df[\"Pays de livraison\"] = df[\"Pays de livraison\"].str.replace(\"France métropolitaine\",\"France\")\n",
    "df"
   ]
  },
  {
   "cell_type": "code",
   "execution_count": 12,
   "metadata": {},
   "outputs": [
    {
     "output_type": "execute_result",
     "data": {
      "text/plain": "      Id  Code Alpha2 Alpha3             nom_fr_fr              nom_en_gb\n0      1     4     AF    AFG           Afghanistan            Afghanistan\n1      2     8     AL    ALB               Albanie                Albania\n2      3    10     AQ    ATA           Antarctique             Antarctica\n3      4    12     DZ    DZA               Algérie                Algeria\n4      5    16     AS    ASM     Samoa Américaines         American Samoa\n..   ...   ...    ...    ...                   ...                    ...\n236  237   876     WF    WLF      Wallis et Futuna      Wallis and Futuna\n237  238   882     WS    WSM                 Samoa                  Samoa\n238  239   887     YE    YEM                 Yémen                  Yemen\n239  240   891     CS    SCG  Serbie-et-Monténégro  Serbia and Montenegro\n240  241   894     ZM    ZMB                Zambie                 Zambia\n\n[241 rows x 6 columns]",
      "text/html": "<div>\n<style scoped>\n    .dataframe tbody tr th:only-of-type {\n        vertical-align: middle;\n    }\n\n    .dataframe tbody tr th {\n        vertical-align: top;\n    }\n\n    .dataframe thead th {\n        text-align: right;\n    }\n</style>\n<table border=\"1\" class=\"dataframe\">\n  <thead>\n    <tr style=\"text-align: right;\">\n      <th></th>\n      <th>Id</th>\n      <th>Code</th>\n      <th>Alpha2</th>\n      <th>Alpha3</th>\n      <th>nom_fr_fr</th>\n      <th>nom_en_gb</th>\n    </tr>\n  </thead>\n  <tbody>\n    <tr>\n      <th>0</th>\n      <td>1</td>\n      <td>4</td>\n      <td>AF</td>\n      <td>AFG</td>\n      <td>Afghanistan</td>\n      <td>Afghanistan</td>\n    </tr>\n    <tr>\n      <th>1</th>\n      <td>2</td>\n      <td>8</td>\n      <td>AL</td>\n      <td>ALB</td>\n      <td>Albanie</td>\n      <td>Albania</td>\n    </tr>\n    <tr>\n      <th>2</th>\n      <td>3</td>\n      <td>10</td>\n      <td>AQ</td>\n      <td>ATA</td>\n      <td>Antarctique</td>\n      <td>Antarctica</td>\n    </tr>\n    <tr>\n      <th>3</th>\n      <td>4</td>\n      <td>12</td>\n      <td>DZ</td>\n      <td>DZA</td>\n      <td>Algérie</td>\n      <td>Algeria</td>\n    </tr>\n    <tr>\n      <th>4</th>\n      <td>5</td>\n      <td>16</td>\n      <td>AS</td>\n      <td>ASM</td>\n      <td>Samoa Américaines</td>\n      <td>American Samoa</td>\n    </tr>\n    <tr>\n      <th>...</th>\n      <td>...</td>\n      <td>...</td>\n      <td>...</td>\n      <td>...</td>\n      <td>...</td>\n      <td>...</td>\n    </tr>\n    <tr>\n      <th>236</th>\n      <td>237</td>\n      <td>876</td>\n      <td>WF</td>\n      <td>WLF</td>\n      <td>Wallis et Futuna</td>\n      <td>Wallis and Futuna</td>\n    </tr>\n    <tr>\n      <th>237</th>\n      <td>238</td>\n      <td>882</td>\n      <td>WS</td>\n      <td>WSM</td>\n      <td>Samoa</td>\n      <td>Samoa</td>\n    </tr>\n    <tr>\n      <th>238</th>\n      <td>239</td>\n      <td>887</td>\n      <td>YE</td>\n      <td>YEM</td>\n      <td>Yémen</td>\n      <td>Yemen</td>\n    </tr>\n    <tr>\n      <th>239</th>\n      <td>240</td>\n      <td>891</td>\n      <td>CS</td>\n      <td>SCG</td>\n      <td>Serbie-et-Monténégro</td>\n      <td>Serbia and Montenegro</td>\n    </tr>\n    <tr>\n      <th>240</th>\n      <td>241</td>\n      <td>894</td>\n      <td>ZM</td>\n      <td>ZMB</td>\n      <td>Zambie</td>\n      <td>Zambia</td>\n    </tr>\n  </tbody>\n</table>\n<p>241 rows × 6 columns</p>\n</div>"
     },
     "metadata": {},
     "execution_count": 12
    }
   ],
   "source": [
    "os.chdir(\"C:\\Adrian - GDrive\\Professionnel\\Formation\\Informatique - Digital\\Data University\\Projet certification\\src\")\n",
    "df_country = pd.read_csv(\"sql-pays.csv\")\n",
    "df_country"
   ]
  },
  {
   "cell_type": "code",
   "execution_count": 13,
   "metadata": {},
   "outputs": [
    {
     "output_type": "execute_result",
     "data": {
      "text/plain": "Index(['Prix de vente', 'Date de vente', 'Libellé personnalisé',\n       'Pays de livraison', 'Id', 'Code', 'Alpha2', 'Alpha3', 'nom_fr_fr',\n       'nom_en_gb'],\n      dtype='object')"
     },
     "metadata": {},
     "execution_count": 13
    }
   ],
   "source": [
    "df = df.merge(df_country, left_on='Pays de livraison', right_on='nom_fr_fr')\n",
    "df.columns"
   ]
  },
  {
   "cell_type": "code",
   "execution_count": 14,
   "metadata": {},
   "outputs": [
    {
     "output_type": "execute_result",
     "data": {
      "text/plain": "      Prix de vente Date de vente Libellé personnalisé      nom_en_gb\n0              16.0    2018-12-01           R160072377  United States\n1              16.0    2018-12-13           R150181333  United States\n2              20.0    2018-12-13           ROD0053606  United States\n3              25.0    2018-12-14           R260129997  United States\n4              16.0    2018-12-14           R150064126  United States\n...             ...           ...                  ...            ...\n2006           35.8    2019-07-03           R160203331         Sweden\n2007           25.8    2019-07-22           RO40195546         Sweden\n2008           51.8    2019-07-14                  NaN          Malta\n2009           20.9    2019-07-27           RO70124551       Malaysia\n2010           20.9    2019-07-29           R260171917        Iceland\n\n[2011 rows x 4 columns]",
      "text/html": "<div>\n<style scoped>\n    .dataframe tbody tr th:only-of-type {\n        vertical-align: middle;\n    }\n\n    .dataframe tbody tr th {\n        vertical-align: top;\n    }\n\n    .dataframe thead th {\n        text-align: right;\n    }\n</style>\n<table border=\"1\" class=\"dataframe\">\n  <thead>\n    <tr style=\"text-align: right;\">\n      <th></th>\n      <th>Prix de vente</th>\n      <th>Date de vente</th>\n      <th>Libellé personnalisé</th>\n      <th>nom_en_gb</th>\n    </tr>\n  </thead>\n  <tbody>\n    <tr>\n      <th>0</th>\n      <td>16.0</td>\n      <td>2018-12-01</td>\n      <td>R160072377</td>\n      <td>United States</td>\n    </tr>\n    <tr>\n      <th>1</th>\n      <td>16.0</td>\n      <td>2018-12-13</td>\n      <td>R150181333</td>\n      <td>United States</td>\n    </tr>\n    <tr>\n      <th>2</th>\n      <td>20.0</td>\n      <td>2018-12-13</td>\n      <td>ROD0053606</td>\n      <td>United States</td>\n    </tr>\n    <tr>\n      <th>3</th>\n      <td>25.0</td>\n      <td>2018-12-14</td>\n      <td>R260129997</td>\n      <td>United States</td>\n    </tr>\n    <tr>\n      <th>4</th>\n      <td>16.0</td>\n      <td>2018-12-14</td>\n      <td>R150064126</td>\n      <td>United States</td>\n    </tr>\n    <tr>\n      <th>...</th>\n      <td>...</td>\n      <td>...</td>\n      <td>...</td>\n      <td>...</td>\n    </tr>\n    <tr>\n      <th>2006</th>\n      <td>35.8</td>\n      <td>2019-07-03</td>\n      <td>R160203331</td>\n      <td>Sweden</td>\n    </tr>\n    <tr>\n      <th>2007</th>\n      <td>25.8</td>\n      <td>2019-07-22</td>\n      <td>RO40195546</td>\n      <td>Sweden</td>\n    </tr>\n    <tr>\n      <th>2008</th>\n      <td>51.8</td>\n      <td>2019-07-14</td>\n      <td>NaN</td>\n      <td>Malta</td>\n    </tr>\n    <tr>\n      <th>2009</th>\n      <td>20.9</td>\n      <td>2019-07-27</td>\n      <td>RO70124551</td>\n      <td>Malaysia</td>\n    </tr>\n    <tr>\n      <th>2010</th>\n      <td>20.9</td>\n      <td>2019-07-29</td>\n      <td>R260171917</td>\n      <td>Iceland</td>\n    </tr>\n  </tbody>\n</table>\n<p>2011 rows × 4 columns</p>\n</div>"
     },
     "metadata": {},
     "execution_count": 14
    }
   ],
   "source": [
    "df = df.drop(columns=['Pays de livraison', 'Id', 'Code', 'Alpha2', 'Alpha3', 'nom_fr_fr'])\n",
    "df"
   ]
  },
  {
   "cell_type": "code",
   "execution_count": 19,
   "metadata": {},
   "outputs": [],
   "source": [
    "df = df[df[\"Libellé personnalisé\"].notna()]"
   ]
  },
  {
   "cell_type": "code",
   "execution_count": 20,
   "metadata": {},
   "outputs": [],
   "source": [
    "os.chdir(\"C:\\Adrian - GDrive\\Professionnel\\Formation\\Informatique - Digital\\Data University\\Projet certification\\csv\")\n",
    "\n",
    "df.to_csv(\"1-ebay.csv\", index=False)"
   ]
  },
  {
   "cell_type": "code",
   "execution_count": null,
   "metadata": {},
   "outputs": [],
   "source": []
  }
 ]
}