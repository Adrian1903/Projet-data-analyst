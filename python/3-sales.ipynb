{
 "nbformat": 4,
 "nbformat_minor": 2,
 "metadata": {
  "language_info": {
   "name": "python",
   "codemirror_mode": {
    "name": "ipython",
    "version": 3
   },
   "version": "3.7.6-final"
  },
  "orig_nbformat": 2,
  "file_extension": ".py",
  "mimetype": "text/x-python",
  "name": "python",
  "npconvert_exporter": "python",
  "pygments_lexer": "ipython3",
  "version": 3,
  "kernelspec": {
   "name": "python3",
   "display_name": "Python 3"
  }
 },
 "cells": [
  {
   "cell_type": "markdown",
   "execution_count": null,
   "metadata": {},
   "outputs": [],
   "source": [
    "# A/ Concaténation des fichiers de ventes"
   ]
  },
  {
   "cell_type": "code",
   "execution_count": 20,
   "metadata": {},
   "outputs": [],
   "source": [
    "import pandas as pd\n",
    "import numpy as np\n",
    "import os\n",
    "import mysql.connector"
   ]
  },
  {
   "cell_type": "code",
   "execution_count": 21,
   "metadata": {},
   "outputs": [],
   "source": [
    "os.chdir(\"C:\\Adrian - GDrive\\Professionnel\\Formation\\Informatique - Digital\\Data University\\Projet certification\\csv\")"
   ]
  },
  {
   "cell_type": "code",
   "execution_count": 22,
   "metadata": {},
   "outputs": [],
   "source": [
    "df_abebooks = pd.read_csv(\"1-abebooks.csv\")\n",
    "df_amazon = pd.read_csv(\"1-amazon.csv\")\n",
    "df_ebay = pd.read_csv(\"1-ebay.csv\")\n",
    "df_fnac = pd.read_csv(\"1-fnac.csv\")\n",
    "df_lelivre = pd.read_csv(\"1-lelivre.csv\")\n",
    "df_leslibraires = pd.read_csv(\"1-leslibraires.csv\")\n",
    "df_rakuten = pd.read_csv(\"1-rakuten.csv\")"
   ]
  },
  {
   "cell_type": "code",
   "execution_count": 23,
   "metadata": {},
   "outputs": [],
   "source": [
    "df_abebooks[\"sale_source\"] = \"abebooks\" \n",
    "df_amazon[\"sale_source\"] = \"amazon\" \n",
    "df_ebay[\"sale_source\"] = \"ebay\" \n",
    "df_fnac[\"sale_source\"] = \"fnac\"\n",
    "df_lelivre[\"sale_source\"] = \"lelivre\"  \n",
    "df_leslibraires[\"sale_source\"] = \"leslibraires\" \n",
    "df_rakuten[\"sale_source\"] = \"rakuten\" "
   ]
  },
  {
   "cell_type": "code",
   "execution_count": 24,
   "metadata": {},
   "outputs": [
    {
     "output_type": "stream",
     "name": "stdout",
     "text": "Index(['Votre n° de référence', 'Prix du livre (EUR)', 'Date de traitement',\n       'sale_source'],\n      dtype='object')\nIndex(['purchase-date', 'sku', 'item-price', 'nom_en_gb', 'sale_source'], dtype='object')\nIndex(['Prix de vente', 'Date de vente', 'Libellé personnalisé', 'nom_en_gb',\n       'sale_source'],\n      dtype='object')\nIndex(['Date de création', 'Prix total (TTC)', 'SKUs', 'nom_en_gb',\n       'sale_source'],\n      dtype='object')\nIndex(['purchase_date', 'sku', 'item_price', 'nom_en_gb', 'sale_source'], dtype='object')\nIndex(['Date de commande', 'Total TTC', 'sku', 'sale_source'], dtype='object')\nIndex(['Date commande', 'Réf. Vendeur', 'Mandat article EUR', 'sale_source'], dtype='object')\n"
    }
   ],
   "source": [
    "print(df_abebooks.columns)\n",
    "print(df_amazon.columns)\n",
    "print(df_ebay.columns)\n",
    "print(df_fnac.columns)\n",
    "print(df_lelivre.columns)\n",
    "print(df_leslibraires.columns)\n",
    "print(df_rakuten.columns)"
   ]
  },
  {
   "cell_type": "code",
   "execution_count": 25,
   "metadata": {},
   "outputs": [],
   "source": [
    "df_abebooks = df_abebooks.rename(columns={'Votre n° de référence': 'sku', 'Prix du livre (EUR)': 'item_price', 'Date de traitement': 'purchase_date'})\n",
    "df_amazon = df_amazon.rename(columns={'purchase-date': 'purchase_date', 'nom_en_gb': 'ship_country', 'item-price': 'item_price'})\n",
    "df_ebay = df_ebay.rename(columns={'Date de vente': 'purchase_date', 'nom_en_gb': 'ship_country', 'Prix de vente': 'item_price', 'Libellé personnalisé': 'sku'})\n",
    "df_fnac = df_fnac.rename(columns={'Date de création': 'purchase_date', 'nom_en_gb': 'ship_country', 'Prix total (TTC)': 'item_price', 'SKUs': 'sku'})\n",
    "df_lelivre = df_lelivre.rename(columns={'nom_en_gb': 'ship_country'})\n",
    "df_leslibraires = df_leslibraires.rename(columns={'Date de commande': 'purchase_date', 'Total TTC': 'item_price'})\n",
    "df_rakuten = df_rakuten.rename(columns={'Date commande': 'purchase_date', 'Mandat article EUR': 'item_price', \"Réf. Vendeur\":\"sku\"})\n",
    ""
   ]
  },
  {
   "cell_type": "code",
   "execution_count": 26,
   "metadata": {},
   "outputs": [
    {
     "output_type": "stream",
     "name": "stdout",
     "text": "(3617, 4)\n(5126, 5)\n(1971, 5)\n(346, 5)\n(3712, 5)\n(292, 4)\n(1806, 4)\n"
    }
   ],
   "source": [
    "print(df_abebooks.shape)\n",
    "print(df_amazon.shape)\n",
    "print(df_ebay.shape)\n",
    "print(df_fnac.shape)\n",
    "print(df_lelivre.shape)\n",
    "print(df_leslibraires.shape)\n",
    "print(df_rakuten.shape)"
   ]
  },
  {
   "cell_type": "code",
   "execution_count": 27,
   "metadata": {},
   "outputs": [
    {
     "output_type": "stream",
     "name": "stdout",
     "text": "sku  item_price purchase_date sale_source\n0  R240146799        45.8    2019-08-01    abebooks\n1  RO30312733        35.8    2019-08-01    abebooks\n2  R110487848        30.9    2019-08-01    abebooks\n3  RO80209687        55.5    2019-08-01    abebooks\n4  RO40124703        25.8    2019-08-01    abebooks\n  purchase_date         sku  item_price ship_country sale_source\n0    2018-12-30  R160155906       48.80      Belgium      amazon\n1    2019-01-02  RO40224112       23.90      Belgium      amazon\n2    2019-01-02  RO40224111       23.90      Belgium      amazon\n3    2019-01-03  R150229289       19.95      Belgium      amazon\n4    2019-01-03  RO30038810       23.90      Belgium      amazon\n   item_price purchase_date         sku   ship_country sale_source\n0        16.0    2018-12-01  R160072377  United States        ebay\n1        16.0    2018-12-13  R150181333  United States        ebay\n2        20.0    2018-12-13  ROD0053606  United States        ebay\n3        25.0    2018-12-14  R260129997  United States        ebay\n4        16.0    2018-12-14  R150064126  United States        ebay\n  purchase_date  item_price         sku ship_country sale_source\n0    2018-12-18       14.90  RO20154336       France        fnac\n1    2018-12-20       39.80  R200041391       France        fnac\n2    2018-12-21       25.80  R300023439       France        fnac\n3    2018-12-29       45.80  R200042407       France        fnac\n4    2019-01-02       16.95  RO90075913       France        fnac\n  purchase_date         sku  item_price ship_country sale_source\n0    2019-01-01  R130001251       10.95       France     lelivre\n1    2019-01-01  R130004489       14.90       France     lelivre\n2    2019-01-01  R130011303       14.90       France     lelivre\n3    2019-01-01  R200001802       49.50       France     lelivre\n4    2019-01-02  R300231701       19.80       France     lelivre\n  purchase_date  item_price         sku   sale_source\n0    2018-12-31       16.95  ROD0138137  leslibraires\n1    2018-12-31       19.80  R160184541  leslibraires\n2    2019-01-03       29.80  R320095702  leslibraires\n3    2019-01-02       30.90  R200074925  leslibraires\n4    2019-01-04       24.90  RO60137276  leslibraires\n  purchase_date         sku  item_price sale_source\n0    2019-01-31  RO80152141        25.8     rakuten\n1    2019-01-31  RO40195713        35.8     rakuten\n2    2019-01-31  R160208720        20.9     rakuten\n3    2019-01-31  RO80083893       105.0     rakuten\n4    2019-01-30  RO60112192        35.8     rakuten\n"
    }
   ],
   "source": [
    "print(df_abebooks.head())\n",
    "print(df_amazon.head())\n",
    "print(df_ebay.head())\n",
    "print(df_fnac.head())\n",
    "print(df_lelivre.head())\n",
    "print(df_leslibraires.head())\n",
    "print(df_rakuten.head())"
   ]
  },
  {
   "cell_type": "code",
   "execution_count": 28,
   "metadata": {},
   "outputs": [],
   "source": [
    "df_full_raw = pd.concat([df_abebooks,df_amazon,df_ebay,df_fnac,df_lelivre,df_leslibraires,df_rakuten])"
   ]
  },
  {
   "cell_type": "code",
   "execution_count": 29,
   "metadata": {},
   "outputs": [
    {
     "output_type": "execute_result",
     "data": {
      "text/plain": "sku               object\nitem_price       float64\npurchase_date     object\nsale_source       object\nship_country      object\ndtype: object"
     },
     "metadata": {},
     "execution_count": 29
    }
   ],
   "source": [
    "df_full_raw.dtypes"
   ]
  },
  {
   "cell_type": "code",
   "execution_count": 30,
   "metadata": {},
   "outputs": [
    {
     "output_type": "execute_result",
     "data": {
      "text/plain": "(16870, 5)"
     },
     "metadata": {},
     "execution_count": 30
    }
   ],
   "source": [
    "df_full_raw.shape"
   ]
  },
  {
   "cell_type": "code",
   "execution_count": 31,
   "metadata": {},
   "outputs": [
    {
     "output_type": "execute_result",
     "data": {
      "text/plain": "          sku  item_price purchase_date sale_source ship_country\n0  R240146799        45.8    2019-08-01    abebooks          NaN\n1  RO30312733        35.8    2019-08-01    abebooks          NaN\n2  R110487848        30.9    2019-08-01    abebooks          NaN\n3  RO80209687        55.5    2019-08-01    abebooks          NaN\n4  RO40124703        25.8    2019-08-01    abebooks          NaN",
      "text/html": "<div>\n<style scoped>\n    .dataframe tbody tr th:only-of-type {\n        vertical-align: middle;\n    }\n\n    .dataframe tbody tr th {\n        vertical-align: top;\n    }\n\n    .dataframe thead th {\n        text-align: right;\n    }\n</style>\n<table border=\"1\" class=\"dataframe\">\n  <thead>\n    <tr style=\"text-align: right;\">\n      <th></th>\n      <th>sku</th>\n      <th>item_price</th>\n      <th>purchase_date</th>\n      <th>sale_source</th>\n      <th>ship_country</th>\n    </tr>\n  </thead>\n  <tbody>\n    <tr>\n      <th>0</th>\n      <td>R240146799</td>\n      <td>45.8</td>\n      <td>2019-08-01</td>\n      <td>abebooks</td>\n      <td>NaN</td>\n    </tr>\n    <tr>\n      <th>1</th>\n      <td>RO30312733</td>\n      <td>35.8</td>\n      <td>2019-08-01</td>\n      <td>abebooks</td>\n      <td>NaN</td>\n    </tr>\n    <tr>\n      <th>2</th>\n      <td>R110487848</td>\n      <td>30.9</td>\n      <td>2019-08-01</td>\n      <td>abebooks</td>\n      <td>NaN</td>\n    </tr>\n    <tr>\n      <th>3</th>\n      <td>RO80209687</td>\n      <td>55.5</td>\n      <td>2019-08-01</td>\n      <td>abebooks</td>\n      <td>NaN</td>\n    </tr>\n    <tr>\n      <th>4</th>\n      <td>RO40124703</td>\n      <td>25.8</td>\n      <td>2019-08-01</td>\n      <td>abebooks</td>\n      <td>NaN</td>\n    </tr>\n  </tbody>\n</table>\n</div>"
     },
     "metadata": {},
     "execution_count": 31
    }
   ],
   "source": [
    "df_full_raw.head()"
   ]
  },
  {
   "cell_type": "code",
   "execution_count": 32,
   "metadata": {},
   "outputs": [
    {
     "output_type": "execute_result",
     "data": {
      "text/plain": "               sku    item_price purchase_date sale_source ship_country\ncount        16870  16868.000000         16870       16870        11155\nunique       16527           NaN           419           7           71\ntop     R160189365           NaN    2019-02-17      amazon       France\nfreq             6           NaN           135        5126         7993\nmean           NaN     36.680337           NaN         NaN          NaN\nstd            NaN     36.791420           NaN         NaN          NaN\nmin            NaN   -155.000000           NaN         NaN          NaN\n25%            NaN     20.900000           NaN         NaN          NaN\n50%            NaN     29.800000           NaN         NaN          NaN\n75%            NaN     39.800000           NaN         NaN          NaN\nmax            NaN   1808.000000           NaN         NaN          NaN",
      "text/html": "<div>\n<style scoped>\n    .dataframe tbody tr th:only-of-type {\n        vertical-align: middle;\n    }\n\n    .dataframe tbody tr th {\n        vertical-align: top;\n    }\n\n    .dataframe thead th {\n        text-align: right;\n    }\n</style>\n<table border=\"1\" class=\"dataframe\">\n  <thead>\n    <tr style=\"text-align: right;\">\n      <th></th>\n      <th>sku</th>\n      <th>item_price</th>\n      <th>purchase_date</th>\n      <th>sale_source</th>\n      <th>ship_country</th>\n    </tr>\n  </thead>\n  <tbody>\n    <tr>\n      <th>count</th>\n      <td>16870</td>\n      <td>16868.000000</td>\n      <td>16870</td>\n      <td>16870</td>\n      <td>11155</td>\n    </tr>\n    <tr>\n      <th>unique</th>\n      <td>16527</td>\n      <td>NaN</td>\n      <td>419</td>\n      <td>7</td>\n      <td>71</td>\n    </tr>\n    <tr>\n      <th>top</th>\n      <td>R160189365</td>\n      <td>NaN</td>\n      <td>2019-02-17</td>\n      <td>amazon</td>\n      <td>France</td>\n    </tr>\n    <tr>\n      <th>freq</th>\n      <td>6</td>\n      <td>NaN</td>\n      <td>135</td>\n      <td>5126</td>\n      <td>7993</td>\n    </tr>\n    <tr>\n      <th>mean</th>\n      <td>NaN</td>\n      <td>36.680337</td>\n      <td>NaN</td>\n      <td>NaN</td>\n      <td>NaN</td>\n    </tr>\n    <tr>\n      <th>std</th>\n      <td>NaN</td>\n      <td>36.791420</td>\n      <td>NaN</td>\n      <td>NaN</td>\n      <td>NaN</td>\n    </tr>\n    <tr>\n      <th>min</th>\n      <td>NaN</td>\n      <td>-155.000000</td>\n      <td>NaN</td>\n      <td>NaN</td>\n      <td>NaN</td>\n    </tr>\n    <tr>\n      <th>25%</th>\n      <td>NaN</td>\n      <td>20.900000</td>\n      <td>NaN</td>\n      <td>NaN</td>\n      <td>NaN</td>\n    </tr>\n    <tr>\n      <th>50%</th>\n      <td>NaN</td>\n      <td>29.800000</td>\n      <td>NaN</td>\n      <td>NaN</td>\n      <td>NaN</td>\n    </tr>\n    <tr>\n      <th>75%</th>\n      <td>NaN</td>\n      <td>39.800000</td>\n      <td>NaN</td>\n      <td>NaN</td>\n      <td>NaN</td>\n    </tr>\n    <tr>\n      <th>max</th>\n      <td>NaN</td>\n      <td>1808.000000</td>\n      <td>NaN</td>\n      <td>NaN</td>\n      <td>NaN</td>\n    </tr>\n  </tbody>\n</table>\n</div>"
     },
     "metadata": {},
     "execution_count": 32
    }
   ],
   "source": [
    "df_full_raw.describe(include='all')"
   ]
  },
  {
   "cell_type": "code",
   "execution_count": 33,
   "metadata": {},
   "outputs": [],
   "source": [
    "# Choix de la période\n",
    "df_full_raw = df_full_raw[df_full_raw[\"purchase_date\"] > \"2018-12-31\"]\n",
    "df_full_raw = df_full_raw[df_full_raw[\"purchase_date\"] < \"2019-09-01\"]\n",
    "# Suppression des remboursement\n",
    "df_full_raw = df_full_raw[df_full_raw[\"item_price\"] > 0]"
   ]
  },
  {
   "cell_type": "code",
   "execution_count": 34,
   "metadata": {},
   "outputs": [
    {
     "output_type": "execute_result",
     "data": {
      "text/plain": "(12856, 5)"
     },
     "metadata": {},
     "execution_count": 34
    }
   ],
   "source": [
    "df_full_raw.shape"
   ]
  },
  {
   "cell_type": "code",
   "execution_count": 35,
   "metadata": {},
   "outputs": [
    {
     "output_type": "execute_result",
     "data": {
      "text/plain": "               sku  item_price  purchase_date  ship_country\nsale_source                                                \nabebooks      3617        3617           3617             0\namazon        3006        3006           3006          3006\nebay          1763        1763           1763          1763\nfnac           335         335            335           335\nlelivre       2064        2064           2064          2064\nleslibraires   290         290            290             0\nrakuten       1781        1781           1781             0",
      "text/html": "<div>\n<style scoped>\n    .dataframe tbody tr th:only-of-type {\n        vertical-align: middle;\n    }\n\n    .dataframe tbody tr th {\n        vertical-align: top;\n    }\n\n    .dataframe thead th {\n        text-align: right;\n    }\n</style>\n<table border=\"1\" class=\"dataframe\">\n  <thead>\n    <tr style=\"text-align: right;\">\n      <th></th>\n      <th>sku</th>\n      <th>item_price</th>\n      <th>purchase_date</th>\n      <th>ship_country</th>\n    </tr>\n    <tr>\n      <th>sale_source</th>\n      <th></th>\n      <th></th>\n      <th></th>\n      <th></th>\n    </tr>\n  </thead>\n  <tbody>\n    <tr>\n      <th>abebooks</th>\n      <td>3617</td>\n      <td>3617</td>\n      <td>3617</td>\n      <td>0</td>\n    </tr>\n    <tr>\n      <th>amazon</th>\n      <td>3006</td>\n      <td>3006</td>\n      <td>3006</td>\n      <td>3006</td>\n    </tr>\n    <tr>\n      <th>ebay</th>\n      <td>1763</td>\n      <td>1763</td>\n      <td>1763</td>\n      <td>1763</td>\n    </tr>\n    <tr>\n      <th>fnac</th>\n      <td>335</td>\n      <td>335</td>\n      <td>335</td>\n      <td>335</td>\n    </tr>\n    <tr>\n      <th>lelivre</th>\n      <td>2064</td>\n      <td>2064</td>\n      <td>2064</td>\n      <td>2064</td>\n    </tr>\n    <tr>\n      <th>leslibraires</th>\n      <td>290</td>\n      <td>290</td>\n      <td>290</td>\n      <td>0</td>\n    </tr>\n    <tr>\n      <th>rakuten</th>\n      <td>1781</td>\n      <td>1781</td>\n      <td>1781</td>\n      <td>0</td>\n    </tr>\n  </tbody>\n</table>\n</div>"
     },
     "metadata": {},
     "execution_count": 35
    }
   ],
   "source": [
    "df_full_raw.groupby(\"sale_source\").count()"
   ]
  },
  {
   "cell_type": "markdown",
   "execution_count": null,
   "metadata": {},
   "outputs": [],
   "source": [
    "----"
   ]
  },
  {
   "cell_type": "markdown",
   "metadata": {},
   "source": [
    "# B/ Ajout d'informations complémentaires"
   ],
   "execution_count": null,
   "outputs": []
  },
  {
   "cell_type": "markdown",
   "execution_count": null,
   "metadata": {},
   "outputs": [],
   "source": [
    "## Connexion à la base locale pour réupérér le dewey, creation date et printing year"
   ]
  },
  {
   "cell_type": "code",
   "execution_count": 36,
   "metadata": {},
   "outputs": [
    {
     "output_type": "stream",
     "name": "stdout",
     "text": "Connected to MySQL Server version  8.0.18\nYou're connected to database:  ('db_lelivre_pro',)\nDataframe constitué\nMySQL connection is closed\n"
    }
   ],
   "source": [
    "try:\n",
    "    connection = mysql.connector.connect(host='localhost',\n",
    "                                         database='db_lelivre_pro',\n",
    "                                         user='localscript',\n",
    "                                         password='GY9x9xLyaJA8CaqQMG6S',\n",
    "                                         port='3308')\n",
    "    if connection.is_connected():\n",
    "        db_Info = connection.get_server_info()\n",
    "        print(\"Connected to MySQL Server version \", db_Info)\n",
    "        cursor = connection.cursor()\n",
    "        cursor.execute(\"select database();\")\n",
    "        record = cursor.fetchone()\n",
    "        print(\"You're connected to database: \", record)\n",
    "except Error as e:\n",
    "    print(\"Error while connecting to MySQL\", e)\n",
    "finally:\n",
    "    if (connection.is_connected()):\n",
    "        ### Dataframe 1\n",
    "        var_sql = \"SELECT ref as sku, creationdate as creation_date, type as dewey, printingyear as printing_year, ean, isbn, titre FROM db_lelivre_pro.livresv2\"\n",
    "        df_info = pd.read_sql(var_sql, connection)\n",
    "        \n",
    "        print(\"Dataframe constitué\")\n",
    "        cursor.close()\n",
    "        connection.close()\n",
    "        print(\"MySQL connection is closed\")"
   ]
  },
  {
   "cell_type": "code",
   "execution_count": 37,
   "metadata": {},
   "outputs": [
    {
     "output_type": "execute_result",
     "data": {
      "text/plain": "(12856, 11)"
     },
     "metadata": {},
     "execution_count": 37
    }
   ],
   "source": [
    "df_full = df_full_raw.merge(df_info, on=\"sku\")\n",
    "df_full.shape"
   ]
  },
  {
   "cell_type": "code",
   "execution_count": 38,
   "metadata": {},
   "outputs": [
    {
     "output_type": "execute_result",
     "data": {
      "text/plain": "              sku  item_price purchase_date sale_source ship_country  \\\n0      R240146799       45.80    2019-08-01    abebooks          NaN   \n1      RO30312733       35.80    2019-08-01    abebooks          NaN   \n2      R110487848       30.90    2019-08-01    abebooks          NaN   \n3      RO80209687       55.50    2019-08-01    abebooks          NaN   \n4      RO40124703       25.80    2019-08-01    abebooks          NaN   \n...           ...         ...           ...         ...          ...   \n12851  RO40182424       30.90    2019-08-05     rakuten          NaN   \n12852  RO50002553       35.80    2019-08-05     rakuten          NaN   \n12853  R110310021       30.90    2019-08-05     rakuten          NaN   \n12854  R240101670      105.00    2019-08-02     rakuten          NaN   \n12855  RO80079856       16.95    2019-08-19     rakuten          NaN   \n\n       creation_date   dewey  printing_year            ean        isbn  \\\n0         20190712.0  840.00         1955.0                              \n1         20190725.0  340.00         1974.0                              \n2         20190613.0   70.00         1911.0                              \n3         20181219.0  750.00         2006.0  9782848331683  2848331682   \n4         20090107.0  500.00         1994.0  9782036518117  2036518117   \n...              ...     ...            ...            ...         ...   \n12851     20110303.0  966.00         1985.0  9789232023483  9232023482   \n12852     20060726.0  780.26            0.0                              \n12853     20180410.0  910.00         1956.0                              \n12854     20150925.0   70.49         1981.0                              \n12855     20091117.0  270.00            0.0                              \n\n                                                   titre  \n0                                      La défense accuse  \n1                  Les défendre tous (Collection \"Vécu\")  \n2      L'action française n° 248 - La République et l...  \n3                              Henri Barnoin 1882-1940 -  \n4                   MA PREMIERE ENCYCLOPEDIE, LA SCIENCE  \n...                                                  ...  \n12851                                 GOREE, ILE MEMOIRE  \n12852                                              DAKAR  \n12853  CONNAISSANCE DU MONDE N° 7 - Gorée, l'ile rose...  \n12854  ASSOCIATION DES AMIS D'ALAIN - ALAIN - BULLETI...  \n12855        La Cathédrale de Saint-Paul Trois-Châteaux.  \n\n[12856 rows x 11 columns]",
      "text/html": "<div>\n<style scoped>\n    .dataframe tbody tr th:only-of-type {\n        vertical-align: middle;\n    }\n\n    .dataframe tbody tr th {\n        vertical-align: top;\n    }\n\n    .dataframe thead th {\n        text-align: right;\n    }\n</style>\n<table border=\"1\" class=\"dataframe\">\n  <thead>\n    <tr style=\"text-align: right;\">\n      <th></th>\n      <th>sku</th>\n      <th>item_price</th>\n      <th>purchase_date</th>\n      <th>sale_source</th>\n      <th>ship_country</th>\n      <th>creation_date</th>\n      <th>dewey</th>\n      <th>printing_year</th>\n      <th>ean</th>\n      <th>isbn</th>\n      <th>titre</th>\n    </tr>\n  </thead>\n  <tbody>\n    <tr>\n      <th>0</th>\n      <td>R240146799</td>\n      <td>45.80</td>\n      <td>2019-08-01</td>\n      <td>abebooks</td>\n      <td>NaN</td>\n      <td>20190712.0</td>\n      <td>840.00</td>\n      <td>1955.0</td>\n      <td></td>\n      <td></td>\n      <td>La défense accuse</td>\n    </tr>\n    <tr>\n      <th>1</th>\n      <td>RO30312733</td>\n      <td>35.80</td>\n      <td>2019-08-01</td>\n      <td>abebooks</td>\n      <td>NaN</td>\n      <td>20190725.0</td>\n      <td>340.00</td>\n      <td>1974.0</td>\n      <td></td>\n      <td></td>\n      <td>Les défendre tous (Collection \"Vécu\")</td>\n    </tr>\n    <tr>\n      <th>2</th>\n      <td>R110487848</td>\n      <td>30.90</td>\n      <td>2019-08-01</td>\n      <td>abebooks</td>\n      <td>NaN</td>\n      <td>20190613.0</td>\n      <td>70.00</td>\n      <td>1911.0</td>\n      <td></td>\n      <td></td>\n      <td>L'action française n° 248 - La République et l...</td>\n    </tr>\n    <tr>\n      <th>3</th>\n      <td>RO80209687</td>\n      <td>55.50</td>\n      <td>2019-08-01</td>\n      <td>abebooks</td>\n      <td>NaN</td>\n      <td>20181219.0</td>\n      <td>750.00</td>\n      <td>2006.0</td>\n      <td>9782848331683</td>\n      <td>2848331682</td>\n      <td>Henri Barnoin 1882-1940 -</td>\n    </tr>\n    <tr>\n      <th>4</th>\n      <td>RO40124703</td>\n      <td>25.80</td>\n      <td>2019-08-01</td>\n      <td>abebooks</td>\n      <td>NaN</td>\n      <td>20090107.0</td>\n      <td>500.00</td>\n      <td>1994.0</td>\n      <td>9782036518117</td>\n      <td>2036518117</td>\n      <td>MA PREMIERE ENCYCLOPEDIE, LA SCIENCE</td>\n    </tr>\n    <tr>\n      <th>...</th>\n      <td>...</td>\n      <td>...</td>\n      <td>...</td>\n      <td>...</td>\n      <td>...</td>\n      <td>...</td>\n      <td>...</td>\n      <td>...</td>\n      <td>...</td>\n      <td>...</td>\n      <td>...</td>\n    </tr>\n    <tr>\n      <th>12851</th>\n      <td>RO40182424</td>\n      <td>30.90</td>\n      <td>2019-08-05</td>\n      <td>rakuten</td>\n      <td>NaN</td>\n      <td>20110303.0</td>\n      <td>966.00</td>\n      <td>1985.0</td>\n      <td>9789232023483</td>\n      <td>9232023482</td>\n      <td>GOREE, ILE MEMOIRE</td>\n    </tr>\n    <tr>\n      <th>12852</th>\n      <td>RO50002553</td>\n      <td>35.80</td>\n      <td>2019-08-05</td>\n      <td>rakuten</td>\n      <td>NaN</td>\n      <td>20060726.0</td>\n      <td>780.26</td>\n      <td>0.0</td>\n      <td></td>\n      <td></td>\n      <td>DAKAR</td>\n    </tr>\n    <tr>\n      <th>12853</th>\n      <td>R110310021</td>\n      <td>30.90</td>\n      <td>2019-08-05</td>\n      <td>rakuten</td>\n      <td>NaN</td>\n      <td>20180410.0</td>\n      <td>910.00</td>\n      <td>1956.0</td>\n      <td></td>\n      <td></td>\n      <td>CONNAISSANCE DU MONDE N° 7 - Gorée, l'ile rose...</td>\n    </tr>\n    <tr>\n      <th>12854</th>\n      <td>R240101670</td>\n      <td>105.00</td>\n      <td>2019-08-02</td>\n      <td>rakuten</td>\n      <td>NaN</td>\n      <td>20150925.0</td>\n      <td>70.49</td>\n      <td>1981.0</td>\n      <td></td>\n      <td></td>\n      <td>ASSOCIATION DES AMIS D'ALAIN - ALAIN - BULLETI...</td>\n    </tr>\n    <tr>\n      <th>12855</th>\n      <td>RO80079856</td>\n      <td>16.95</td>\n      <td>2019-08-19</td>\n      <td>rakuten</td>\n      <td>NaN</td>\n      <td>20091117.0</td>\n      <td>270.00</td>\n      <td>0.0</td>\n      <td></td>\n      <td></td>\n      <td>La Cathédrale de Saint-Paul Trois-Châteaux.</td>\n    </tr>\n  </tbody>\n</table>\n<p>12856 rows × 11 columns</p>\n</div>"
     },
     "metadata": {},
     "execution_count": 38
    }
   ],
   "source": [
    "df_full"
   ]
  },
  {
   "cell_type": "markdown",
   "metadata": {},
   "source": [
    "---"
   ],
   "execution_count": null,
   "outputs": []
  },
  {
   "cell_type": "markdown",
   "metadata": {},
   "source": [
    "# C/ Transformation des variables"
   ],
   "execution_count": null,
   "outputs": []
  },
  {
   "cell_type": "code",
   "execution_count": 39,
   "metadata": {},
   "outputs": [
    {
     "output_type": "execute_result",
     "data": {
      "text/plain": "sku               object\nitem_price       float64\npurchase_date     object\nsale_source       object\nship_country      object\ncreation_date    float64\ndewey            float64\nprinting_year    float64\nean               object\nisbn              object\ntitre             object\ndtype: object"
     },
     "metadata": {},
     "execution_count": 39
    }
   ],
   "source": [
    "df_full.dtypes"
   ]
  },
  {
   "cell_type": "markdown",
   "metadata": {},
   "source": [
    "## Epoque"
   ],
   "execution_count": null,
   "outputs": []
  },
  {
   "cell_type": "code",
   "execution_count": 40,
   "metadata": {},
   "outputs": [
    {
     "output_type": "execute_result",
     "data": {
      "text/plain": "              sku  item_price purchase_date sale_source ship_country  \\\n0      R240146799        45.8    2019-08-01    abebooks          NaN   \n1      RO30312733        35.8    2019-08-01    abebooks          NaN   \n2      R110487848        30.9    2019-08-01    abebooks          NaN   \n3      RO80209687        55.5    2019-08-01    abebooks          NaN   \n4      RO40124703        25.8    2019-08-01    abebooks          NaN   \n...           ...         ...           ...         ...          ...   \n12849  RO60138931        30.9    2019-08-06     rakuten          NaN   \n12850  R240135678        45.8    2019-08-07     rakuten          NaN   \n12851  RO40182424        30.9    2019-08-05     rakuten          NaN   \n12853  R110310021        30.9    2019-08-05     rakuten          NaN   \n12854  R240101670       105.0    2019-08-02     rakuten          NaN   \n\n       creation_date   dewey  printing_year            ean        isbn  \\\n0         20190712.0  840.00           1955                              \n1         20190725.0  340.00           1974                              \n2         20190613.0   70.00           1911                              \n3         20181219.0  750.00           2006  9782848331683  2848331682   \n4         20090107.0  500.00           1994  9782036518117  2036518117   \n...              ...     ...            ...            ...         ...   \n12849     20180307.0  420.00           1992  9780807612774  0807612774   \n12850     20180117.0  320.00           1970                              \n12851     20110303.0  966.00           1985  9789232023483  9232023482   \n12853     20180410.0  910.00           1956                              \n12854     20150925.0   70.49           1981                              \n\n                                                   titre  \n0                                      La défense accuse  \n1                  Les défendre tous (Collection \"Vécu\")  \n2      L'action française n° 248 - La République et l...  \n3                              Henri Barnoin 1882-1940 -  \n4                   MA PREMIERE ENCYCLOPEDIE, LA SCIENCE  \n...                                                  ...  \n12849   THE MEDIEVAL HEALTH HANDBOOK, TACUINUM SANITATIS  \n12850  LA QUESTION REVOLUTIONNAIRE L'HUMANISPHERE A B...  \n12851                                 GOREE, ILE MEMOIRE  \n12853  CONNAISSANCE DU MONDE N° 7 - Gorée, l'ile rose...  \n12854  ASSOCIATION DES AMIS D'ALAIN - ALAIN - BULLETI...  \n\n[11258 rows x 11 columns]",
      "text/html": "<div>\n<style scoped>\n    .dataframe tbody tr th:only-of-type {\n        vertical-align: middle;\n    }\n\n    .dataframe tbody tr th {\n        vertical-align: top;\n    }\n\n    .dataframe thead th {\n        text-align: right;\n    }\n</style>\n<table border=\"1\" class=\"dataframe\">\n  <thead>\n    <tr style=\"text-align: right;\">\n      <th></th>\n      <th>sku</th>\n      <th>item_price</th>\n      <th>purchase_date</th>\n      <th>sale_source</th>\n      <th>ship_country</th>\n      <th>creation_date</th>\n      <th>dewey</th>\n      <th>printing_year</th>\n      <th>ean</th>\n      <th>isbn</th>\n      <th>titre</th>\n    </tr>\n  </thead>\n  <tbody>\n    <tr>\n      <th>0</th>\n      <td>R240146799</td>\n      <td>45.8</td>\n      <td>2019-08-01</td>\n      <td>abebooks</td>\n      <td>NaN</td>\n      <td>20190712.0</td>\n      <td>840.00</td>\n      <td>1955</td>\n      <td></td>\n      <td></td>\n      <td>La défense accuse</td>\n    </tr>\n    <tr>\n      <th>1</th>\n      <td>RO30312733</td>\n      <td>35.8</td>\n      <td>2019-08-01</td>\n      <td>abebooks</td>\n      <td>NaN</td>\n      <td>20190725.0</td>\n      <td>340.00</td>\n      <td>1974</td>\n      <td></td>\n      <td></td>\n      <td>Les défendre tous (Collection \"Vécu\")</td>\n    </tr>\n    <tr>\n      <th>2</th>\n      <td>R110487848</td>\n      <td>30.9</td>\n      <td>2019-08-01</td>\n      <td>abebooks</td>\n      <td>NaN</td>\n      <td>20190613.0</td>\n      <td>70.00</td>\n      <td>1911</td>\n      <td></td>\n      <td></td>\n      <td>L'action française n° 248 - La République et l...</td>\n    </tr>\n    <tr>\n      <th>3</th>\n      <td>RO80209687</td>\n      <td>55.5</td>\n      <td>2019-08-01</td>\n      <td>abebooks</td>\n      <td>NaN</td>\n      <td>20181219.0</td>\n      <td>750.00</td>\n      <td>2006</td>\n      <td>9782848331683</td>\n      <td>2848331682</td>\n      <td>Henri Barnoin 1882-1940 -</td>\n    </tr>\n    <tr>\n      <th>4</th>\n      <td>RO40124703</td>\n      <td>25.8</td>\n      <td>2019-08-01</td>\n      <td>abebooks</td>\n      <td>NaN</td>\n      <td>20090107.0</td>\n      <td>500.00</td>\n      <td>1994</td>\n      <td>9782036518117</td>\n      <td>2036518117</td>\n      <td>MA PREMIERE ENCYCLOPEDIE, LA SCIENCE</td>\n    </tr>\n    <tr>\n      <th>...</th>\n      <td>...</td>\n      <td>...</td>\n      <td>...</td>\n      <td>...</td>\n      <td>...</td>\n      <td>...</td>\n      <td>...</td>\n      <td>...</td>\n      <td>...</td>\n      <td>...</td>\n      <td>...</td>\n    </tr>\n    <tr>\n      <th>12849</th>\n      <td>RO60138931</td>\n      <td>30.9</td>\n      <td>2019-08-06</td>\n      <td>rakuten</td>\n      <td>NaN</td>\n      <td>20180307.0</td>\n      <td>420.00</td>\n      <td>1992</td>\n      <td>9780807612774</td>\n      <td>0807612774</td>\n      <td>THE MEDIEVAL HEALTH HANDBOOK, TACUINUM SANITATIS</td>\n    </tr>\n    <tr>\n      <th>12850</th>\n      <td>R240135678</td>\n      <td>45.8</td>\n      <td>2019-08-07</td>\n      <td>rakuten</td>\n      <td>NaN</td>\n      <td>20180117.0</td>\n      <td>320.00</td>\n      <td>1970</td>\n      <td></td>\n      <td></td>\n      <td>LA QUESTION REVOLUTIONNAIRE L'HUMANISPHERE A B...</td>\n    </tr>\n    <tr>\n      <th>12851</th>\n      <td>RO40182424</td>\n      <td>30.9</td>\n      <td>2019-08-05</td>\n      <td>rakuten</td>\n      <td>NaN</td>\n      <td>20110303.0</td>\n      <td>966.00</td>\n      <td>1985</td>\n      <td>9789232023483</td>\n      <td>9232023482</td>\n      <td>GOREE, ILE MEMOIRE</td>\n    </tr>\n    <tr>\n      <th>12853</th>\n      <td>R110310021</td>\n      <td>30.9</td>\n      <td>2019-08-05</td>\n      <td>rakuten</td>\n      <td>NaN</td>\n      <td>20180410.0</td>\n      <td>910.00</td>\n      <td>1956</td>\n      <td></td>\n      <td></td>\n      <td>CONNAISSANCE DU MONDE N° 7 - Gorée, l'ile rose...</td>\n    </tr>\n    <tr>\n      <th>12854</th>\n      <td>R240101670</td>\n      <td>105.0</td>\n      <td>2019-08-02</td>\n      <td>rakuten</td>\n      <td>NaN</td>\n      <td>20150925.0</td>\n      <td>70.49</td>\n      <td>1981</td>\n      <td></td>\n      <td></td>\n      <td>ASSOCIATION DES AMIS D'ALAIN - ALAIN - BULLETI...</td>\n    </tr>\n  </tbody>\n</table>\n<p>11258 rows × 11 columns</p>\n</div>"
     },
     "metadata": {},
     "execution_count": 40
    }
   ],
   "source": [
    "df_full[\"printing_year\"] = df_full[\"printing_year\"].astype(int)\n",
    "# Suppression des dates incohérentes\n",
    "df_full = df_full[df_full[\"printing_year\"] > 1600]\n",
    "df_full = df_full[df_full[\"printing_year\"] < 2020]\n",
    "df_full"
   ]
  },
  {
   "cell_type": "code",
   "execution_count": 41,
   "metadata": {},
   "outputs": [
    {
     "output_type": "execute_result",
     "data": {
      "text/plain": "              sku  item_price purchase_date sale_source ship_country  \\\n0      R240146799        45.8    2019-08-01    abebooks          NaN   \n1      RO30312733        35.8    2019-08-01    abebooks          NaN   \n2      R110487848        30.9    2019-08-01    abebooks          NaN   \n3      RO80209687        55.5    2019-08-01    abebooks          NaN   \n4      RO40124703        25.8    2019-08-01    abebooks          NaN   \n...           ...         ...           ...         ...          ...   \n12849  RO60138931        30.9    2019-08-06     rakuten          NaN   \n12850  R240135678        45.8    2019-08-07     rakuten          NaN   \n12851  RO40182424        30.9    2019-08-05     rakuten          NaN   \n12853  R110310021        30.9    2019-08-05     rakuten          NaN   \n12854  R240101670       105.0    2019-08-02     rakuten          NaN   \n\n       creation_date   dewey  printing_year            ean        isbn  \\\n0         20190712.0  840.00           1955                              \n1         20190725.0  340.00           1974                              \n2         20190613.0   70.00           1911                              \n3         20181219.0  750.00           2006  9782848331683  2848331682   \n4         20090107.0  500.00           1994  9782036518117  2036518117   \n...              ...     ...            ...            ...         ...   \n12849     20180307.0  420.00           1992  9780807612774  0807612774   \n12850     20180117.0  320.00           1970                              \n12851     20110303.0  966.00           1985  9789232023483  9232023482   \n12853     20180410.0  910.00           1956                              \n12854     20150925.0   70.49           1981                              \n\n                                                   titre century  \n0                                      La défense accuse     XXe  \n1                  Les défendre tous (Collection \"Vécu\")     XXe  \n2      L'action française n° 248 - La République et l...     XXe  \n3                              Henri Barnoin 1882-1940 -    XXIe  \n4                   MA PREMIERE ENCYCLOPEDIE, LA SCIENCE     XXe  \n...                                                  ...     ...  \n12849   THE MEDIEVAL HEALTH HANDBOOK, TACUINUM SANITATIS     XXe  \n12850  LA QUESTION REVOLUTIONNAIRE L'HUMANISPHERE A B...     XXe  \n12851                                 GOREE, ILE MEMOIRE     XXe  \n12853  CONNAISSANCE DU MONDE N° 7 - Gorée, l'ile rose...     XXe  \n12854  ASSOCIATION DES AMIS D'ALAIN - ALAIN - BULLETI...     XXe  \n\n[11258 rows x 12 columns]",
      "text/html": "<div>\n<style scoped>\n    .dataframe tbody tr th:only-of-type {\n        vertical-align: middle;\n    }\n\n    .dataframe tbody tr th {\n        vertical-align: top;\n    }\n\n    .dataframe thead th {\n        text-align: right;\n    }\n</style>\n<table border=\"1\" class=\"dataframe\">\n  <thead>\n    <tr style=\"text-align: right;\">\n      <th></th>\n      <th>sku</th>\n      <th>item_price</th>\n      <th>purchase_date</th>\n      <th>sale_source</th>\n      <th>ship_country</th>\n      <th>creation_date</th>\n      <th>dewey</th>\n      <th>printing_year</th>\n      <th>ean</th>\n      <th>isbn</th>\n      <th>titre</th>\n      <th>century</th>\n    </tr>\n  </thead>\n  <tbody>\n    <tr>\n      <th>0</th>\n      <td>R240146799</td>\n      <td>45.8</td>\n      <td>2019-08-01</td>\n      <td>abebooks</td>\n      <td>NaN</td>\n      <td>20190712.0</td>\n      <td>840.00</td>\n      <td>1955</td>\n      <td></td>\n      <td></td>\n      <td>La défense accuse</td>\n      <td>XXe</td>\n    </tr>\n    <tr>\n      <th>1</th>\n      <td>RO30312733</td>\n      <td>35.8</td>\n      <td>2019-08-01</td>\n      <td>abebooks</td>\n      <td>NaN</td>\n      <td>20190725.0</td>\n      <td>340.00</td>\n      <td>1974</td>\n      <td></td>\n      <td></td>\n      <td>Les défendre tous (Collection \"Vécu\")</td>\n      <td>XXe</td>\n    </tr>\n    <tr>\n      <th>2</th>\n      <td>R110487848</td>\n      <td>30.9</td>\n      <td>2019-08-01</td>\n      <td>abebooks</td>\n      <td>NaN</td>\n      <td>20190613.0</td>\n      <td>70.00</td>\n      <td>1911</td>\n      <td></td>\n      <td></td>\n      <td>L'action française n° 248 - La République et l...</td>\n      <td>XXe</td>\n    </tr>\n    <tr>\n      <th>3</th>\n      <td>RO80209687</td>\n      <td>55.5</td>\n      <td>2019-08-01</td>\n      <td>abebooks</td>\n      <td>NaN</td>\n      <td>20181219.0</td>\n      <td>750.00</td>\n      <td>2006</td>\n      <td>9782848331683</td>\n      <td>2848331682</td>\n      <td>Henri Barnoin 1882-1940 -</td>\n      <td>XXIe</td>\n    </tr>\n    <tr>\n      <th>4</th>\n      <td>RO40124703</td>\n      <td>25.8</td>\n      <td>2019-08-01</td>\n      <td>abebooks</td>\n      <td>NaN</td>\n      <td>20090107.0</td>\n      <td>500.00</td>\n      <td>1994</td>\n      <td>9782036518117</td>\n      <td>2036518117</td>\n      <td>MA PREMIERE ENCYCLOPEDIE, LA SCIENCE</td>\n      <td>XXe</td>\n    </tr>\n    <tr>\n      <th>...</th>\n      <td>...</td>\n      <td>...</td>\n      <td>...</td>\n      <td>...</td>\n      <td>...</td>\n      <td>...</td>\n      <td>...</td>\n      <td>...</td>\n      <td>...</td>\n      <td>...</td>\n      <td>...</td>\n      <td>...</td>\n    </tr>\n    <tr>\n      <th>12849</th>\n      <td>RO60138931</td>\n      <td>30.9</td>\n      <td>2019-08-06</td>\n      <td>rakuten</td>\n      <td>NaN</td>\n      <td>20180307.0</td>\n      <td>420.00</td>\n      <td>1992</td>\n      <td>9780807612774</td>\n      <td>0807612774</td>\n      <td>THE MEDIEVAL HEALTH HANDBOOK, TACUINUM SANITATIS</td>\n      <td>XXe</td>\n    </tr>\n    <tr>\n      <th>12850</th>\n      <td>R240135678</td>\n      <td>45.8</td>\n      <td>2019-08-07</td>\n      <td>rakuten</td>\n      <td>NaN</td>\n      <td>20180117.0</td>\n      <td>320.00</td>\n      <td>1970</td>\n      <td></td>\n      <td></td>\n      <td>LA QUESTION REVOLUTIONNAIRE L'HUMANISPHERE A B...</td>\n      <td>XXe</td>\n    </tr>\n    <tr>\n      <th>12851</th>\n      <td>RO40182424</td>\n      <td>30.9</td>\n      <td>2019-08-05</td>\n      <td>rakuten</td>\n      <td>NaN</td>\n      <td>20110303.0</td>\n      <td>966.00</td>\n      <td>1985</td>\n      <td>9789232023483</td>\n      <td>9232023482</td>\n      <td>GOREE, ILE MEMOIRE</td>\n      <td>XXe</td>\n    </tr>\n    <tr>\n      <th>12853</th>\n      <td>R110310021</td>\n      <td>30.9</td>\n      <td>2019-08-05</td>\n      <td>rakuten</td>\n      <td>NaN</td>\n      <td>20180410.0</td>\n      <td>910.00</td>\n      <td>1956</td>\n      <td></td>\n      <td></td>\n      <td>CONNAISSANCE DU MONDE N° 7 - Gorée, l'ile rose...</td>\n      <td>XXe</td>\n    </tr>\n    <tr>\n      <th>12854</th>\n      <td>R240101670</td>\n      <td>105.0</td>\n      <td>2019-08-02</td>\n      <td>rakuten</td>\n      <td>NaN</td>\n      <td>20150925.0</td>\n      <td>70.49</td>\n      <td>1981</td>\n      <td></td>\n      <td></td>\n      <td>ASSOCIATION DES AMIS D'ALAIN - ALAIN - BULLETI...</td>\n      <td>XXe</td>\n    </tr>\n  </tbody>\n</table>\n<p>11258 rows × 12 columns</p>\n</div>"
     },
     "metadata": {},
     "execution_count": 41
    }
   ],
   "source": [
    "df_full[\"century\"] = 0\n",
    "df_full[\"century\"][df_full[\"printing_year\"].astype(str).str.slice(0,2) == \"16\"] = \"XVIIe\"\n",
    "df_full[\"century\"][df_full[\"printing_year\"].astype(str).str.slice(0,2) == \"17\"] = \"XVIIIe\"\n",
    "df_full[\"century\"][df_full[\"printing_year\"].astype(str).str.slice(0,2) == \"18\"] = \"XIXe\"\n",
    "df_full[\"century\"][df_full[\"printing_year\"].astype(str).str.slice(0,2) == \"19\"] = \"XXe\"\n",
    "df_full[\"century\"][df_full[\"printing_year\"].astype(str).str.slice(0,2) == \"20\"] = \"XXIe\"\n",
    "df_full"
   ]
  },
  {
   "cell_type": "markdown",
   "metadata": {},
   "source": [
    "## Thématique"
   ],
   "execution_count": null,
   "outputs": []
  },
  {
   "cell_type": "code",
   "execution_count": 42,
   "metadata": {},
   "outputs": [],
   "source": [
    "df_full = df_full[df_full[\"dewey\"] < 1000]\n",
    "df_full[\"dewey_class\"] = ((df_full[\"dewey\"] / 100).apply(np.floor) * 100).astype(int).astype(str)\n",
    "df_full[\"dewey\"] = df_full[\"dewey\"].astype(str)"
   ]
  },
  {
   "cell_type": "code",
   "execution_count": 43,
   "metadata": {},
   "outputs": [
    {
     "output_type": "execute_result",
     "data": {
      "text/plain": "dewey_class          object\nlabel_dewey_class    object\ndtype: object"
     },
     "metadata": {},
     "execution_count": 43
    }
   ],
   "source": [
    "df_dewey = pd.read_csv(\"C:\\Adrian - GDrive\\Professionnel\\Formation\\Informatique - Digital\\Data University\\Projet certification\\src\\dewey_class.csv\")\n",
    "df_dewey[\"dewey_class\"] = df_dewey[\"dewey_class\"].astype(str)\n",
    "df_dewey.dtypes"
   ]
  },
  {
   "cell_type": "code",
   "execution_count": 44,
   "metadata": {},
   "outputs": [],
   "source": [
    "df_full = df_full.merge(df_dewey)"
   ]
  },
  {
   "cell_type": "markdown",
   "metadata": {},
   "source": [
    "## Délai de rétention"
   ],
   "execution_count": null,
   "outputs": []
  },
  {
   "cell_type": "code",
   "execution_count": 45,
   "metadata": {},
   "outputs": [],
   "source": [
    "df_full[\"creation_date\"] = pd.to_datetime(df_full[\"creation_date\"].astype(str).str.slice(0,8), format=\"%Y%m%d\")\n",
    "df_full[\"purchase_date\"] = pd.to_datetime(df_full[\"purchase_date\"], format=\"%Y-%m-%d\")"
   ]
  },
  {
   "cell_type": "code",
   "execution_count": 46,
   "metadata": {},
   "outputs": [],
   "source": [
    "df_full[\"retention_delay_years\"] = ((df_full[\"purchase_date\"] - df_full[\"creation_date\"]) / np.timedelta64(1,'Y'))\n",
    "df_full = df_full[df_full[\"retention_delay_years\"] > 0]"
   ]
  },
  {
   "cell_type": "markdown",
   "metadata": {},
   "source": [
    "## Expédition : Région du monde"
   ],
   "execution_count": null,
   "outputs": []
  },
  {
   "cell_type": "code",
   "execution_count": 47,
   "metadata": {},
   "outputs": [],
   "source": [
    "os.chdir(\"C:\\Adrian - GDrive\\Professionnel\\Formation\\Informatique - Digital\\Data University\\Projet certification\\src\")\n",
    "df_region = pd.read_csv(\"countries of the world.csv\")"
   ]
  },
  {
   "cell_type": "code",
   "execution_count": 48,
   "metadata": {},
   "outputs": [],
   "source": [
    "df_region[\"Country\"] = df_region[\"Country\"].str.slice(0,-1)"
   ]
  },
  {
   "cell_type": "code",
   "execution_count": 49,
   "metadata": {},
   "outputs": [
    {
     "output_type": "execute_result",
     "data": {
      "text/plain": "(11172, 35)"
     },
     "metadata": {},
     "execution_count": 49
    }
   ],
   "source": [
    "df_full = df_full.merge(df_region, left_on='ship_country', right_on='Country', how='left')\n",
    "df_full.shape"
   ]
  },
  {
   "cell_type": "code",
   "execution_count": 50,
   "metadata": {},
   "outputs": [],
   "source": [
    "df_full = df_full.rename(columns={'Region': 'ship_world_region'})"
   ]
  },
  {
   "cell_type": "code",
   "execution_count": 51,
   "metadata": {},
   "outputs": [],
   "source": [
    "df_full[\"ship_world_region\"] = df_full[\"ship_world_region\"].str.strip()\n",
    "df_full[\"ship_world_region\"] = df_full[\"ship_world_region\"].str.replace(\" \",\"_\")\n",
    "\n",
    "df_full[\"ship_world_region\"][(df_full[\"ship_world_region\"] != \"WESTERN_EUROPE\") & (df_full[\"ship_world_region\"] != \"NORTHERN_AMERICA\") & ~df_full[\"ship_world_region\"].isna()] = \"REST_OF_THE_WORLD\"\n",
    "\n",
    "df_full[\"ship_world_region\"][(df_full[\"ship_country\"] == \"France\")] = \"FRANCE\""
   ]
  },
  {
   "cell_type": "code",
   "execution_count": 52,
   "metadata": {},
   "outputs": [
    {
     "output_type": "execute_result",
     "data": {
      "text/plain": "               sku    item_price        purchase_date sale_source  \\\ncount        11172  11172.000000                11172       11172   \nunique       10973           NaN                  243           7   \ntop     R160189365           NaN  2019-02-17 00:00:00    abebooks   \nfreq             6           NaN                  128        3155   \nfirst          NaN           NaN  2019-01-01 00:00:00         NaN   \nlast           NaN           NaN  2019-08-31 00:00:00         NaN   \nmean           NaN     38.086653                  NaN         NaN   \nstd            NaN     34.171392                  NaN         NaN   \nmin            NaN      6.240000                  NaN         NaN   \n25%            NaN     20.900000                  NaN         NaN   \n50%            NaN     30.900000                  NaN         NaN   \n75%            NaN     45.800000                  NaN         NaN   \nmax            NaN   1005.000000                  NaN         NaN   \n\n       ship_country        creation_date  dewey  printing_year    ean   isbn  \\\ncount          6203                11172  11172   11172.000000  11172  11172   \nunique           57                 3185    582            NaN   2080   2071   \ntop          France  2015-06-09 00:00:00  840.0            NaN                 \nfreq           4308                   95    522            NaN   8972   9012   \nfirst           NaN  2001-09-26 00:00:00    NaN            NaN    NaN    NaN   \nlast            NaN  2019-08-27 00:00:00    NaN            NaN    NaN    NaN   \nmean            NaN                  NaN    NaN    1958.192087    NaN    NaN   \nstd             NaN                  NaN    NaN      36.977477    NaN    NaN   \nmin             NaN                  NaN    NaN    1645.000000    NaN    NaN   \n25%             NaN                  NaN    NaN    1941.000000    NaN    NaN   \n50%             NaN                  NaN    NaN    1966.000000    NaN    NaN   \n75%             NaN                  NaN    NaN    1983.000000    NaN    NaN   \nmax             NaN                  NaN    NaN    2017.000000    NaN    NaN   \n\n        ... Phones (per 1000) Arable (%) Crops (%) Other (%)  Climate  \\\ncount   ...              6187       6192      6192      6192     5839   \nunique  ...                52         52        46        52        6   \ntop     ...             586,4      33,53      2,07      64,4        4   \nfreq    ...              4308       4308      4308      4308     4308   \nfirst   ...               NaN        NaN       NaN       NaN      NaN   \nlast    ...               NaN        NaN       NaN       NaN      NaN   \nmean    ...               NaN        NaN       NaN       NaN      NaN   \nstd     ...               NaN        NaN       NaN       NaN      NaN   \nmin     ...               NaN        NaN       NaN       NaN      NaN   \n25%     ...               NaN        NaN       NaN       NaN      NaN   \n50%     ...               NaN        NaN       NaN       NaN      NaN   \n75%     ...               NaN        NaN       NaN       NaN      NaN   \nmax     ...               NaN        NaN       NaN       NaN      NaN   \n\n       Birthrate Deathrate  Agriculture  Industry Service  \ncount       6192      6192         6192      6184    6184  \nunique        52        52           39        46      50  \ntop        11,99      9,14        0,022     0,214   0,764  \nfreq        4308      4308         4384      4308    4308  \nfirst        NaN       NaN          NaN       NaN     NaN  \nlast         NaN       NaN          NaN       NaN     NaN  \nmean         NaN       NaN          NaN       NaN     NaN  \nstd          NaN       NaN          NaN       NaN     NaN  \nmin          NaN       NaN          NaN       NaN     NaN  \n25%          NaN       NaN          NaN       NaN     NaN  \n50%          NaN       NaN          NaN       NaN     NaN  \n75%          NaN       NaN          NaN       NaN     NaN  \nmax          NaN       NaN          NaN       NaN     NaN  \n\n[13 rows x 35 columns]",
      "text/html": "<div>\n<style scoped>\n    .dataframe tbody tr th:only-of-type {\n        vertical-align: middle;\n    }\n\n    .dataframe tbody tr th {\n        vertical-align: top;\n    }\n\n    .dataframe thead th {\n        text-align: right;\n    }\n</style>\n<table border=\"1\" class=\"dataframe\">\n  <thead>\n    <tr style=\"text-align: right;\">\n      <th></th>\n      <th>sku</th>\n      <th>item_price</th>\n      <th>purchase_date</th>\n      <th>sale_source</th>\n      <th>ship_country</th>\n      <th>creation_date</th>\n      <th>dewey</th>\n      <th>printing_year</th>\n      <th>ean</th>\n      <th>isbn</th>\n      <th>...</th>\n      <th>Phones (per 1000)</th>\n      <th>Arable (%)</th>\n      <th>Crops (%)</th>\n      <th>Other (%)</th>\n      <th>Climate</th>\n      <th>Birthrate</th>\n      <th>Deathrate</th>\n      <th>Agriculture</th>\n      <th>Industry</th>\n      <th>Service</th>\n    </tr>\n  </thead>\n  <tbody>\n    <tr>\n      <th>count</th>\n      <td>11172</td>\n      <td>11172.000000</td>\n      <td>11172</td>\n      <td>11172</td>\n      <td>6203</td>\n      <td>11172</td>\n      <td>11172</td>\n      <td>11172.000000</td>\n      <td>11172</td>\n      <td>11172</td>\n      <td>...</td>\n      <td>6187</td>\n      <td>6192</td>\n      <td>6192</td>\n      <td>6192</td>\n      <td>5839</td>\n      <td>6192</td>\n      <td>6192</td>\n      <td>6192</td>\n      <td>6184</td>\n      <td>6184</td>\n    </tr>\n    <tr>\n      <th>unique</th>\n      <td>10973</td>\n      <td>NaN</td>\n      <td>243</td>\n      <td>7</td>\n      <td>57</td>\n      <td>3185</td>\n      <td>582</td>\n      <td>NaN</td>\n      <td>2080</td>\n      <td>2071</td>\n      <td>...</td>\n      <td>52</td>\n      <td>52</td>\n      <td>46</td>\n      <td>52</td>\n      <td>6</td>\n      <td>52</td>\n      <td>52</td>\n      <td>39</td>\n      <td>46</td>\n      <td>50</td>\n    </tr>\n    <tr>\n      <th>top</th>\n      <td>R160189365</td>\n      <td>NaN</td>\n      <td>2019-02-17 00:00:00</td>\n      <td>abebooks</td>\n      <td>France</td>\n      <td>2015-06-09 00:00:00</td>\n      <td>840.0</td>\n      <td>NaN</td>\n      <td></td>\n      <td></td>\n      <td>...</td>\n      <td>586,4</td>\n      <td>33,53</td>\n      <td>2,07</td>\n      <td>64,4</td>\n      <td>4</td>\n      <td>11,99</td>\n      <td>9,14</td>\n      <td>0,022</td>\n      <td>0,214</td>\n      <td>0,764</td>\n    </tr>\n    <tr>\n      <th>freq</th>\n      <td>6</td>\n      <td>NaN</td>\n      <td>128</td>\n      <td>3155</td>\n      <td>4308</td>\n      <td>95</td>\n      <td>522</td>\n      <td>NaN</td>\n      <td>8972</td>\n      <td>9012</td>\n      <td>...</td>\n      <td>4308</td>\n      <td>4308</td>\n      <td>4308</td>\n      <td>4308</td>\n      <td>4308</td>\n      <td>4308</td>\n      <td>4308</td>\n      <td>4384</td>\n      <td>4308</td>\n      <td>4308</td>\n    </tr>\n    <tr>\n      <th>first</th>\n      <td>NaN</td>\n      <td>NaN</td>\n      <td>2019-01-01 00:00:00</td>\n      <td>NaN</td>\n      <td>NaN</td>\n      <td>2001-09-26 00:00:00</td>\n      <td>NaN</td>\n      <td>NaN</td>\n      <td>NaN</td>\n      <td>NaN</td>\n      <td>...</td>\n      <td>NaN</td>\n      <td>NaN</td>\n      <td>NaN</td>\n      <td>NaN</td>\n      <td>NaN</td>\n      <td>NaN</td>\n      <td>NaN</td>\n      <td>NaN</td>\n      <td>NaN</td>\n      <td>NaN</td>\n    </tr>\n    <tr>\n      <th>last</th>\n      <td>NaN</td>\n      <td>NaN</td>\n      <td>2019-08-31 00:00:00</td>\n      <td>NaN</td>\n      <td>NaN</td>\n      <td>2019-08-27 00:00:00</td>\n      <td>NaN</td>\n      <td>NaN</td>\n      <td>NaN</td>\n      <td>NaN</td>\n      <td>...</td>\n      <td>NaN</td>\n      <td>NaN</td>\n      <td>NaN</td>\n      <td>NaN</td>\n      <td>NaN</td>\n      <td>NaN</td>\n      <td>NaN</td>\n      <td>NaN</td>\n      <td>NaN</td>\n      <td>NaN</td>\n    </tr>\n    <tr>\n      <th>mean</th>\n      <td>NaN</td>\n      <td>38.086653</td>\n      <td>NaN</td>\n      <td>NaN</td>\n      <td>NaN</td>\n      <td>NaN</td>\n      <td>NaN</td>\n      <td>1958.192087</td>\n      <td>NaN</td>\n      <td>NaN</td>\n      <td>...</td>\n      <td>NaN</td>\n      <td>NaN</td>\n      <td>NaN</td>\n      <td>NaN</td>\n      <td>NaN</td>\n      <td>NaN</td>\n      <td>NaN</td>\n      <td>NaN</td>\n      <td>NaN</td>\n      <td>NaN</td>\n    </tr>\n    <tr>\n      <th>std</th>\n      <td>NaN</td>\n      <td>34.171392</td>\n      <td>NaN</td>\n      <td>NaN</td>\n      <td>NaN</td>\n      <td>NaN</td>\n      <td>NaN</td>\n      <td>36.977477</td>\n      <td>NaN</td>\n      <td>NaN</td>\n      <td>...</td>\n      <td>NaN</td>\n      <td>NaN</td>\n      <td>NaN</td>\n      <td>NaN</td>\n      <td>NaN</td>\n      <td>NaN</td>\n      <td>NaN</td>\n      <td>NaN</td>\n      <td>NaN</td>\n      <td>NaN</td>\n    </tr>\n    <tr>\n      <th>min</th>\n      <td>NaN</td>\n      <td>6.240000</td>\n      <td>NaN</td>\n      <td>NaN</td>\n      <td>NaN</td>\n      <td>NaN</td>\n      <td>NaN</td>\n      <td>1645.000000</td>\n      <td>NaN</td>\n      <td>NaN</td>\n      <td>...</td>\n      <td>NaN</td>\n      <td>NaN</td>\n      <td>NaN</td>\n      <td>NaN</td>\n      <td>NaN</td>\n      <td>NaN</td>\n      <td>NaN</td>\n      <td>NaN</td>\n      <td>NaN</td>\n      <td>NaN</td>\n    </tr>\n    <tr>\n      <th>25%</th>\n      <td>NaN</td>\n      <td>20.900000</td>\n      <td>NaN</td>\n      <td>NaN</td>\n      <td>NaN</td>\n      <td>NaN</td>\n      <td>NaN</td>\n      <td>1941.000000</td>\n      <td>NaN</td>\n      <td>NaN</td>\n      <td>...</td>\n      <td>NaN</td>\n      <td>NaN</td>\n      <td>NaN</td>\n      <td>NaN</td>\n      <td>NaN</td>\n      <td>NaN</td>\n      <td>NaN</td>\n      <td>NaN</td>\n      <td>NaN</td>\n      <td>NaN</td>\n    </tr>\n    <tr>\n      <th>50%</th>\n      <td>NaN</td>\n      <td>30.900000</td>\n      <td>NaN</td>\n      <td>NaN</td>\n      <td>NaN</td>\n      <td>NaN</td>\n      <td>NaN</td>\n      <td>1966.000000</td>\n      <td>NaN</td>\n      <td>NaN</td>\n      <td>...</td>\n      <td>NaN</td>\n      <td>NaN</td>\n      <td>NaN</td>\n      <td>NaN</td>\n      <td>NaN</td>\n      <td>NaN</td>\n      <td>NaN</td>\n      <td>NaN</td>\n      <td>NaN</td>\n      <td>NaN</td>\n    </tr>\n    <tr>\n      <th>75%</th>\n      <td>NaN</td>\n      <td>45.800000</td>\n      <td>NaN</td>\n      <td>NaN</td>\n      <td>NaN</td>\n      <td>NaN</td>\n      <td>NaN</td>\n      <td>1983.000000</td>\n      <td>NaN</td>\n      <td>NaN</td>\n      <td>...</td>\n      <td>NaN</td>\n      <td>NaN</td>\n      <td>NaN</td>\n      <td>NaN</td>\n      <td>NaN</td>\n      <td>NaN</td>\n      <td>NaN</td>\n      <td>NaN</td>\n      <td>NaN</td>\n      <td>NaN</td>\n    </tr>\n    <tr>\n      <th>max</th>\n      <td>NaN</td>\n      <td>1005.000000</td>\n      <td>NaN</td>\n      <td>NaN</td>\n      <td>NaN</td>\n      <td>NaN</td>\n      <td>NaN</td>\n      <td>2017.000000</td>\n      <td>NaN</td>\n      <td>NaN</td>\n      <td>...</td>\n      <td>NaN</td>\n      <td>NaN</td>\n      <td>NaN</td>\n      <td>NaN</td>\n      <td>NaN</td>\n      <td>NaN</td>\n      <td>NaN</td>\n      <td>NaN</td>\n      <td>NaN</td>\n      <td>NaN</td>\n    </tr>\n  </tbody>\n</table>\n<p>13 rows × 35 columns</p>\n</div>"
     },
     "metadata": {},
     "execution_count": 52
    }
   ],
   "source": [
    "df_full.describe(include='all')"
   ]
  },
  {
   "cell_type": "markdown",
   "metadata": {},
   "source": [
    "## Nettoyage du dataset"
   ],
   "execution_count": null,
   "outputs": []
  },
  {
   "cell_type": "code",
   "execution_count": 53,
   "metadata": {},
   "outputs": [
    {
     "output_type": "execute_result",
     "data": {
      "text/plain": "              sku  item_price sale_source ship_country  printing_year  \\\n0      R240146799       45.80    abebooks          NaN           1955   \n1      R240115614       30.90    abebooks          NaN           1928   \n2      R150216443       30.90    abebooks          NaN           1986   \n3      R320110344       30.90    abebooks          NaN           1929   \n4      R160131648       65.25    abebooks          NaN           1879   \n...           ...         ...         ...          ...            ...   \n11167  RO60029238       35.80     rakuten          NaN           1957   \n11168  R110108053       25.80     rakuten          NaN           1978   \n11169  RO30116455       16.95     rakuten          NaN           1963   \n11170  R320049974       16.95     rakuten          NaN           1987   \n11171  RO30058208       25.80     rakuten          NaN           1976   \n\n                 ean        isbn  \\\n0                                  \n1                                  \n2      9782080648884  2080648888   \n3                                  \n4                                  \n...              ...         ...   \n11167                              \n11168                              \n11169                              \n11170                              \n11171                              \n\n                                                   titre century dewey_class  \\\n0                                      La défense accuse     XXe         800   \n1      LES OEUVRES COMPLETES EMILE ZOLA - LA CONFESSI...     XXe         800   \n2                                  LES CENDRES BRULANTES     XXe         800   \n3      FABLES - PRECEDEES D'UNE NOTICE BIOGRAPHIQUE E...     XXe         800   \n4                  CHOIX DE FABLES DE J. DE LA FONTAINE.    XIXe         800   \n...                                                  ...     ...         ...   \n11167                 EXPERTISE D'EVALUATION IMMOBILIERE     XXe         600   \n11168                        L'ENCYCLOPEDIE DU JARDINAGE     XXe         600   \n11169  MADELEINE, QUELQUES RECETTES FINES RECETTES SP...     XXe         600   \n11170   PLAQUETTE PUBLICITAIRE DU VEHICULE PEUGEOT 405 .     XXe         600   \n11171                                                J 7     XXe         600   \n\n      label_dewey_class  retention_delay_years ship_world_region  \n0       800-Littérature               0.054758               NaN  \n1       800-Littérature               3.244420               NaN  \n2       800-Littérature               2.633867               NaN  \n3       800-Littérature               1.111590               NaN  \n4       800-Littérature               7.282833               NaN  \n...                 ...                    ...               ...  \n11167   600-Technologie              12.835308               NaN  \n11168   600-Technologie               1.900107               NaN  \n11169   600-Technologie               7.072014               NaN  \n11170   600-Technologie               5.240354               NaN  \n11171   600-Technologie              10.847588               NaN  \n\n[11172 rows x 13 columns]",
      "text/html": "<div>\n<style scoped>\n    .dataframe tbody tr th:only-of-type {\n        vertical-align: middle;\n    }\n\n    .dataframe tbody tr th {\n        vertical-align: top;\n    }\n\n    .dataframe thead th {\n        text-align: right;\n    }\n</style>\n<table border=\"1\" class=\"dataframe\">\n  <thead>\n    <tr style=\"text-align: right;\">\n      <th></th>\n      <th>sku</th>\n      <th>item_price</th>\n      <th>sale_source</th>\n      <th>ship_country</th>\n      <th>printing_year</th>\n      <th>ean</th>\n      <th>isbn</th>\n      <th>titre</th>\n      <th>century</th>\n      <th>dewey_class</th>\n      <th>label_dewey_class</th>\n      <th>retention_delay_years</th>\n      <th>ship_world_region</th>\n    </tr>\n  </thead>\n  <tbody>\n    <tr>\n      <th>0</th>\n      <td>R240146799</td>\n      <td>45.80</td>\n      <td>abebooks</td>\n      <td>NaN</td>\n      <td>1955</td>\n      <td></td>\n      <td></td>\n      <td>La défense accuse</td>\n      <td>XXe</td>\n      <td>800</td>\n      <td>800-Littérature</td>\n      <td>0.054758</td>\n      <td>NaN</td>\n    </tr>\n    <tr>\n      <th>1</th>\n      <td>R240115614</td>\n      <td>30.90</td>\n      <td>abebooks</td>\n      <td>NaN</td>\n      <td>1928</td>\n      <td></td>\n      <td></td>\n      <td>LES OEUVRES COMPLETES EMILE ZOLA - LA CONFESSI...</td>\n      <td>XXe</td>\n      <td>800</td>\n      <td>800-Littérature</td>\n      <td>3.244420</td>\n      <td>NaN</td>\n    </tr>\n    <tr>\n      <th>2</th>\n      <td>R150216443</td>\n      <td>30.90</td>\n      <td>abebooks</td>\n      <td>NaN</td>\n      <td>1986</td>\n      <td>9782080648884</td>\n      <td>2080648888</td>\n      <td>LES CENDRES BRULANTES</td>\n      <td>XXe</td>\n      <td>800</td>\n      <td>800-Littérature</td>\n      <td>2.633867</td>\n      <td>NaN</td>\n    </tr>\n    <tr>\n      <th>3</th>\n      <td>R320110344</td>\n      <td>30.90</td>\n      <td>abebooks</td>\n      <td>NaN</td>\n      <td>1929</td>\n      <td></td>\n      <td></td>\n      <td>FABLES - PRECEDEES D'UNE NOTICE BIOGRAPHIQUE E...</td>\n      <td>XXe</td>\n      <td>800</td>\n      <td>800-Littérature</td>\n      <td>1.111590</td>\n      <td>NaN</td>\n    </tr>\n    <tr>\n      <th>4</th>\n      <td>R160131648</td>\n      <td>65.25</td>\n      <td>abebooks</td>\n      <td>NaN</td>\n      <td>1879</td>\n      <td></td>\n      <td></td>\n      <td>CHOIX DE FABLES DE J. DE LA FONTAINE.</td>\n      <td>XIXe</td>\n      <td>800</td>\n      <td>800-Littérature</td>\n      <td>7.282833</td>\n      <td>NaN</td>\n    </tr>\n    <tr>\n      <th>...</th>\n      <td>...</td>\n      <td>...</td>\n      <td>...</td>\n      <td>...</td>\n      <td>...</td>\n      <td>...</td>\n      <td>...</td>\n      <td>...</td>\n      <td>...</td>\n      <td>...</td>\n      <td>...</td>\n      <td>...</td>\n      <td>...</td>\n    </tr>\n    <tr>\n      <th>11167</th>\n      <td>RO60029238</td>\n      <td>35.80</td>\n      <td>rakuten</td>\n      <td>NaN</td>\n      <td>1957</td>\n      <td></td>\n      <td></td>\n      <td>EXPERTISE D'EVALUATION IMMOBILIERE</td>\n      <td>XXe</td>\n      <td>600</td>\n      <td>600-Technologie</td>\n      <td>12.835308</td>\n      <td>NaN</td>\n    </tr>\n    <tr>\n      <th>11168</th>\n      <td>R110108053</td>\n      <td>25.80</td>\n      <td>rakuten</td>\n      <td>NaN</td>\n      <td>1978</td>\n      <td></td>\n      <td></td>\n      <td>L'ENCYCLOPEDIE DU JARDINAGE</td>\n      <td>XXe</td>\n      <td>600</td>\n      <td>600-Technologie</td>\n      <td>1.900107</td>\n      <td>NaN</td>\n    </tr>\n    <tr>\n      <th>11169</th>\n      <td>RO30116455</td>\n      <td>16.95</td>\n      <td>rakuten</td>\n      <td>NaN</td>\n      <td>1963</td>\n      <td></td>\n      <td></td>\n      <td>MADELEINE, QUELQUES RECETTES FINES RECETTES SP...</td>\n      <td>XXe</td>\n      <td>600</td>\n      <td>600-Technologie</td>\n      <td>7.072014</td>\n      <td>NaN</td>\n    </tr>\n    <tr>\n      <th>11170</th>\n      <td>R320049974</td>\n      <td>16.95</td>\n      <td>rakuten</td>\n      <td>NaN</td>\n      <td>1987</td>\n      <td></td>\n      <td></td>\n      <td>PLAQUETTE PUBLICITAIRE DU VEHICULE PEUGEOT 405 .</td>\n      <td>XXe</td>\n      <td>600</td>\n      <td>600-Technologie</td>\n      <td>5.240354</td>\n      <td>NaN</td>\n    </tr>\n    <tr>\n      <th>11171</th>\n      <td>RO30058208</td>\n      <td>25.80</td>\n      <td>rakuten</td>\n      <td>NaN</td>\n      <td>1976</td>\n      <td></td>\n      <td></td>\n      <td>J 7</td>\n      <td>XXe</td>\n      <td>600</td>\n      <td>600-Technologie</td>\n      <td>10.847588</td>\n      <td>NaN</td>\n    </tr>\n  </tbody>\n</table>\n<p>11172 rows × 13 columns</p>\n</div>"
     },
     "metadata": {},
     "execution_count": 53
    }
   ],
   "source": [
    "df_full = df_full.drop(columns=[\"purchase_date\", \"creation_date\", \"dewey\", 'Country', 'Population', 'Area (sq. mi.)', 'Pop. Density (per sq. mi.)', 'Coastline (coast/area ratio)', 'Net migration', 'Infant mortality (per 1000 births)', 'GDP ($ per capita)', 'Literacy (%)', 'Phones (per 1000)', 'Arable (%)', 'Crops (%)', 'Other (%)', 'Climate', 'Birthrate', 'Deathrate', 'Agriculture', 'Industry', 'Service'])\n",
    "df_full"
   ]
  },
  {
   "cell_type": "markdown",
   "metadata": {},
   "source": [
    "## Exportation"
   ],
   "execution_count": null,
   "outputs": []
  },
  {
   "cell_type": "code",
   "execution_count": 54,
   "metadata": {},
   "outputs": [],
   "source": [
    "os.chdir(\"C:\\Adrian - GDrive\\Professionnel\\Formation\\Informatique - Digital\\Data University\\Projet certification\\csv\")\n",
    "df_full.to_csv(\"3-sales.csv\", index=False)"
   ]
  },
  {
   "cell_type": "markdown",
   "metadata": {},
   "source": [
    "---"
   ],
   "execution_count": null,
   "outputs": []
  },
  {
   "cell_type": "markdown",
   "metadata": {},
   "source": [],
   "execution_count": null,
   "outputs": []
  },
  {
   "cell_type": "markdown",
   "metadata": {},
   "source": [
    "# Statistiques descriptives"
   ],
   "execution_count": null,
   "outputs": []
  },
  {
   "cell_type": "code",
   "execution_count": 55,
   "metadata": {},
   "outputs": [
    {
     "output_type": "execute_result",
     "data": {
      "text/plain": "         item_price  printing_year  retention_delay_years\ncount  11172.000000   11172.000000           11172.000000\nmean      38.086653    1958.192087               5.332943\nstd       34.171392      36.977477               3.840274\nmin        6.240000    1645.000000               0.002738\n25%       20.900000    1941.000000               2.080809\n50%       30.900000    1966.000000               4.591470\n75%       45.800000    1983.000000               7.833836\nmax     1005.000000    2017.000000              17.831988",
      "text/html": "<div>\n<style scoped>\n    .dataframe tbody tr th:only-of-type {\n        vertical-align: middle;\n    }\n\n    .dataframe tbody tr th {\n        vertical-align: top;\n    }\n\n    .dataframe thead th {\n        text-align: right;\n    }\n</style>\n<table border=\"1\" class=\"dataframe\">\n  <thead>\n    <tr style=\"text-align: right;\">\n      <th></th>\n      <th>item_price</th>\n      <th>printing_year</th>\n      <th>retention_delay_years</th>\n    </tr>\n  </thead>\n  <tbody>\n    <tr>\n      <th>count</th>\n      <td>11172.000000</td>\n      <td>11172.000000</td>\n      <td>11172.000000</td>\n    </tr>\n    <tr>\n      <th>mean</th>\n      <td>38.086653</td>\n      <td>1958.192087</td>\n      <td>5.332943</td>\n    </tr>\n    <tr>\n      <th>std</th>\n      <td>34.171392</td>\n      <td>36.977477</td>\n      <td>3.840274</td>\n    </tr>\n    <tr>\n      <th>min</th>\n      <td>6.240000</td>\n      <td>1645.000000</td>\n      <td>0.002738</td>\n    </tr>\n    <tr>\n      <th>25%</th>\n      <td>20.900000</td>\n      <td>1941.000000</td>\n      <td>2.080809</td>\n    </tr>\n    <tr>\n      <th>50%</th>\n      <td>30.900000</td>\n      <td>1966.000000</td>\n      <td>4.591470</td>\n    </tr>\n    <tr>\n      <th>75%</th>\n      <td>45.800000</td>\n      <td>1983.000000</td>\n      <td>7.833836</td>\n    </tr>\n    <tr>\n      <th>max</th>\n      <td>1005.000000</td>\n      <td>2017.000000</td>\n      <td>17.831988</td>\n    </tr>\n  </tbody>\n</table>\n</div>"
     },
     "metadata": {},
     "execution_count": 55
    }
   ],
   "source": [
    "df_full.describe()"
   ]
  },
  {
   "cell_type": "code",
   "execution_count": 56,
   "metadata": {},
   "outputs": [
    {
     "output_type": "execute_result",
     "data": {
      "text/plain": "              sku  item_price sale_source    ship_country  printing_year  \\\n5288   RO40111821      1005.0    abebooks             NaN           1856   \n6743   R260227837       905.0    abebooks             NaN           1873   \n4584   R240066654       705.0        ebay   United States           1993   \n5428   RO30104851       605.0    abebooks             NaN           1882   \n10042  R160112358       605.0    abebooks             NaN           1755   \n3650   R240103299       599.0     lelivre          France           1875   \n9148   ROD0108372       508.0      amazon  United Kingdom           1896   \n5298   RO80160040       506.0    abebooks             NaN           1855   \n3024   RO80078941       506.0    abebooks             NaN           1950   \n2024   R240086994       505.0        ebay     Switzerland           1942   \n\n                 ean        isbn  \\\n5288                               \n6743                               \n4584   9782869412040  2869412045   \n5428                               \n10042                              \n3650                               \n9148                               \n5298                               \n3024                               \n2024                               \n\n                                                   titre century dewey_class  \\\n5288   TABLEAUX, STATUES, BAS-RELIEFS ET CAMEES DE LA...    XIXe         700   \n6743   LES SAINT EVANGILES - 2 TOMES EN 2 VOLUMES (TO...    XIXe         200   \n4584   BLEUETTE LA PETITE FILLE MODELE DE LA COLLECTI...     XXe           0   \n5428   L'ART - REVUE HEBDOMADAIRE ILLUSTREE 4 VOLUMES...    XIXe         700   \n10042  TELLIAMED OU ENTRETIENS D'UN PHILOSOPHE INDIEN...  XVIIIe         100   \n3650   ENQUETE PARLEMENTAIRE SUR LES ACTES DU GOUVERN...    XIXe         300   \n9148   HISTOIRE DES PRINCES DE CONDE PENDANT LES XVI ...    XIXe         900   \n5298   Completa Collezione delle Opere Classiche nell...    XIXe         700   \n3024   Inauguration du M / S Cargo \"Nicole Schiaffino...     XXe         300   \n2024         COMMENT LA LITTERATURE EST ELLE POSSIBLE ?.     XXe         800   \n\n           label_dewey_class  retention_delay_years ship_world_region  \n5288        700-Arts/Loisirs              10.825684               NaN  \n6743           200-Religions               1.440139               NaN  \n4584         000-Généralités               4.920019  NORTHERN_AMERICA  \n5428        700-Arts/Loisirs               8.583338               NaN  \n10042       100-Philo/Psycho               8.931053               NaN  \n3650   300-Sciences sociales               3.411432            FRANCE  \n9148        900-Histoire/Géo               3.102049    WESTERN_EUROPE  \n5298        700-Arts/Loisirs               4.936446               NaN  \n3024   300-Sciences sociales               9.286981               NaN  \n2024         800-Littérature               4.043889    WESTERN_EUROPE  ",
      "text/html": "<div>\n<style scoped>\n    .dataframe tbody tr th:only-of-type {\n        vertical-align: middle;\n    }\n\n    .dataframe tbody tr th {\n        vertical-align: top;\n    }\n\n    .dataframe thead th {\n        text-align: right;\n    }\n</style>\n<table border=\"1\" class=\"dataframe\">\n  <thead>\n    <tr style=\"text-align: right;\">\n      <th></th>\n      <th>sku</th>\n      <th>item_price</th>\n      <th>sale_source</th>\n      <th>ship_country</th>\n      <th>printing_year</th>\n      <th>ean</th>\n      <th>isbn</th>\n      <th>titre</th>\n      <th>century</th>\n      <th>dewey_class</th>\n      <th>label_dewey_class</th>\n      <th>retention_delay_years</th>\n      <th>ship_world_region</th>\n    </tr>\n  </thead>\n  <tbody>\n    <tr>\n      <th>5288</th>\n      <td>RO40111821</td>\n      <td>1005.0</td>\n      <td>abebooks</td>\n      <td>NaN</td>\n      <td>1856</td>\n      <td></td>\n      <td></td>\n      <td>TABLEAUX, STATUES, BAS-RELIEFS ET CAMEES DE LA...</td>\n      <td>XIXe</td>\n      <td>700</td>\n      <td>700-Arts/Loisirs</td>\n      <td>10.825684</td>\n      <td>NaN</td>\n    </tr>\n    <tr>\n      <th>6743</th>\n      <td>R260227837</td>\n      <td>905.0</td>\n      <td>abebooks</td>\n      <td>NaN</td>\n      <td>1873</td>\n      <td></td>\n      <td></td>\n      <td>LES SAINT EVANGILES - 2 TOMES EN 2 VOLUMES (TO...</td>\n      <td>XIXe</td>\n      <td>200</td>\n      <td>200-Religions</td>\n      <td>1.440139</td>\n      <td>NaN</td>\n    </tr>\n    <tr>\n      <th>4584</th>\n      <td>R240066654</td>\n      <td>705.0</td>\n      <td>ebay</td>\n      <td>United States</td>\n      <td>1993</td>\n      <td>9782869412040</td>\n      <td>2869412045</td>\n      <td>BLEUETTE LA PETITE FILLE MODELE DE LA COLLECTI...</td>\n      <td>XXe</td>\n      <td>0</td>\n      <td>000-Généralités</td>\n      <td>4.920019</td>\n      <td>NORTHERN_AMERICA</td>\n    </tr>\n    <tr>\n      <th>5428</th>\n      <td>RO30104851</td>\n      <td>605.0</td>\n      <td>abebooks</td>\n      <td>NaN</td>\n      <td>1882</td>\n      <td></td>\n      <td></td>\n      <td>L'ART - REVUE HEBDOMADAIRE ILLUSTREE 4 VOLUMES...</td>\n      <td>XIXe</td>\n      <td>700</td>\n      <td>700-Arts/Loisirs</td>\n      <td>8.583338</td>\n      <td>NaN</td>\n    </tr>\n    <tr>\n      <th>10042</th>\n      <td>R160112358</td>\n      <td>605.0</td>\n      <td>abebooks</td>\n      <td>NaN</td>\n      <td>1755</td>\n      <td></td>\n      <td></td>\n      <td>TELLIAMED OU ENTRETIENS D'UN PHILOSOPHE INDIEN...</td>\n      <td>XVIIIe</td>\n      <td>100</td>\n      <td>100-Philo/Psycho</td>\n      <td>8.931053</td>\n      <td>NaN</td>\n    </tr>\n    <tr>\n      <th>3650</th>\n      <td>R240103299</td>\n      <td>599.0</td>\n      <td>lelivre</td>\n      <td>France</td>\n      <td>1875</td>\n      <td></td>\n      <td></td>\n      <td>ENQUETE PARLEMENTAIRE SUR LES ACTES DU GOUVERN...</td>\n      <td>XIXe</td>\n      <td>300</td>\n      <td>300-Sciences sociales</td>\n      <td>3.411432</td>\n      <td>FRANCE</td>\n    </tr>\n    <tr>\n      <th>9148</th>\n      <td>ROD0108372</td>\n      <td>508.0</td>\n      <td>amazon</td>\n      <td>United Kingdom</td>\n      <td>1896</td>\n      <td></td>\n      <td></td>\n      <td>HISTOIRE DES PRINCES DE CONDE PENDANT LES XVI ...</td>\n      <td>XIXe</td>\n      <td>900</td>\n      <td>900-Histoire/Géo</td>\n      <td>3.102049</td>\n      <td>WESTERN_EUROPE</td>\n    </tr>\n    <tr>\n      <th>5298</th>\n      <td>RO80160040</td>\n      <td>506.0</td>\n      <td>abebooks</td>\n      <td>NaN</td>\n      <td>1855</td>\n      <td></td>\n      <td></td>\n      <td>Completa Collezione delle Opere Classiche nell...</td>\n      <td>XIXe</td>\n      <td>700</td>\n      <td>700-Arts/Loisirs</td>\n      <td>4.936446</td>\n      <td>NaN</td>\n    </tr>\n    <tr>\n      <th>3024</th>\n      <td>RO80078941</td>\n      <td>506.0</td>\n      <td>abebooks</td>\n      <td>NaN</td>\n      <td>1950</td>\n      <td></td>\n      <td></td>\n      <td>Inauguration du M / S Cargo \"Nicole Schiaffino...</td>\n      <td>XXe</td>\n      <td>300</td>\n      <td>300-Sciences sociales</td>\n      <td>9.286981</td>\n      <td>NaN</td>\n    </tr>\n    <tr>\n      <th>2024</th>\n      <td>R240086994</td>\n      <td>505.0</td>\n      <td>ebay</td>\n      <td>Switzerland</td>\n      <td>1942</td>\n      <td></td>\n      <td></td>\n      <td>COMMENT LA LITTERATURE EST ELLE POSSIBLE ?.</td>\n      <td>XXe</td>\n      <td>800</td>\n      <td>800-Littérature</td>\n      <td>4.043889</td>\n      <td>WESTERN_EUROPE</td>\n    </tr>\n  </tbody>\n</table>\n</div>"
     },
     "metadata": {},
     "execution_count": 56
    }
   ],
   "source": [
    "df_full.sort_values(by=\"item_price\", ascending=False).head(10)"
   ]
  },
  {
   "cell_type": "markdown",
   "metadata": {},
   "source": [],
   "execution_count": null,
   "outputs": []
  },
  {
   "cell_type": "code",
   "execution_count": 57,
   "metadata": {},
   "outputs": [
    {
     "output_type": "execute_result",
     "data": {
      "text/plain": "              sku  item_price   sale_source   ship_country  printing_year  \\\n5288   RO40111821     1005.00      abebooks            NaN           1856   \n6743   R260227837      905.00      abebooks            NaN           1873   \n4584   R240066654      705.00          ebay  United States           1993   \n5428   RO30104851      605.00      abebooks            NaN           1882   \n10042  R160112358      605.00      abebooks            NaN           1755   \n...           ...         ...           ...            ...            ...   \n843    RO90075629        7.00       lelivre         France           1968   \n4938   ROD0076072        7.00       lelivre         France           1977   \n3753   RO60132147        7.00  leslibraires            NaN           2007   \n2408   RO90073530        7.00       lelivre         France           1962   \n2609   RO80214481        6.24       rakuten            NaN           1990   \n\n                 ean        isbn  \\\n5288                               \n6743                               \n4584   9782869412040  2869412045   \n5428                               \n10042                              \n...              ...         ...   \n843    9782253005438  2253005436   \n4938                               \n3753   9782290004067  2290004065   \n2408   9782253010777  2253010774   \n2609   9782702118658  2702118658   \n\n                                                   titre century dewey_class  \\\n5288   TABLEAUX, STATUES, BAS-RELIEFS ET CAMEES DE LA...    XIXe         700   \n6743   LES SAINT EVANGILES - 2 TOMES EN 2 VOLUMES (TO...    XIXe         200   \n4584   BLEUETTE LA PETITE FILLE MODELE DE LA COLLECTI...     XXe           0   \n5428   L'ART - REVUE HEBDOMADAIRE ILLUSTREE 4 VOLUMES...    XIXe         700   \n10042  TELLIAMED OU ENTRETIENS D'UN PHILOSOPHE INDIEN...  XVIIIe         100   \n...                                                  ...     ...         ...   \n843                    ANTHOLOGIE DE LA POESIE FRANCAISE     XXe         800   \n4938                                  METAL HURLANT N°23     XXe           0   \n3753             PAROLES DE FEMMES, LA LIBERTE DU REGARD    XXIe         300   \n2408                                               MOIRA     XXe         800   \n2609               Alois Brunner - La haine irréductible     XXe         800   \n\n           label_dewey_class  retention_delay_years ship_world_region  \n5288        700-Arts/Loisirs              10.825684               NaN  \n6743           200-Religions               1.440139               NaN  \n4584         000-Généralités               4.920019  NORTHERN_AMERICA  \n5428        700-Arts/Loisirs               8.583338               NaN  \n10042       100-Philo/Psycho               8.931053               NaN  \n...                      ...                    ...               ...  \n843          800-Littérature              11.469092            FRANCE  \n4938         000-Généralités               9.347215            FRANCE  \n3753   300-Sciences sociales               1.171824               NaN  \n2408         800-Littérature              11.701815            FRANCE  \n2609         800-Littérature               0.005476               NaN  \n\n[11172 rows x 13 columns]",
      "text/html": "<div>\n<style scoped>\n    .dataframe tbody tr th:only-of-type {\n        vertical-align: middle;\n    }\n\n    .dataframe tbody tr th {\n        vertical-align: top;\n    }\n\n    .dataframe thead th {\n        text-align: right;\n    }\n</style>\n<table border=\"1\" class=\"dataframe\">\n  <thead>\n    <tr style=\"text-align: right;\">\n      <th></th>\n      <th>sku</th>\n      <th>item_price</th>\n      <th>sale_source</th>\n      <th>ship_country</th>\n      <th>printing_year</th>\n      <th>ean</th>\n      <th>isbn</th>\n      <th>titre</th>\n      <th>century</th>\n      <th>dewey_class</th>\n      <th>label_dewey_class</th>\n      <th>retention_delay_years</th>\n      <th>ship_world_region</th>\n    </tr>\n  </thead>\n  <tbody>\n    <tr>\n      <th>5288</th>\n      <td>RO40111821</td>\n      <td>1005.00</td>\n      <td>abebooks</td>\n      <td>NaN</td>\n      <td>1856</td>\n      <td></td>\n      <td></td>\n      <td>TABLEAUX, STATUES, BAS-RELIEFS ET CAMEES DE LA...</td>\n      <td>XIXe</td>\n      <td>700</td>\n      <td>700-Arts/Loisirs</td>\n      <td>10.825684</td>\n      <td>NaN</td>\n    </tr>\n    <tr>\n      <th>6743</th>\n      <td>R260227837</td>\n      <td>905.00</td>\n      <td>abebooks</td>\n      <td>NaN</td>\n      <td>1873</td>\n      <td></td>\n      <td></td>\n      <td>LES SAINT EVANGILES - 2 TOMES EN 2 VOLUMES (TO...</td>\n      <td>XIXe</td>\n      <td>200</td>\n      <td>200-Religions</td>\n      <td>1.440139</td>\n      <td>NaN</td>\n    </tr>\n    <tr>\n      <th>4584</th>\n      <td>R240066654</td>\n      <td>705.00</td>\n      <td>ebay</td>\n      <td>United States</td>\n      <td>1993</td>\n      <td>9782869412040</td>\n      <td>2869412045</td>\n      <td>BLEUETTE LA PETITE FILLE MODELE DE LA COLLECTI...</td>\n      <td>XXe</td>\n      <td>0</td>\n      <td>000-Généralités</td>\n      <td>4.920019</td>\n      <td>NORTHERN_AMERICA</td>\n    </tr>\n    <tr>\n      <th>5428</th>\n      <td>RO30104851</td>\n      <td>605.00</td>\n      <td>abebooks</td>\n      <td>NaN</td>\n      <td>1882</td>\n      <td></td>\n      <td></td>\n      <td>L'ART - REVUE HEBDOMADAIRE ILLUSTREE 4 VOLUMES...</td>\n      <td>XIXe</td>\n      <td>700</td>\n      <td>700-Arts/Loisirs</td>\n      <td>8.583338</td>\n      <td>NaN</td>\n    </tr>\n    <tr>\n      <th>10042</th>\n      <td>R160112358</td>\n      <td>605.00</td>\n      <td>abebooks</td>\n      <td>NaN</td>\n      <td>1755</td>\n      <td></td>\n      <td></td>\n      <td>TELLIAMED OU ENTRETIENS D'UN PHILOSOPHE INDIEN...</td>\n      <td>XVIIIe</td>\n      <td>100</td>\n      <td>100-Philo/Psycho</td>\n      <td>8.931053</td>\n      <td>NaN</td>\n    </tr>\n    <tr>\n      <th>...</th>\n      <td>...</td>\n      <td>...</td>\n      <td>...</td>\n      <td>...</td>\n      <td>...</td>\n      <td>...</td>\n      <td>...</td>\n      <td>...</td>\n      <td>...</td>\n      <td>...</td>\n      <td>...</td>\n      <td>...</td>\n      <td>...</td>\n    </tr>\n    <tr>\n      <th>843</th>\n      <td>RO90075629</td>\n      <td>7.00</td>\n      <td>lelivre</td>\n      <td>France</td>\n      <td>1968</td>\n      <td>9782253005438</td>\n      <td>2253005436</td>\n      <td>ANTHOLOGIE DE LA POESIE FRANCAISE</td>\n      <td>XXe</td>\n      <td>800</td>\n      <td>800-Littérature</td>\n      <td>11.469092</td>\n      <td>FRANCE</td>\n    </tr>\n    <tr>\n      <th>4938</th>\n      <td>ROD0076072</td>\n      <td>7.00</td>\n      <td>lelivre</td>\n      <td>France</td>\n      <td>1977</td>\n      <td></td>\n      <td></td>\n      <td>METAL HURLANT N°23</td>\n      <td>XXe</td>\n      <td>0</td>\n      <td>000-Généralités</td>\n      <td>9.347215</td>\n      <td>FRANCE</td>\n    </tr>\n    <tr>\n      <th>3753</th>\n      <td>RO60132147</td>\n      <td>7.00</td>\n      <td>leslibraires</td>\n      <td>NaN</td>\n      <td>2007</td>\n      <td>9782290004067</td>\n      <td>2290004065</td>\n      <td>PAROLES DE FEMMES, LA LIBERTE DU REGARD</td>\n      <td>XXIe</td>\n      <td>300</td>\n      <td>300-Sciences sociales</td>\n      <td>1.171824</td>\n      <td>NaN</td>\n    </tr>\n    <tr>\n      <th>2408</th>\n      <td>RO90073530</td>\n      <td>7.00</td>\n      <td>lelivre</td>\n      <td>France</td>\n      <td>1962</td>\n      <td>9782253010777</td>\n      <td>2253010774</td>\n      <td>MOIRA</td>\n      <td>XXe</td>\n      <td>800</td>\n      <td>800-Littérature</td>\n      <td>11.701815</td>\n      <td>FRANCE</td>\n    </tr>\n    <tr>\n      <th>2609</th>\n      <td>RO80214481</td>\n      <td>6.24</td>\n      <td>rakuten</td>\n      <td>NaN</td>\n      <td>1990</td>\n      <td>9782702118658</td>\n      <td>2702118658</td>\n      <td>Alois Brunner - La haine irréductible</td>\n      <td>XXe</td>\n      <td>800</td>\n      <td>800-Littérature</td>\n      <td>0.005476</td>\n      <td>NaN</td>\n    </tr>\n  </tbody>\n</table>\n<p>11172 rows × 13 columns</p>\n</div>"
     },
     "metadata": {},
     "execution_count": 57
    }
   ],
   "source": [
    "df_full.sort_values(by=\"item_price\", ascending=False)"
   ]
  },
  {
   "cell_type": "code",
   "execution_count": 58,
   "metadata": {},
   "outputs": [
    {
     "output_type": "execute_result",
     "data": {
      "text/plain": "          sku\ncentury      \nXXe      9546\nXXIe      803\nXIXe      783\nXVIIIe     35\nXVIIe       5",
      "text/html": "<div>\n<style scoped>\n    .dataframe tbody tr th:only-of-type {\n        vertical-align: middle;\n    }\n\n    .dataframe tbody tr th {\n        vertical-align: top;\n    }\n\n    .dataframe thead th {\n        text-align: right;\n    }\n</style>\n<table border=\"1\" class=\"dataframe\">\n  <thead>\n    <tr style=\"text-align: right;\">\n      <th></th>\n      <th>sku</th>\n    </tr>\n    <tr>\n      <th>century</th>\n      <th></th>\n    </tr>\n  </thead>\n  <tbody>\n    <tr>\n      <th>XXe</th>\n      <td>9546</td>\n    </tr>\n    <tr>\n      <th>XXIe</th>\n      <td>803</td>\n    </tr>\n    <tr>\n      <th>XIXe</th>\n      <td>783</td>\n    </tr>\n    <tr>\n      <th>XVIIIe</th>\n      <td>35</td>\n    </tr>\n    <tr>\n      <th>XVIIe</th>\n      <td>5</td>\n    </tr>\n  </tbody>\n</table>\n</div>"
     },
     "metadata": {},
     "execution_count": 58
    }
   ],
   "source": [
    "df_full[[\"sku\",\"century\"]].groupby(\"century\").count().sort_values(by=\"sku\", ascending=False)"
   ]
  },
  {
   "cell_type": "code",
   "execution_count": 59,
   "metadata": {},
   "outputs": [
    {
     "output_type": "execute_result",
     "data": {
      "text/plain": "2160"
     },
     "metadata": {},
     "execution_count": 59
    }
   ],
   "source": [
    "df_full[\"isbn\"][df_full[\"isbn\"] != \"\"].count()"
   ]
  },
  {
   "cell_type": "code",
   "execution_count": 60,
   "metadata": {},
   "outputs": [
    {
     "output_type": "execute_result",
     "data": {
      "text/plain": "2200"
     },
     "metadata": {},
     "execution_count": 60
    }
   ],
   "source": [
    "df_full[\"ean\"][df_full[\"ean\"] != \"\"].count()"
   ]
  },
  {
   "cell_type": "code",
   "execution_count": 61,
   "metadata": {},
   "outputs": [
    {
     "output_type": "execute_result",
     "data": {
      "text/plain": "              sku  item_price sale_source ship_country  printing_year  \\\n2      R150216443       30.90    abebooks          NaN           1986   \n7      R200040825       30.90    abebooks          NaN           2009   \n11     RO20208818       35.80    abebooks          NaN           1975   \n17     RO30307305       20.90    abebooks          NaN           2009   \n18     R150112039       25.80    abebooks          NaN           1987   \n...           ...         ...         ...          ...            ...   \n11112  RO90125761       16.95     rakuten          NaN           1995   \n11115  R110218215       35.80     rakuten          NaN           1986   \n11121  RO40262004       55.50     rakuten          NaN           1983   \n11151  RO40129343       25.80     rakuten          NaN           1975   \n11152  R200043009       30.90     rakuten          NaN           2002   \n\n                 ean        isbn  \\\n2      9782080648884  2080648888   \n7      9782895404408  2895404402   \n11     9782857040064  2857040067   \n17     9782738224705  2738224709   \n18     9782070530274  2070530272   \n...              ...         ...   \n11112  9782732842219  2732842214   \n11115  9782708986114  2708986112   \n11121  9782717807004  2717807004   \n11151  9782228540100  2228540102   \n11152  9782906962132  2906962139   \n\n                                                   titre century dewey_class  \\\n2                                  LES CENDRES BRULANTES     XXe         800   \n7                           UNE GARDIENNE POUR ETIENNE !    XXIe         800   \n11                                  ONASSIS MON AMOUR...     XXe         800   \n17                                     Le monde selon K.    XXIe         800   \n18     COLLECTION DECOUVERTES GALLIMARD N° 13. LES VI...     XXe         800   \n...                                                  ...     ...         ...   \n11112       MODELES DE CONTRATS TYPES POUR UNE PME - PMI     XXe         600   \n11115  LES PIONNIERS DE L'AVIATION COMMERCIALE I. LES...     XXe         600   \n11121  ESPACE ET PSYCHOPATHOLOGIE (Sommaire: Introduc...     XXe         600   \n11151                             LES FEMMES ET LA FOLIE     XXe         600   \n11152                     FLEURS A BRODER 100 TRANSFERTS    XXIe         600   \n\n      label_dewey_class  retention_delay_years ship_world_region  \n2       800-Littérature               2.633867               NaN  \n7       800-Littérature               4.380651               NaN  \n11      800-Littérature               1.637268               NaN  \n17      800-Littérature               0.564009               NaN  \n18      800-Littérature               8.071350               NaN  \n...                 ...                    ...               ...  \n11112   600-Technologie              10.264413               NaN  \n11115   600-Technologie               1.158135               NaN  \n11121   600-Technologie               3.477142               NaN  \n11151   600-Technologie              10.406785               NaN  \n11152   600-Technologie               4.161619               NaN  \n\n[2160 rows x 13 columns]",
      "text/html": "<div>\n<style scoped>\n    .dataframe tbody tr th:only-of-type {\n        vertical-align: middle;\n    }\n\n    .dataframe tbody tr th {\n        vertical-align: top;\n    }\n\n    .dataframe thead th {\n        text-align: right;\n    }\n</style>\n<table border=\"1\" class=\"dataframe\">\n  <thead>\n    <tr style=\"text-align: right;\">\n      <th></th>\n      <th>sku</th>\n      <th>item_price</th>\n      <th>sale_source</th>\n      <th>ship_country</th>\n      <th>printing_year</th>\n      <th>ean</th>\n      <th>isbn</th>\n      <th>titre</th>\n      <th>century</th>\n      <th>dewey_class</th>\n      <th>label_dewey_class</th>\n      <th>retention_delay_years</th>\n      <th>ship_world_region</th>\n    </tr>\n  </thead>\n  <tbody>\n    <tr>\n      <th>2</th>\n      <td>R150216443</td>\n      <td>30.90</td>\n      <td>abebooks</td>\n      <td>NaN</td>\n      <td>1986</td>\n      <td>9782080648884</td>\n      <td>2080648888</td>\n      <td>LES CENDRES BRULANTES</td>\n      <td>XXe</td>\n      <td>800</td>\n      <td>800-Littérature</td>\n      <td>2.633867</td>\n      <td>NaN</td>\n    </tr>\n    <tr>\n      <th>7</th>\n      <td>R200040825</td>\n      <td>30.90</td>\n      <td>abebooks</td>\n      <td>NaN</td>\n      <td>2009</td>\n      <td>9782895404408</td>\n      <td>2895404402</td>\n      <td>UNE GARDIENNE POUR ETIENNE !</td>\n      <td>XXIe</td>\n      <td>800</td>\n      <td>800-Littérature</td>\n      <td>4.380651</td>\n      <td>NaN</td>\n    </tr>\n    <tr>\n      <th>11</th>\n      <td>RO20208818</td>\n      <td>35.80</td>\n      <td>abebooks</td>\n      <td>NaN</td>\n      <td>1975</td>\n      <td>9782857040064</td>\n      <td>2857040067</td>\n      <td>ONASSIS MON AMOUR...</td>\n      <td>XXe</td>\n      <td>800</td>\n      <td>800-Littérature</td>\n      <td>1.637268</td>\n      <td>NaN</td>\n    </tr>\n    <tr>\n      <th>17</th>\n      <td>RO30307305</td>\n      <td>20.90</td>\n      <td>abebooks</td>\n      <td>NaN</td>\n      <td>2009</td>\n      <td>9782738224705</td>\n      <td>2738224709</td>\n      <td>Le monde selon K.</td>\n      <td>XXIe</td>\n      <td>800</td>\n      <td>800-Littérature</td>\n      <td>0.564009</td>\n      <td>NaN</td>\n    </tr>\n    <tr>\n      <th>18</th>\n      <td>R150112039</td>\n      <td>25.80</td>\n      <td>abebooks</td>\n      <td>NaN</td>\n      <td>1987</td>\n      <td>9782070530274</td>\n      <td>2070530272</td>\n      <td>COLLECTION DECOUVERTES GALLIMARD N° 13. LES VI...</td>\n      <td>XXe</td>\n      <td>800</td>\n      <td>800-Littérature</td>\n      <td>8.071350</td>\n      <td>NaN</td>\n    </tr>\n    <tr>\n      <th>...</th>\n      <td>...</td>\n      <td>...</td>\n      <td>...</td>\n      <td>...</td>\n      <td>...</td>\n      <td>...</td>\n      <td>...</td>\n      <td>...</td>\n      <td>...</td>\n      <td>...</td>\n      <td>...</td>\n      <td>...</td>\n      <td>...</td>\n    </tr>\n    <tr>\n      <th>11112</th>\n      <td>RO90125761</td>\n      <td>16.95</td>\n      <td>rakuten</td>\n      <td>NaN</td>\n      <td>1995</td>\n      <td>9782732842219</td>\n      <td>2732842214</td>\n      <td>MODELES DE CONTRATS TYPES POUR UNE PME - PMI</td>\n      <td>XXe</td>\n      <td>600</td>\n      <td>600-Technologie</td>\n      <td>10.264413</td>\n      <td>NaN</td>\n    </tr>\n    <tr>\n      <th>11115</th>\n      <td>R110218215</td>\n      <td>35.80</td>\n      <td>rakuten</td>\n      <td>NaN</td>\n      <td>1986</td>\n      <td>9782708986114</td>\n      <td>2708986112</td>\n      <td>LES PIONNIERS DE L'AVIATION COMMERCIALE I. LES...</td>\n      <td>XXe</td>\n      <td>600</td>\n      <td>600-Technologie</td>\n      <td>1.158135</td>\n      <td>NaN</td>\n    </tr>\n    <tr>\n      <th>11121</th>\n      <td>RO40262004</td>\n      <td>55.50</td>\n      <td>rakuten</td>\n      <td>NaN</td>\n      <td>1983</td>\n      <td>9782717807004</td>\n      <td>2717807004</td>\n      <td>ESPACE ET PSYCHOPATHOLOGIE (Sommaire: Introduc...</td>\n      <td>XXe</td>\n      <td>600</td>\n      <td>600-Technologie</td>\n      <td>3.477142</td>\n      <td>NaN</td>\n    </tr>\n    <tr>\n      <th>11151</th>\n      <td>RO40129343</td>\n      <td>25.80</td>\n      <td>rakuten</td>\n      <td>NaN</td>\n      <td>1975</td>\n      <td>9782228540100</td>\n      <td>2228540102</td>\n      <td>LES FEMMES ET LA FOLIE</td>\n      <td>XXe</td>\n      <td>600</td>\n      <td>600-Technologie</td>\n      <td>10.406785</td>\n      <td>NaN</td>\n    </tr>\n    <tr>\n      <th>11152</th>\n      <td>R200043009</td>\n      <td>30.90</td>\n      <td>rakuten</td>\n      <td>NaN</td>\n      <td>2002</td>\n      <td>9782906962132</td>\n      <td>2906962139</td>\n      <td>FLEURS A BRODER 100 TRANSFERTS</td>\n      <td>XXIe</td>\n      <td>600</td>\n      <td>600-Technologie</td>\n      <td>4.161619</td>\n      <td>NaN</td>\n    </tr>\n  </tbody>\n</table>\n<p>2160 rows × 13 columns</p>\n</div>"
     },
     "metadata": {},
     "execution_count": 61
    }
   ],
   "source": [
    "df_full[(df_full[\"ean\"] != \"\") & (df_full[\"isbn\"] != \"\")]"
   ]
  },
  {
   "cell_type": "code",
   "execution_count": null,
   "metadata": {},
   "outputs": [],
   "source": []
  }
 ]
}