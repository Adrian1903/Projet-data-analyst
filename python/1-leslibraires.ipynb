{
 "nbformat": 4,
 "nbformat_minor": 2,
 "metadata": {
  "language_info": {
   "name": "python",
   "codemirror_mode": {
    "name": "ipython",
    "version": 3
   },
   "version": "3.7.6-final"
  },
  "orig_nbformat": 2,
  "file_extension": ".py",
  "mimetype": "text/x-python",
  "name": "python",
  "npconvert_exporter": "python",
  "pygments_lexer": "ipython3",
  "version": 3,
  "kernelspec": {
   "name": "python3",
   "display_name": "Python 3"
  }
 },
 "cells": [
  {
   "cell_type": "markdown",
   "metadata": {},
   "source": [
    "# Leslibraires"
   ]
  },
  {
   "cell_type": "markdown",
   "metadata": {},
   "source": [
    "___"
   ]
  },
  {
   "cell_type": "code",
   "execution_count": 37,
   "metadata": {},
   "outputs": [],
   "source": [
    "import pandas as pd\n",
    "import os\n",
    "import glob\n",
    "import mysql.connector"
   ]
  },
  {
   "cell_type": "code",
   "execution_count": 38,
   "metadata": {
    "tags": [
     "outputPrepend"
    ]
   },
   "outputs": [
    {
     "output_type": "stream",
     "name": "stdout",
     "text": "Index(['Commande', 'Expédition', 'Date de commande', 'Date d'expédition',\n       'ean13', 'Titre', 'Auteur', 'Éditeur', 'Quantité', 'Total HT',\n       'Total TTC'],\n      dtype='object')\nIndex(['Commande', 'Expédition', 'Date de commande', 'Date d'expédition',\n       'ean13', 'Titre', 'Auteur', 'Éditeur', 'Quantité', 'Total HT',\n       'Total TTC'],\n      dtype='object')\nIndex(['Commande', 'Expédition', 'Date de commande', 'Date d'expédition',\n       'ean13', 'Titre', 'Auteur', 'Éditeur', 'Quantité', 'Total HT',\n       'Total TTC'],\n      dtype='object')\nIndex(['Commande', 'Expédition', 'Date de commande', 'Date d'expédition',\n       'ean13', 'Titre', 'Auteur', 'Éditeur', 'Quantité', 'Total HT',\n       'Total TTC'],\n      dtype='object')\nIndex(['Commande', 'Expédition', 'Date de commande', 'Date d'expédition',\n       'ean13', 'Titre', 'Auteur', 'Éditeur', 'Quantité', 'Total HT',\n       'Total TTC'],\n      dtype='object')\nIndex(['Commande', 'Expédition', 'Date de commande', 'Date d'expédition',\n       'ean13', 'Titre', 'Auteur', 'Éditeur', 'Quantité', 'Total HT',\n       'Total TTC'],\n      dtype='object')\nIndex(['Commande', 'Expédition', 'Date de commande', 'Date d'expédition',\n       'ean13', 'Titre', 'Auteur', 'Éditeur', 'Quantité', 'Total HT',\n       'Total TTC'],\n      dtype='object')\n"
    },
    {
     "output_type": "execute_result",
     "data": {
      "text/plain": "(542, 11)"
     },
     "metadata": {},
     "execution_count": 38
    }
   ],
   "source": [
    "os.chdir(\"C:\\Adrian - GDrive\\Professionnel\\Formation\\Informatique - Digital\\Data University\\Projet certification\\src\\leslibraires\")\n",
    "\n",
    "df = pd.DataFrame(columns=[], index=[])\n",
    "\n",
    "for file in glob.glob(\"*.xlsx\"):\n",
    "    #print(file)\n",
    "    csv = pd.read_excel(file, sheet_name=\"Lignes de commandes particulier\")\n",
    "    print(csv.columns)\n",
    "    df = df.append(csv, ignore_index=True)\n",
    "\n",
    "df.shape"
   ]
  },
  {
   "cell_type": "code",
   "execution_count": 39,
   "metadata": {},
   "outputs": [
    {
     "output_type": "execute_result",
     "data": {
      "text/plain": "Index(['Commande', 'Expédition', 'Date de commande', 'Date d'expédition',\n       'ean13', 'Titre', 'Auteur', 'Éditeur', 'Quantité', 'Total HT',\n       'Total TTC'],\n      dtype='object')"
     },
     "metadata": {},
     "execution_count": 39
    }
   ],
   "source": [
    "df.columns"
   ]
  },
  {
   "cell_type": "code",
   "execution_count": 40,
   "metadata": {},
   "outputs": [
    {
     "output_type": "execute_result",
     "data": {
      "text/plain": "(542, 11)"
     },
     "metadata": {},
     "execution_count": 40
    }
   ],
   "source": [
    "df[df[\"ean13\"].notna()].shape"
   ]
  },
  {
   "cell_type": "code",
   "execution_count": 41,
   "metadata": {},
   "outputs": [],
   "source": [
    "df = df.drop(columns=['Commande', 'Expédition', \"Date d'expédition\", 'Titre', 'Auteur', 'Éditeur', 'Quantité', 'Total HT'])\n",
    ""
   ]
  },
  {
   "cell_type": "code",
   "execution_count": 42,
   "metadata": {},
   "outputs": [
    {
     "output_type": "execute_result",
     "data": {
      "text/plain": "(542, 3)"
     },
     "metadata": {},
     "execution_count": 42
    }
   ],
   "source": [
    "df.shape"
   ]
  },
  {
   "cell_type": "code",
   "execution_count": 43,
   "metadata": {},
   "outputs": [
    {
     "output_type": "execute_result",
     "data": {
      "text/plain": "Date de commande    datetime64[ns]\nean13                        int64\nTotal TTC                  float64\ndtype: object"
     },
     "metadata": {},
     "execution_count": 43
    }
   ],
   "source": [
    "df.dtypes"
   ]
  },
  {
   "cell_type": "code",
   "execution_count": 44,
   "metadata": {},
   "outputs": [
    {
     "output_type": "execute_result",
     "data": {
      "text/plain": "     Date de commande          ean13  Total TTC\n0 2018-12-31 14:01:25  9782266070188      16.95\n1 2018-12-31 10:10:33  9782020055048      19.80\n2 2019-01-01 19:15:28  2000116421223      19.80\n3 2019-01-02 12:02:21  2000053168526      24.90\n4 2019-01-03 07:05:27  9782262007997      29.80",
      "text/html": "<div>\n<style scoped>\n    .dataframe tbody tr th:only-of-type {\n        vertical-align: middle;\n    }\n\n    .dataframe tbody tr th {\n        vertical-align: top;\n    }\n\n    .dataframe thead th {\n        text-align: right;\n    }\n</style>\n<table border=\"1\" class=\"dataframe\">\n  <thead>\n    <tr style=\"text-align: right;\">\n      <th></th>\n      <th>Date de commande</th>\n      <th>ean13</th>\n      <th>Total TTC</th>\n    </tr>\n  </thead>\n  <tbody>\n    <tr>\n      <th>0</th>\n      <td>2018-12-31 14:01:25</td>\n      <td>9782266070188</td>\n      <td>16.95</td>\n    </tr>\n    <tr>\n      <th>1</th>\n      <td>2018-12-31 10:10:33</td>\n      <td>9782020055048</td>\n      <td>19.80</td>\n    </tr>\n    <tr>\n      <th>2</th>\n      <td>2019-01-01 19:15:28</td>\n      <td>2000116421223</td>\n      <td>19.80</td>\n    </tr>\n    <tr>\n      <th>3</th>\n      <td>2019-01-02 12:02:21</td>\n      <td>2000053168526</td>\n      <td>24.90</td>\n    </tr>\n    <tr>\n      <th>4</th>\n      <td>2019-01-03 07:05:27</td>\n      <td>9782262007997</td>\n      <td>29.80</td>\n    </tr>\n  </tbody>\n</table>\n</div>"
     },
     "metadata": {},
     "execution_count": 44
    }
   ],
   "source": [
    "df.head()"
   ]
  },
  {
   "cell_type": "code",
   "execution_count": 45,
   "metadata": {},
   "outputs": [
    {
     "output_type": "execute_result",
     "data": {
      "text/plain": "  Date de commande          ean13  Total TTC\n0       2018-12-31  9782266070188      16.95\n1       2018-12-31  9782020055048      19.80\n2       2019-01-01  2000116421223      19.80\n3       2019-01-02  2000053168526      24.90\n4       2019-01-03  9782262007997      29.80",
      "text/html": "<div>\n<style scoped>\n    .dataframe tbody tr th:only-of-type {\n        vertical-align: middle;\n    }\n\n    .dataframe tbody tr th {\n        vertical-align: top;\n    }\n\n    .dataframe thead th {\n        text-align: right;\n    }\n</style>\n<table border=\"1\" class=\"dataframe\">\n  <thead>\n    <tr style=\"text-align: right;\">\n      <th></th>\n      <th>Date de commande</th>\n      <th>ean13</th>\n      <th>Total TTC</th>\n    </tr>\n  </thead>\n  <tbody>\n    <tr>\n      <th>0</th>\n      <td>2018-12-31</td>\n      <td>9782266070188</td>\n      <td>16.95</td>\n    </tr>\n    <tr>\n      <th>1</th>\n      <td>2018-12-31</td>\n      <td>9782020055048</td>\n      <td>19.80</td>\n    </tr>\n    <tr>\n      <th>2</th>\n      <td>2019-01-01</td>\n      <td>2000116421223</td>\n      <td>19.80</td>\n    </tr>\n    <tr>\n      <th>3</th>\n      <td>2019-01-02</td>\n      <td>2000053168526</td>\n      <td>24.90</td>\n    </tr>\n    <tr>\n      <th>4</th>\n      <td>2019-01-03</td>\n      <td>9782262007997</td>\n      <td>29.80</td>\n    </tr>\n  </tbody>\n</table>\n</div>"
     },
     "metadata": {},
     "execution_count": 45
    }
   ],
   "source": [
    "df[\"Date de commande\"] = df[\"Date de commande\"].dt.strftime(\"%Y-%m-%d\") \n",
    "df.head()"
   ]
  },
  {
   "cell_type": "markdown",
   "metadata": {},
   "source": [
    "## Récupération du SKU"
   ]
  },
  {
   "cell_type": "code",
   "execution_count": 46,
   "metadata": {},
   "outputs": [
    {
     "output_type": "stream",
     "name": "stdout",
     "text": "Connected to MySQL Server version  8.0.18\nYou're connected to database:  ('db_lelivre_pro',)\nDataframe constitué\nMySQL connection is closed\n"
    }
   ],
   "source": [
    "try:\n",
    "    connection = mysql.connector.connect(host='localhost',\n",
    "                                         database='db_lelivre_pro',\n",
    "                                         user='localscript',\n",
    "                                         password='GY9x9xLyaJA8CaqQMG6S',\n",
    "                                         port='3308')\n",
    "    if connection.is_connected():\n",
    "        db_Info = connection.get_server_info()\n",
    "        print(\"Connected to MySQL Server version \", db_Info)\n",
    "        cursor = connection.cursor()\n",
    "        cursor.execute(\"select database();\")\n",
    "        record = cursor.fetchone()\n",
    "        print(\"You're connected to database: \", record)\n",
    "except Error as e:\n",
    "    print(\"Error while connecting to MySQL\", e)\n",
    "finally:\n",
    "    if (connection.is_connected()):\n",
    "        ### Dataframe 1\n",
    "        var_sql = \"SELECT ref as sku, ean as ean13 FROM db_lelivre_pro.livresv2 where date > 20181231 and date < 20190901\"\n",
    "        df_sku = pd.read_sql(var_sql, connection)\n",
    "        \n",
    "        print(\"Dataframe constitué\")\n",
    "        cursor.close()\n",
    "        connection.close()\n",
    "        print(\"MySQL connection is closed\")"
   ]
  },
  {
   "cell_type": "code",
   "execution_count": 47,
   "metadata": {},
   "outputs": [
    {
     "output_type": "execute_result",
     "data": {
      "text/plain": "(78921, 2)"
     },
     "metadata": {},
     "execution_count": 47
    }
   ],
   "source": [
    "df_sku.shape"
   ]
  },
  {
   "cell_type": "code",
   "execution_count": 48,
   "metadata": {},
   "outputs": [
    {
     "output_type": "execute_result",
     "data": {
      "text/plain": "(542, 3)"
     },
     "metadata": {},
     "execution_count": 48
    }
   ],
   "source": [
    "df.shape"
   ]
  },
  {
   "cell_type": "code",
   "execution_count": 49,
   "metadata": {},
   "outputs": [
    {
     "output_type": "execute_result",
     "data": {
      "text/plain": "sku      object\nean13    object\ndtype: object"
     },
     "metadata": {},
     "execution_count": 49
    }
   ],
   "source": [
    "df_sku.dtypes"
   ]
  },
  {
   "cell_type": "code",
   "execution_count": 50,
   "metadata": {},
   "outputs": [
    {
     "output_type": "execute_result",
     "data": {
      "text/plain": "Date de commande     object\nean13                 int64\nTotal TTC           float64\ndtype: object"
     },
     "metadata": {},
     "execution_count": 50
    }
   ],
   "source": [
    "df.dtypes"
   ]
  },
  {
   "cell_type": "code",
   "execution_count": 51,
   "metadata": {},
   "outputs": [],
   "source": [
    "df[\"ean13\"]= df[\"ean13\"].astype(str)"
   ]
  },
  {
   "cell_type": "code",
   "execution_count": 52,
   "metadata": {},
   "outputs": [],
   "source": [
    "df = df.merge(df_sku, on=\"ean13\")"
   ]
  },
  {
   "cell_type": "code",
   "execution_count": 53,
   "metadata": {},
   "outputs": [],
   "source": [
    "df = df.drop(columns=\"ean13\")"
   ]
  },
  {
   "cell_type": "code",
   "execution_count": 54,
   "metadata": {},
   "outputs": [
    {
     "output_type": "execute_result",
     "data": {
      "text/plain": "    Date de commande  Total TTC         sku\n0         2018-12-31      16.95  ROD0138137\n1         2018-12-31      19.80  R160184541\n2         2019-01-03      29.80  R320095702\n3         2019-01-02      30.90  R200074925\n4         2019-01-04      24.90  RO60137276\n..               ...        ...         ...\n287       2019-08-27      65.25  R200032571\n288       2019-08-28      35.80  R200020378\n289       2019-08-26      39.80  R260218629\n290       2019-08-29      49.50  R160200381\n291       2019-08-29      14.90  R160189408\n\n[292 rows x 3 columns]",
      "text/html": "<div>\n<style scoped>\n    .dataframe tbody tr th:only-of-type {\n        vertical-align: middle;\n    }\n\n    .dataframe tbody tr th {\n        vertical-align: top;\n    }\n\n    .dataframe thead th {\n        text-align: right;\n    }\n</style>\n<table border=\"1\" class=\"dataframe\">\n  <thead>\n    <tr style=\"text-align: right;\">\n      <th></th>\n      <th>Date de commande</th>\n      <th>Total TTC</th>\n      <th>sku</th>\n    </tr>\n  </thead>\n  <tbody>\n    <tr>\n      <th>0</th>\n      <td>2018-12-31</td>\n      <td>16.95</td>\n      <td>ROD0138137</td>\n    </tr>\n    <tr>\n      <th>1</th>\n      <td>2018-12-31</td>\n      <td>19.80</td>\n      <td>R160184541</td>\n    </tr>\n    <tr>\n      <th>2</th>\n      <td>2019-01-03</td>\n      <td>29.80</td>\n      <td>R320095702</td>\n    </tr>\n    <tr>\n      <th>3</th>\n      <td>2019-01-02</td>\n      <td>30.90</td>\n      <td>R200074925</td>\n    </tr>\n    <tr>\n      <th>4</th>\n      <td>2019-01-04</td>\n      <td>24.90</td>\n      <td>RO60137276</td>\n    </tr>\n    <tr>\n      <th>...</th>\n      <td>...</td>\n      <td>...</td>\n      <td>...</td>\n    </tr>\n    <tr>\n      <th>287</th>\n      <td>2019-08-27</td>\n      <td>65.25</td>\n      <td>R200032571</td>\n    </tr>\n    <tr>\n      <th>288</th>\n      <td>2019-08-28</td>\n      <td>35.80</td>\n      <td>R200020378</td>\n    </tr>\n    <tr>\n      <th>289</th>\n      <td>2019-08-26</td>\n      <td>39.80</td>\n      <td>R260218629</td>\n    </tr>\n    <tr>\n      <th>290</th>\n      <td>2019-08-29</td>\n      <td>49.50</td>\n      <td>R160200381</td>\n    </tr>\n    <tr>\n      <th>291</th>\n      <td>2019-08-29</td>\n      <td>14.90</td>\n      <td>R160189408</td>\n    </tr>\n  </tbody>\n</table>\n<p>292 rows × 3 columns</p>\n</div>"
     },
     "metadata": {},
     "execution_count": 54
    }
   ],
   "source": [
    "df"
   ]
  },
  {
   "cell_type": "code",
   "execution_count": 55,
   "metadata": {},
   "outputs": [],
   "source": [
    "os.chdir(\"C:\\Adrian - GDrive\\Professionnel\\Formation\\Informatique - Digital\\Data University\\Projet certification\\csv\")\n",
    "\n",
    "df.to_csv(\"1-leslibraires.csv\", index=False)"
   ]
  },
  {
   "cell_type": "code",
   "execution_count": null,
   "metadata": {},
   "outputs": [],
   "source": []
  }
 ]
}