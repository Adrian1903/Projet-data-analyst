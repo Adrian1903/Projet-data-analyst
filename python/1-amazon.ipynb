{
 "nbformat": 4,
 "nbformat_minor": 2,
 "metadata": {
  "language_info": {
   "name": "python",
   "codemirror_mode": {
    "name": "ipython",
    "version": 3
   },
   "version": "3.7.6-final"
  },
  "orig_nbformat": 2,
  "file_extension": ".py",
  "mimetype": "text/x-python",
  "name": "python",
  "npconvert_exporter": "python",
  "pygments_lexer": "ipython3",
  "version": 3,
  "kernelspec": {
   "name": "python3",
   "display_name": "Python 3"
  }
 },
 "cells": [
  {
   "cell_type": "markdown",
   "metadata": {},
   "source": [
    "# Amazon"
   ]
  },
  {
   "cell_type": "markdown",
   "metadata": {},
   "source": [
    "___"
   ]
  },
  {
   "cell_type": "code",
   "execution_count": 16,
   "metadata": {},
   "outputs": [],
   "source": [
    "import pandas as pd\n",
    "import os\n",
    "import glob"
   ]
  },
  {
   "cell_type": "code",
   "execution_count": 17,
   "metadata": {},
   "outputs": [
    {
     "data": {
      "text/plain": "(5126, 38)"
     },
     "execution_count": 17,
     "metadata": {},
     "output_type": "execute_result"
    }
   ],
   "source": [
    "os.chdir(\"C:\\Adrian - GDrive\\Professionnel\\Formation\\Informatique - Digital\\Data University\\Projet certification\\src\\\\amazon\")\n",
    "\n",
    "df = pd.DataFrame(columns=[], index=[])\n",
    "\n",
    "for file in glob.glob(\"*.txt\"):\n",
    "    #print(file)\n",
    "    csv = pd.read_csv(file, sep=\"\\t\")\n",
    "    df = df.append(csv, ignore_index=True)\n",
    "\n",
    "df.shape"
   ]
  },
  {
   "cell_type": "code",
   "execution_count": 18,
   "metadata": {},
   "outputs": [
    {
     "data": {
      "text/plain": "Index(['order-id', 'order-item-id', 'purchase-date', 'payments-date',\n       'buyer-email', 'buyer-name', 'buyer-phone-number', 'sku',\n       'product-name', 'quantity-purchased', 'currency', 'item-price',\n       'item-tax', 'shipping-price', 'shipping-tax', 'ship-service-level',\n       'recipient-name', 'ship-address-1', 'ship-address-2', 'ship-address-3',\n       'ship-city', 'ship-state', 'ship-postal-code', 'ship-country',\n       'ship-phone-number', 'bill-address-1', 'bill-address-2',\n       'bill-address-3', 'bill-city', 'bill-state', 'bill-postal-code',\n       'bill-country', 'delivery-start-date', 'delivery-end-date',\n       'delivery-time-zone', 'delivery-Instructions', 'sales-channel',\n       'bill-name'],\n      dtype='object')"
     },
     "execution_count": 18,
     "metadata": {},
     "output_type": "execute_result"
    }
   ],
   "source": [
    "df.columns"
   ]
  },
  {
   "cell_type": "code",
   "execution_count": 19,
   "metadata": {},
   "outputs": [],
   "source": [
    "df = df.drop(columns=['order-id', 'order-item-id', 'payments-date', 'buyer-email', 'buyer-name', 'buyer-phone-number', 'product-name', 'quantity-purchased', 'currency', 'item-tax', 'shipping-price', 'shipping-tax', 'ship-service-level', 'recipient-name', 'ship-address-1', 'ship-address-2', 'ship-address-3', 'ship-city', 'ship-state', 'ship-postal-code', 'ship-phone-number', 'bill-address-1', 'bill-address-2', 'bill-address-3', 'bill-city', 'bill-state', 'bill-postal-code','bill-country', 'delivery-start-date', 'delivery-end-date',       'delivery-time-zone', 'delivery-Instructions', 'sales-channel', 'bill-name'])\n"
   ]
  },
  {
   "cell_type": "code",
   "execution_count": 20,
   "metadata": {},
   "outputs": [
    {
     "data": {
      "text/plain": "(5126, 4)"
     },
     "execution_count": 20,
     "metadata": {},
     "output_type": "execute_result"
    }
   ],
   "source": [
    "df.shape"
   ]
  },
  {
   "cell_type": "code",
   "execution_count": 21,
   "metadata": {},
   "outputs": [
    {
     "data": {
      "text/plain": "purchase-date     object\nsku               object\nitem-price       float64\nship-country      object\ndtype: object"
     },
     "execution_count": 21,
     "metadata": {},
     "output_type": "execute_result"
    }
   ],
   "source": [
    "df.dtypes"
   ]
  },
  {
   "cell_type": "code",
   "execution_count": 22,
   "metadata": {},
   "outputs": [
    {
     "data": {
      "text/html": "<div>\n<style scoped>\n    .dataframe tbody tr th:only-of-type {\n        vertical-align: middle;\n    }\n\n    .dataframe tbody tr th {\n        vertical-align: top;\n    }\n\n    .dataframe thead th {\n        text-align: right;\n    }\n</style>\n<table border=\"1\" class=\"dataframe\">\n  <thead>\n    <tr style=\"text-align: right;\">\n      <th></th>\n      <th>purchase-date</th>\n      <th>sku</th>\n      <th>item-price</th>\n      <th>ship-country</th>\n    </tr>\n  </thead>\n  <tbody>\n    <tr>\n      <th>0</th>\n      <td>2018-12-30</td>\n      <td>R160155906</td>\n      <td>48.80</td>\n      <td>BE</td>\n    </tr>\n    <tr>\n      <th>1</th>\n      <td>2018-12-30</td>\n      <td>R300096475</td>\n      <td>68.25</td>\n      <td>FR</td>\n    </tr>\n    <tr>\n      <th>2</th>\n      <td>2018-12-30</td>\n      <td>RO40173817</td>\n      <td>48.80</td>\n      <td>FR</td>\n    </tr>\n    <tr>\n      <th>3</th>\n      <td>2018-12-30</td>\n      <td>RO70122932</td>\n      <td>23.90</td>\n      <td>FR</td>\n    </tr>\n    <tr>\n      <th>4</th>\n      <td>2018-12-31</td>\n      <td>R200013506</td>\n      <td>19.95</td>\n      <td>FR</td>\n    </tr>\n  </tbody>\n</table>\n</div>",
      "text/plain": "  purchase-date         sku  item-price ship-country\n0    2018-12-30  R160155906       48.80           BE\n1    2018-12-30  R300096475       68.25           FR\n2    2018-12-30  RO40173817       48.80           FR\n3    2018-12-30  RO70122932       23.90           FR\n4    2018-12-31  R200013506       19.95           FR"
     },
     "execution_count": 22,
     "metadata": {},
     "output_type": "execute_result"
    }
   ],
   "source": [
    "df['purchase-date'] = pd.to_datetime(df['purchase-date'].astype(str).str.slice(0,10), format='%Y-%m-%d')\n",
    "df.head()"
   ]
  },
  {
   "cell_type": "code",
   "execution_count": 23,
   "metadata": {},
   "outputs": [
    {
     "data": {
      "text/html": "<div>\n<style scoped>\n    .dataframe tbody tr th:only-of-type {\n        vertical-align: middle;\n    }\n\n    .dataframe tbody tr th {\n        vertical-align: top;\n    }\n\n    .dataframe thead th {\n        text-align: right;\n    }\n</style>\n<table border=\"1\" class=\"dataframe\">\n  <thead>\n    <tr style=\"text-align: right;\">\n      <th></th>\n      <th>Id</th>\n      <th>Code</th>\n      <th>Alpha2</th>\n      <th>Alpha3</th>\n      <th>nom_fr_fr</th>\n      <th>nom_en_gb</th>\n    </tr>\n  </thead>\n  <tbody>\n    <tr>\n      <th>0</th>\n      <td>1</td>\n      <td>4</td>\n      <td>AF</td>\n      <td>AFG</td>\n      <td>Afghanistan</td>\n      <td>Afghanistan</td>\n    </tr>\n    <tr>\n      <th>1</th>\n      <td>2</td>\n      <td>8</td>\n      <td>AL</td>\n      <td>ALB</td>\n      <td>Albanie</td>\n      <td>Albania</td>\n    </tr>\n    <tr>\n      <th>2</th>\n      <td>3</td>\n      <td>10</td>\n      <td>AQ</td>\n      <td>ATA</td>\n      <td>Antarctique</td>\n      <td>Antarctica</td>\n    </tr>\n    <tr>\n      <th>3</th>\n      <td>4</td>\n      <td>12</td>\n      <td>DZ</td>\n      <td>DZA</td>\n      <td>Algérie</td>\n      <td>Algeria</td>\n    </tr>\n    <tr>\n      <th>4</th>\n      <td>5</td>\n      <td>16</td>\n      <td>AS</td>\n      <td>ASM</td>\n      <td>Samoa Américaines</td>\n      <td>American Samoa</td>\n    </tr>\n    <tr>\n      <th>...</th>\n      <td>...</td>\n      <td>...</td>\n      <td>...</td>\n      <td>...</td>\n      <td>...</td>\n      <td>...</td>\n    </tr>\n    <tr>\n      <th>236</th>\n      <td>237</td>\n      <td>876</td>\n      <td>WF</td>\n      <td>WLF</td>\n      <td>Wallis et Futuna</td>\n      <td>Wallis and Futuna</td>\n    </tr>\n    <tr>\n      <th>237</th>\n      <td>238</td>\n      <td>882</td>\n      <td>WS</td>\n      <td>WSM</td>\n      <td>Samoa</td>\n      <td>Samoa</td>\n    </tr>\n    <tr>\n      <th>238</th>\n      <td>239</td>\n      <td>887</td>\n      <td>YE</td>\n      <td>YEM</td>\n      <td>Yémen</td>\n      <td>Yemen</td>\n    </tr>\n    <tr>\n      <th>239</th>\n      <td>240</td>\n      <td>891</td>\n      <td>CS</td>\n      <td>SCG</td>\n      <td>Serbie-et-Monténégro</td>\n      <td>Serbia and Montenegro</td>\n    </tr>\n    <tr>\n      <th>240</th>\n      <td>241</td>\n      <td>894</td>\n      <td>ZM</td>\n      <td>ZMB</td>\n      <td>Zambie</td>\n      <td>Zambia</td>\n    </tr>\n  </tbody>\n</table>\n<p>241 rows × 6 columns</p>\n</div>",
      "text/plain": "      Id  Code Alpha2 Alpha3             nom_fr_fr              nom_en_gb\n0      1     4     AF    AFG           Afghanistan            Afghanistan\n1      2     8     AL    ALB               Albanie                Albania\n2      3    10     AQ    ATA           Antarctique             Antarctica\n3      4    12     DZ    DZA               Algérie                Algeria\n4      5    16     AS    ASM     Samoa Américaines         American Samoa\n..   ...   ...    ...    ...                   ...                    ...\n236  237   876     WF    WLF      Wallis et Futuna      Wallis and Futuna\n237  238   882     WS    WSM                 Samoa                  Samoa\n238  239   887     YE    YEM                 Yémen                  Yemen\n239  240   891     CS    SCG  Serbie-et-Monténégro  Serbia and Montenegro\n240  241   894     ZM    ZMB                Zambie                 Zambia\n\n[241 rows x 6 columns]"
     },
     "execution_count": 23,
     "metadata": {},
     "output_type": "execute_result"
    }
   ],
   "source": [
    "os.chdir(\"C:\\Adrian - GDrive\\Professionnel\\Formation\\Informatique - Digital\\Data University\\Projet certification\\src\")\n",
    "df_country = pd.read_csv(\"sql-pays.csv\")\n",
    "df_country"
   ]
  },
  {
   "cell_type": "code",
   "execution_count": 24,
   "metadata": {},
   "outputs": [
    {
     "data": {
      "text/plain": "Index(['purchase-date', 'sku', 'item-price', 'ship-country', 'Id', 'Code',\n       'Alpha2', 'Alpha3', 'nom_fr_fr', 'nom_en_gb'],\n      dtype='object')"
     },
     "execution_count": 24,
     "metadata": {},
     "output_type": "execute_result"
    }
   ],
   "source": [
    "df = df.merge(df_country, left_on='ship-country', right_on='Alpha2')\n",
    "df.columns"
   ]
  },
  {
   "cell_type": "code",
   "execution_count": 27,
   "metadata": {},
   "outputs": [
    {
     "data": {
      "text/html": "<div>\n<style scoped>\n    .dataframe tbody tr th:only-of-type {\n        vertical-align: middle;\n    }\n\n    .dataframe tbody tr th {\n        vertical-align: top;\n    }\n\n    .dataframe thead th {\n        text-align: right;\n    }\n</style>\n<table border=\"1\" class=\"dataframe\">\n  <thead>\n    <tr style=\"text-align: right;\">\n      <th></th>\n      <th>purchase-date</th>\n      <th>sku</th>\n      <th>item-price</th>\n      <th>nom_en_gb</th>\n    </tr>\n  </thead>\n  <tbody>\n    <tr>\n      <th>0</th>\n      <td>2018-12-30</td>\n      <td>R160155906</td>\n      <td>48.80</td>\n      <td>Belgium</td>\n    </tr>\n    <tr>\n      <th>1</th>\n      <td>2019-01-02</td>\n      <td>RO40224112</td>\n      <td>23.90</td>\n      <td>Belgium</td>\n    </tr>\n    <tr>\n      <th>2</th>\n      <td>2019-01-02</td>\n      <td>RO40224111</td>\n      <td>23.90</td>\n      <td>Belgium</td>\n    </tr>\n    <tr>\n      <th>3</th>\n      <td>2019-01-03</td>\n      <td>R150229289</td>\n      <td>19.95</td>\n      <td>Belgium</td>\n    </tr>\n    <tr>\n      <th>4</th>\n      <td>2019-01-03</td>\n      <td>RO30038810</td>\n      <td>23.90</td>\n      <td>Belgium</td>\n    </tr>\n    <tr>\n      <th>...</th>\n      <td>...</td>\n      <td>...</td>\n      <td>...</td>\n      <td>...</td>\n    </tr>\n    <tr>\n      <th>5121</th>\n      <td>2019-11-22</td>\n      <td>ROD0034309</td>\n      <td>23.90</td>\n      <td>Algeria</td>\n    </tr>\n    <tr>\n      <th>5122</th>\n      <td>2019-12-10</td>\n      <td>RO20192067</td>\n      <td>38.80</td>\n      <td>Vietnam</td>\n    </tr>\n    <tr>\n      <th>5123</th>\n      <td>2019-12-29</td>\n      <td>RO60113335</td>\n      <td>38.80</td>\n      <td>Slovenia</td>\n    </tr>\n    <tr>\n      <th>5124</th>\n      <td>2020-01-04</td>\n      <td>R260151413</td>\n      <td>38.80</td>\n      <td>Turkey</td>\n    </tr>\n    <tr>\n      <th>5125</th>\n      <td>2020-01-13</td>\n      <td>R160088706</td>\n      <td>19.95</td>\n      <td>Lithuania</td>\n    </tr>\n  </tbody>\n</table>\n<p>5126 rows × 4 columns</p>\n</div>",
      "text/plain": "     purchase-date         sku  item-price  nom_en_gb\n0       2018-12-30  R160155906       48.80    Belgium\n1       2019-01-02  RO40224112       23.90    Belgium\n2       2019-01-02  RO40224111       23.90    Belgium\n3       2019-01-03  R150229289       19.95    Belgium\n4       2019-01-03  RO30038810       23.90    Belgium\n...            ...         ...         ...        ...\n5121    2019-11-22  ROD0034309       23.90    Algeria\n5122    2019-12-10  RO20192067       38.80    Vietnam\n5123    2019-12-29  RO60113335       38.80   Slovenia\n5124    2020-01-04  R260151413       38.80     Turkey\n5125    2020-01-13  R160088706       19.95  Lithuania\n\n[5126 rows x 4 columns]"
     },
     "execution_count": 27,
     "metadata": {},
     "output_type": "execute_result"
    }
   ],
   "source": [
    "df = df.drop(columns=['ship-country', 'Id', 'Code', 'Alpha2', 'Alpha3', 'nom_fr_fr'])\n",
    "df"
   ]
  },
  {
   "cell_type": "code",
   "execution_count": 28,
   "metadata": {},
   "outputs": [],
   "source": [
    "os.chdir(\"C:\\Adrian - GDrive\\Professionnel\\Formation\\Informatique - Digital\\Data University\\Projet certification\\csv\")\n",
    "\n",
    "df.to_csv(\"1-amazon.csv\", index=False)"
   ]
  },
  {
   "cell_type": "code",
   "execution_count": null,
   "metadata": {},
   "outputs": [],
   "source": []
  }
 ]
}