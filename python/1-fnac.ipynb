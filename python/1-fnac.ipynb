{
 "nbformat": 4,
 "nbformat_minor": 2,
 "metadata": {
  "language_info": {
   "name": "python",
   "codemirror_mode": {
    "name": "ipython",
    "version": 3
   },
   "version": "3.7.6-final"
  },
  "orig_nbformat": 2,
  "file_extension": ".py",
  "mimetype": "text/x-python",
  "name": "python",
  "npconvert_exporter": "python",
  "pygments_lexer": "ipython3",
  "version": 3,
  "kernelspec": {
   "name": "python3",
   "display_name": "Python 3"
  }
 },
 "cells": [
  {
   "cell_type": "markdown",
   "metadata": {},
   "source": [
    "# Fnac"
   ]
  },
  {
   "cell_type": "markdown",
   "metadata": {},
   "source": [
    "---"
   ]
  },
  {
   "cell_type": "code",
   "execution_count": 1,
   "metadata": {},
   "outputs": [],
   "source": [
    "import pandas as pd\n",
    "import os\n",
    "import glob"
   ]
  },
  {
   "cell_type": "code",
   "execution_count": 2,
   "metadata": {},
   "outputs": [
    {
     "data": {
      "text/plain": "(377, 41)"
     },
     "execution_count": 2,
     "metadata": {},
     "output_type": "execute_result"
    }
   ],
   "source": [
    "os.chdir(\"C:\\Adrian - GDrive\\Professionnel\\Formation\\Informatique - Digital\\Data University\\Projet certification\\src\\\\fnac\")\n",
    "\n",
    "df_raw = pd.DataFrame(columns=[], index=[])\n",
    "\n",
    "for file in glob.glob(\"*.csv\"):\n",
    "    #print(file)\n",
    "    csv = pd.read_csv(file, sep=\";\", encoding='latin-1')\n",
    "    df_raw = df_raw.append(csv, ignore_index=True)\n",
    "\n",
    "df_raw.shape"
   ]
  },
  {
   "cell_type": "code",
   "execution_count": 3,
   "metadata": {},
   "outputs": [
    {
     "data": {
      "text/plain": "Index(['Numéro de facture', 'Type', 'Reference', 'TVA', 'Date de création',\n       'Statut commande', 'Prix total (TTC)', 'Prix total frais de port (TTC)',\n       'Commission (HT)', 'Commission (TTC)', 'Frais de gestion (HT)',\n       'Frais de gestion (TTC)', 'Montant reversé au vendeur (TTC)',\n       'Prix produit (TTC)', 'Frais de port produit (TTC)', 'Quantité',\n       'Produits', 'SKUs', 'EAN', 'Commentaire interne', 'Mode d'envoi',\n       'Téléphone', 'Nom livraison', 'Prénom livraison', 'Société livraison',\n       'Adresse 1 de livraison', 'Adresse 2 de livraison',\n       'Adresse 3 de livraison', 'Code postal de livraison',\n       'Ville de livraison', 'Pays livraison', 'Nom facturation',\n       'Prénom facturation', 'Société facturation', 'Adresse 1 de facturation',\n       'Adresse 2 de facturation', 'Adresse 3 de facturation',\n       'Code postal de facturation', 'Ville de facturation',\n       'Pays facturation', 'Date de facturation'],\n      dtype='object')"
     },
     "execution_count": 3,
     "metadata": {},
     "output_type": "execute_result"
    }
   ],
   "source": [
    "df_raw.columns"
   ]
  },
  {
   "cell_type": "code",
   "execution_count": 4,
   "metadata": {},
   "outputs": [],
   "source": [
    "df = df_raw"
   ]
  },
  {
   "cell_type": "code",
   "execution_count": 5,
   "metadata": {},
   "outputs": [
    {
     "data": {
      "text/plain": "(346, 41)"
     },
     "execution_count": 5,
     "metadata": {},
     "output_type": "execute_result"
    }
   ],
   "source": [
    "df = df[df['Type'] == \"Commande\"]\n",
    "df.shape"
   ]
  },
  {
   "cell_type": "code",
   "execution_count": 6,
   "metadata": {},
   "outputs": [],
   "source": [
    "df = df.drop(columns=[\"Numéro de facture\", \"Type\", \"Reference\", \"TVA\", \"Statut commande\", \"Prix total frais de port (TTC)\", \"Commission (HT)\", \"Commission (TTC)\", \"Frais de gestion (HT)\", \"Frais de gestion (TTC)\", \"Montant reversé au vendeur (TTC)\", \"Prix produit (TTC)\", \"Frais de port produit (TTC)\", \"Quantité\", \"Produits\", \"EAN\", \"Commentaire interne\", \"Mode d'envoi\", \"Téléphone\", \"Nom livraison\", \"Prénom livraison\", \"Société livraison\", \"Adresse 1 de livraison\", \"Adresse 2 de livraison\", \"Adresse 3 de livraison\", \"Code postal de livraison\", \"Ville de livraison\", \"Nom facturation\", \"Prénom facturation\", \"Société facturation\", \"Adresse 1 de facturation\", \"Adresse 2 de facturation\", \"Adresse 3 de facturation\", \"Code postal de facturation\", \"Ville de facturation\", \"Pays facturation\", \"Date de facturation\"])"
   ]
  },
  {
   "cell_type": "code",
   "execution_count": 7,
   "metadata": {},
   "outputs": [
    {
     "data": {
      "text/plain": "(346, 4)"
     },
     "execution_count": 7,
     "metadata": {},
     "output_type": "execute_result"
    }
   ],
   "source": [
    "df.shape"
   ]
  },
  {
   "cell_type": "code",
   "execution_count": 8,
   "metadata": {},
   "outputs": [
    {
     "data": {
      "text/plain": "Date de création     object\nPrix total (TTC)    float64\nSKUs                 object\nPays livraison       object\ndtype: object"
     },
     "execution_count": 8,
     "metadata": {},
     "output_type": "execute_result"
    }
   ],
   "source": [
    "df.dtypes"
   ]
  },
  {
   "cell_type": "code",
   "execution_count": 9,
   "metadata": {},
   "outputs": [
    {
     "data": {
      "text/html": "<div>\n<style scoped>\n    .dataframe tbody tr th:only-of-type {\n        vertical-align: middle;\n    }\n\n    .dataframe tbody tr th {\n        vertical-align: top;\n    }\n\n    .dataframe thead th {\n        text-align: right;\n    }\n</style>\n<table border=\"1\" class=\"dataframe\">\n  <thead>\n    <tr style=\"text-align: right;\">\n      <th></th>\n      <th>Date de création</th>\n      <th>Prix total (TTC)</th>\n      <th>SKUs</th>\n      <th>Pays livraison</th>\n    </tr>\n  </thead>\n  <tbody>\n    <tr>\n      <th>0</th>\n      <td>18/12/2018</td>\n      <td>14.90</td>\n      <td>RO20154336</td>\n      <td>FRA</td>\n    </tr>\n    <tr>\n      <th>1</th>\n      <td>20/12/2018</td>\n      <td>39.80</td>\n      <td>R200041391</td>\n      <td>FRA</td>\n    </tr>\n    <tr>\n      <th>2</th>\n      <td>21/12/2018</td>\n      <td>25.80</td>\n      <td>R300023439</td>\n      <td>FRA</td>\n    </tr>\n    <tr>\n      <th>3</th>\n      <td>29/12/2018</td>\n      <td>45.80</td>\n      <td>R200042407</td>\n      <td>FRA</td>\n    </tr>\n    <tr>\n      <th>4</th>\n      <td>02/01/2019</td>\n      <td>16.95</td>\n      <td>RO90075913</td>\n      <td>FRA</td>\n    </tr>\n  </tbody>\n</table>\n</div>",
      "text/plain": "  Date de création  Prix total (TTC)        SKUs Pays livraison\n0       18/12/2018             14.90  RO20154336            FRA\n1       20/12/2018             39.80  R200041391            FRA\n2       21/12/2018             25.80  R300023439            FRA\n3       29/12/2018             45.80  R200042407            FRA\n4       02/01/2019             16.95  RO90075913            FRA"
     },
     "execution_count": 9,
     "metadata": {},
     "output_type": "execute_result"
    }
   ],
   "source": [
    "df.head()"
   ]
  },
  {
   "cell_type": "code",
   "execution_count": 10,
   "metadata": {},
   "outputs": [
    {
     "data": {
      "text/html": "<div>\n<style scoped>\n    .dataframe tbody tr th:only-of-type {\n        vertical-align: middle;\n    }\n\n    .dataframe tbody tr th {\n        vertical-align: top;\n    }\n\n    .dataframe thead th {\n        text-align: right;\n    }\n</style>\n<table border=\"1\" class=\"dataframe\">\n  <thead>\n    <tr style=\"text-align: right;\">\n      <th></th>\n      <th>Date de création</th>\n      <th>Prix total (TTC)</th>\n      <th>SKUs</th>\n      <th>Pays livraison</th>\n    </tr>\n  </thead>\n  <tbody>\n    <tr>\n      <th>0</th>\n      <td>2018-12-18</td>\n      <td>14.90</td>\n      <td>RO20154336</td>\n      <td>FRA</td>\n    </tr>\n    <tr>\n      <th>1</th>\n      <td>2018-12-20</td>\n      <td>39.80</td>\n      <td>R200041391</td>\n      <td>FRA</td>\n    </tr>\n    <tr>\n      <th>2</th>\n      <td>2018-12-21</td>\n      <td>25.80</td>\n      <td>R300023439</td>\n      <td>FRA</td>\n    </tr>\n    <tr>\n      <th>3</th>\n      <td>2018-12-29</td>\n      <td>45.80</td>\n      <td>R200042407</td>\n      <td>FRA</td>\n    </tr>\n    <tr>\n      <th>4</th>\n      <td>2019-01-02</td>\n      <td>16.95</td>\n      <td>RO90075913</td>\n      <td>FRA</td>\n    </tr>\n    <tr>\n      <th>...</th>\n      <td>...</td>\n      <td>...</td>\n      <td>...</td>\n      <td>...</td>\n    </tr>\n    <tr>\n      <th>372</th>\n      <td>2019-08-10</td>\n      <td>29.80</td>\n      <td>RO80168074</td>\n      <td>FRA</td>\n    </tr>\n    <tr>\n      <th>373</th>\n      <td>2019-08-11</td>\n      <td>16.95</td>\n      <td>RO70274499</td>\n      <td>FRA</td>\n    </tr>\n    <tr>\n      <th>374</th>\n      <td>2019-08-12</td>\n      <td>45.80</td>\n      <td>R320068117</td>\n      <td>FRA</td>\n    </tr>\n    <tr>\n      <th>375</th>\n      <td>2019-08-20</td>\n      <td>35.80</td>\n      <td>R320107758</td>\n      <td>FRA</td>\n    </tr>\n    <tr>\n      <th>376</th>\n      <td>2019-08-26</td>\n      <td>55.50</td>\n      <td>R240134194</td>\n      <td>FRA</td>\n    </tr>\n  </tbody>\n</table>\n<p>346 rows × 4 columns</p>\n</div>",
      "text/plain": "    Date de création  Prix total (TTC)        SKUs Pays livraison\n0         2018-12-18             14.90  RO20154336            FRA\n1         2018-12-20             39.80  R200041391            FRA\n2         2018-12-21             25.80  R300023439            FRA\n3         2018-12-29             45.80  R200042407            FRA\n4         2019-01-02             16.95  RO90075913            FRA\n..               ...               ...         ...            ...\n372       2019-08-10             29.80  RO80168074            FRA\n373       2019-08-11             16.95  RO70274499            FRA\n374       2019-08-12             45.80  R320068117            FRA\n375       2019-08-20             35.80  R320107758            FRA\n376       2019-08-26             55.50  R240134194            FRA\n\n[346 rows x 4 columns]"
     },
     "execution_count": 10,
     "metadata": {},
     "output_type": "execute_result"
    }
   ],
   "source": [
    "df[\"Date de création\"] = pd.to_datetime(df[\"Date de création\"], format='%d/%m/%Y')\n",
    "df"
   ]
  },
  {
   "cell_type": "code",
   "execution_count": 11,
   "metadata": {},
   "outputs": [
    {
     "data": {
      "text/html": "<div>\n<style scoped>\n    .dataframe tbody tr th:only-of-type {\n        vertical-align: middle;\n    }\n\n    .dataframe tbody tr th {\n        vertical-align: top;\n    }\n\n    .dataframe thead th {\n        text-align: right;\n    }\n</style>\n<table border=\"1\" class=\"dataframe\">\n  <thead>\n    <tr style=\"text-align: right;\">\n      <th></th>\n      <th>Id</th>\n      <th>Code</th>\n      <th>Alpha2</th>\n      <th>Alpha3</th>\n      <th>nom_fr_fr</th>\n      <th>nom_en_gb</th>\n    </tr>\n  </thead>\n  <tbody>\n    <tr>\n      <th>0</th>\n      <td>1</td>\n      <td>4</td>\n      <td>AF</td>\n      <td>AFG</td>\n      <td>Afghanistan</td>\n      <td>Afghanistan</td>\n    </tr>\n    <tr>\n      <th>1</th>\n      <td>2</td>\n      <td>8</td>\n      <td>AL</td>\n      <td>ALB</td>\n      <td>Albanie</td>\n      <td>Albania</td>\n    </tr>\n    <tr>\n      <th>2</th>\n      <td>3</td>\n      <td>10</td>\n      <td>AQ</td>\n      <td>ATA</td>\n      <td>Antarctique</td>\n      <td>Antarctica</td>\n    </tr>\n    <tr>\n      <th>3</th>\n      <td>4</td>\n      <td>12</td>\n      <td>DZ</td>\n      <td>DZA</td>\n      <td>Algérie</td>\n      <td>Algeria</td>\n    </tr>\n    <tr>\n      <th>4</th>\n      <td>5</td>\n      <td>16</td>\n      <td>AS</td>\n      <td>ASM</td>\n      <td>Samoa Américaines</td>\n      <td>American Samoa</td>\n    </tr>\n    <tr>\n      <th>...</th>\n      <td>...</td>\n      <td>...</td>\n      <td>...</td>\n      <td>...</td>\n      <td>...</td>\n      <td>...</td>\n    </tr>\n    <tr>\n      <th>236</th>\n      <td>237</td>\n      <td>876</td>\n      <td>WF</td>\n      <td>WLF</td>\n      <td>Wallis et Futuna</td>\n      <td>Wallis and Futuna</td>\n    </tr>\n    <tr>\n      <th>237</th>\n      <td>238</td>\n      <td>882</td>\n      <td>WS</td>\n      <td>WSM</td>\n      <td>Samoa</td>\n      <td>Samoa</td>\n    </tr>\n    <tr>\n      <th>238</th>\n      <td>239</td>\n      <td>887</td>\n      <td>YE</td>\n      <td>YEM</td>\n      <td>Yémen</td>\n      <td>Yemen</td>\n    </tr>\n    <tr>\n      <th>239</th>\n      <td>240</td>\n      <td>891</td>\n      <td>CS</td>\n      <td>SCG</td>\n      <td>Serbie-et-Monténégro</td>\n      <td>Serbia and Montenegro</td>\n    </tr>\n    <tr>\n      <th>240</th>\n      <td>241</td>\n      <td>894</td>\n      <td>ZM</td>\n      <td>ZMB</td>\n      <td>Zambie</td>\n      <td>Zambia</td>\n    </tr>\n  </tbody>\n</table>\n<p>241 rows × 6 columns</p>\n</div>",
      "text/plain": "      Id  Code Alpha2 Alpha3             nom_fr_fr              nom_en_gb\n0      1     4     AF    AFG           Afghanistan            Afghanistan\n1      2     8     AL    ALB               Albanie                Albania\n2      3    10     AQ    ATA           Antarctique             Antarctica\n3      4    12     DZ    DZA               Algérie                Algeria\n4      5    16     AS    ASM     Samoa Américaines         American Samoa\n..   ...   ...    ...    ...                   ...                    ...\n236  237   876     WF    WLF      Wallis et Futuna      Wallis and Futuna\n237  238   882     WS    WSM                 Samoa                  Samoa\n238  239   887     YE    YEM                 Yémen                  Yemen\n239  240   891     CS    SCG  Serbie-et-Monténégro  Serbia and Montenegro\n240  241   894     ZM    ZMB                Zambie                 Zambia\n\n[241 rows x 6 columns]"
     },
     "execution_count": 11,
     "metadata": {},
     "output_type": "execute_result"
    }
   ],
   "source": [
    "os.chdir(\"C:\\Adrian - GDrive\\Professionnel\\Formation\\Informatique - Digital\\Data University\\Projet certification\\src\")\n",
    "df_country = pd.read_csv(\"sql-pays.csv\")\n",
    "df_country"
   ]
  },
  {
   "cell_type": "code",
   "execution_count": 12,
   "metadata": {},
   "outputs": [
    {
     "data": {
      "text/plain": "Index(['Date de création', 'Prix total (TTC)', 'SKUs', 'Pays livraison', 'Id',\n       'Code', 'Alpha2', 'Alpha3', 'nom_fr_fr', 'nom_en_gb'],\n      dtype='object')"
     },
     "execution_count": 12,
     "metadata": {},
     "output_type": "execute_result"
    }
   ],
   "source": [
    "df = df.merge(df_country, left_on='Pays livraison', right_on='Alpha3')\n",
    "df.columns"
   ]
  },
  {
   "cell_type": "code",
   "execution_count": 14,
   "metadata": {},
   "outputs": [
    {
     "data": {
      "text/html": "<div>\n<style scoped>\n    .dataframe tbody tr th:only-of-type {\n        vertical-align: middle;\n    }\n\n    .dataframe tbody tr th {\n        vertical-align: top;\n    }\n\n    .dataframe thead th {\n        text-align: right;\n    }\n</style>\n<table border=\"1\" class=\"dataframe\">\n  <thead>\n    <tr style=\"text-align: right;\">\n      <th></th>\n      <th>Date de création</th>\n      <th>Prix total (TTC)</th>\n      <th>SKUs</th>\n      <th>nom_en_gb</th>\n    </tr>\n  </thead>\n  <tbody>\n    <tr>\n      <th>0</th>\n      <td>2018-12-18</td>\n      <td>14.90</td>\n      <td>RO20154336</td>\n      <td>France</td>\n    </tr>\n    <tr>\n      <th>1</th>\n      <td>2018-12-20</td>\n      <td>39.80</td>\n      <td>R200041391</td>\n      <td>France</td>\n    </tr>\n    <tr>\n      <th>2</th>\n      <td>2018-12-21</td>\n      <td>25.80</td>\n      <td>R300023439</td>\n      <td>France</td>\n    </tr>\n    <tr>\n      <th>3</th>\n      <td>2018-12-29</td>\n      <td>45.80</td>\n      <td>R200042407</td>\n      <td>France</td>\n    </tr>\n    <tr>\n      <th>4</th>\n      <td>2019-01-02</td>\n      <td>16.95</td>\n      <td>RO90075913</td>\n      <td>France</td>\n    </tr>\n    <tr>\n      <th>...</th>\n      <td>...</td>\n      <td>...</td>\n      <td>...</td>\n      <td>...</td>\n    </tr>\n    <tr>\n      <th>341</th>\n      <td>2019-08-10</td>\n      <td>29.80</td>\n      <td>RO80168074</td>\n      <td>France</td>\n    </tr>\n    <tr>\n      <th>342</th>\n      <td>2019-08-11</td>\n      <td>16.95</td>\n      <td>RO70274499</td>\n      <td>France</td>\n    </tr>\n    <tr>\n      <th>343</th>\n      <td>2019-08-12</td>\n      <td>45.80</td>\n      <td>R320068117</td>\n      <td>France</td>\n    </tr>\n    <tr>\n      <th>344</th>\n      <td>2019-08-20</td>\n      <td>35.80</td>\n      <td>R320107758</td>\n      <td>France</td>\n    </tr>\n    <tr>\n      <th>345</th>\n      <td>2019-08-26</td>\n      <td>55.50</td>\n      <td>R240134194</td>\n      <td>France</td>\n    </tr>\n  </tbody>\n</table>\n<p>346 rows × 4 columns</p>\n</div>",
      "text/plain": "    Date de création  Prix total (TTC)        SKUs nom_en_gb\n0         2018-12-18             14.90  RO20154336    France\n1         2018-12-20             39.80  R200041391    France\n2         2018-12-21             25.80  R300023439    France\n3         2018-12-29             45.80  R200042407    France\n4         2019-01-02             16.95  RO90075913    France\n..               ...               ...         ...       ...\n341       2019-08-10             29.80  RO80168074    France\n342       2019-08-11             16.95  RO70274499    France\n343       2019-08-12             45.80  R320068117    France\n344       2019-08-20             35.80  R320107758    France\n345       2019-08-26             55.50  R240134194    France\n\n[346 rows x 4 columns]"
     },
     "execution_count": 14,
     "metadata": {},
     "output_type": "execute_result"
    }
   ],
   "source": [
    "df = df.drop(columns=['Pays livraison', 'Id', 'Code', 'Alpha2', 'Alpha3', 'nom_fr_fr'])\n",
    "df"
   ]
  },
  {
   "cell_type": "code",
   "execution_count": 15,
   "metadata": {},
   "outputs": [],
   "source": [
    "os.chdir(\"C:\\Adrian - GDrive\\Professionnel\\Formation\\Informatique - Digital\\Data University\\Projet certification\\csv\")\n",
    "\n",
    "df.to_csv(\"1-fnac.csv\", index=False)"
   ]
  },
  {
   "cell_type": "code",
   "execution_count": null,
   "metadata": {},
   "outputs": [],
   "source": []
  }
 ]
}