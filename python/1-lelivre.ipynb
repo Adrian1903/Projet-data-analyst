{
 "nbformat": 4,
 "nbformat_minor": 2,
 "metadata": {
  "language_info": {
   "name": "python",
   "codemirror_mode": {
    "name": "ipython",
    "version": 3
   },
   "version": "3.7.6-final"
  },
  "orig_nbformat": 2,
  "file_extension": ".py",
  "mimetype": "text/x-python",
  "name": "python",
  "npconvert_exporter": "python",
  "pygments_lexer": "ipython3",
  "version": 3,
  "kernelspec": {
   "name": "python3",
   "display_name": "Python 3"
  }
 },
 "cells": [
  {
   "cell_type": "markdown",
   "metadata": {},
   "source": [
    "# le-livre"
   ]
  },
  {
   "cell_type": "markdown",
   "metadata": {},
   "source": [
    "---"
   ]
  },
  {
   "cell_type": "code",
   "execution_count": 2,
   "metadata": {},
   "outputs": [],
   "source": [
    "import pandas as pd\n",
    "import os\n",
    "import mysql.connector"
   ]
  },
  {
   "cell_type": "code",
   "execution_count": 3,
   "metadata": {},
   "outputs": [
    {
     "name": "stdout",
     "output_type": "stream",
     "text": "Connected to MySQL Server version  8.0.18\nYou're connected to database:  ('db_lelivre_pro',)\nDataframes constitués\nMySQL connection is closed\n"
    }
   ],
   "source": [
    "try:\n",
    "    connection = mysql.connector.connect(host='***',\n",
    "                                         database='***',\n",
    "                                         user='***',\n",
    "                                         password='***',\n",
    "                                         port='***')\n",
    "    if connection.is_connected():\n",
    "        db_Info = connection.get_server_info()\n",
    "        print(\"Connected to MySQL Server version \", db_Info)\n",
    "        cursor = connection.cursor()\n",
    "        cursor.execute(\"select database();\")\n",
    "        record = cursor.fetchone()\n",
    "        print(\"You're connected to database: \", record)\n",
    "except Error as e:\n",
    "    print(\"Error while connecting to MySQL\", e)\n",
    "finally:\n",
    "    if (connection.is_connected()):\n",
    "        ### Dataframe 1\n",
    "        var_sql = \"SELECT date_pan as purchase_date, n_article as sku, panier_v.Prix as item_price, iso as ship_country FROM db_lelivre_pro.panier_v JOIN com_v ON com_v.UID=panier_v.n_com JOIN zones ON zones.Idpays=com_v.Pays WHERE date_pan > \\\"2018-12-31 23:59:59\\\" AND date_pan < \\\"2020-01-01 00:00:00\\\" AND etat = 4\"\n",
    "        df_raw = pd.read_sql(var_sql, connection)\n",
    "        \n",
    "        print(\"Dataframes constitués\")\n",
    "        cursor.close()\n",
    "        connection.close()\n",
    "        print(\"MySQL connection is closed\")"
   ]
  },
  {
   "cell_type": "code",
   "execution_count": 4,
   "metadata": {},
   "outputs": [
    {
     "data": {
      "text/plain": "(3713, 4)"
     },
     "execution_count": 4,
     "metadata": {},
     "output_type": "execute_result"
    }
   ],
   "source": [
    "df_raw.shape"
   ]
  },
  {
   "cell_type": "code",
   "execution_count": 5,
   "metadata": {},
   "outputs": [
    {
     "data": {
      "text/html": "<div>\n<style scoped>\n    .dataframe tbody tr th:only-of-type {\n        vertical-align: middle;\n    }\n\n    .dataframe tbody tr th {\n        vertical-align: top;\n    }\n\n    .dataframe thead th {\n        text-align: right;\n    }\n</style>\n<table border=\"1\" class=\"dataframe\">\n  <thead>\n    <tr style=\"text-align: right;\">\n      <th></th>\n      <th>purchase_date</th>\n      <th>sku</th>\n      <th>item_price</th>\n      <th>ship_country</th>\n    </tr>\n  </thead>\n  <tbody>\n    <tr>\n      <th>0</th>\n      <td>2019-01-01 06:40:08</td>\n      <td>R130001251</td>\n      <td>10.95</td>\n      <td>FR</td>\n    </tr>\n    <tr>\n      <th>1</th>\n      <td>2019-01-01 06:40:08</td>\n      <td>R130004489</td>\n      <td>14.90</td>\n      <td>FR</td>\n    </tr>\n    <tr>\n      <th>2</th>\n      <td>2019-01-01 06:40:08</td>\n      <td>R130011303</td>\n      <td>14.90</td>\n      <td>FR</td>\n    </tr>\n    <tr>\n      <th>3</th>\n      <td>2019-01-01 14:48:46</td>\n      <td>R200033488</td>\n      <td>59.25</td>\n      <td>BE</td>\n    </tr>\n    <tr>\n      <th>4</th>\n      <td>2019-01-01 15:00:00</td>\n      <td>R200001802</td>\n      <td>49.50</td>\n      <td>FR</td>\n    </tr>\n  </tbody>\n</table>\n</div>",
      "text/plain": "        purchase_date         sku  item_price ship_country\n0 2019-01-01 06:40:08  R130001251       10.95           FR\n1 2019-01-01 06:40:08  R130004489       14.90           FR\n2 2019-01-01 06:40:08  R130011303       14.90           FR\n3 2019-01-01 14:48:46  R200033488       59.25           BE\n4 2019-01-01 15:00:00  R200001802       49.50           FR"
     },
     "execution_count": 5,
     "metadata": {},
     "output_type": "execute_result"
    }
   ],
   "source": [
    "df_raw.head()"
   ]
  },
  {
   "cell_type": "code",
   "execution_count": 6,
   "metadata": {},
   "outputs": [
    {
     "data": {
      "text/plain": "purchase_date    datetime64[ns]\nsku                      object\nitem_price              float64\nship_country             object\ndtype: object"
     },
     "execution_count": 6,
     "metadata": {},
     "output_type": "execute_result"
    }
   ],
   "source": [
    "df_raw.dtypes"
   ]
  },
  {
   "cell_type": "code",
   "execution_count": 7,
   "metadata": {},
   "outputs": [
    {
     "data": {
      "text/html": "<div>\n<style scoped>\n    .dataframe tbody tr th:only-of-type {\n        vertical-align: middle;\n    }\n\n    .dataframe tbody tr th {\n        vertical-align: top;\n    }\n\n    .dataframe thead th {\n        text-align: right;\n    }\n</style>\n<table border=\"1\" class=\"dataframe\">\n  <thead>\n    <tr style=\"text-align: right;\">\n      <th></th>\n      <th>purchase_date</th>\n      <th>sku</th>\n      <th>item_price</th>\n      <th>ship_country</th>\n    </tr>\n  </thead>\n  <tbody>\n    <tr>\n      <th>0</th>\n      <td>2019-01-01</td>\n      <td>R130001251</td>\n      <td>10.95</td>\n      <td>FR</td>\n    </tr>\n    <tr>\n      <th>1</th>\n      <td>2019-01-01</td>\n      <td>R130004489</td>\n      <td>14.90</td>\n      <td>FR</td>\n    </tr>\n    <tr>\n      <th>2</th>\n      <td>2019-01-01</td>\n      <td>R130011303</td>\n      <td>14.90</td>\n      <td>FR</td>\n    </tr>\n    <tr>\n      <th>3</th>\n      <td>2019-01-01</td>\n      <td>R200033488</td>\n      <td>59.25</td>\n      <td>BE</td>\n    </tr>\n    <tr>\n      <th>4</th>\n      <td>2019-01-01</td>\n      <td>R200001802</td>\n      <td>49.50</td>\n      <td>FR</td>\n    </tr>\n    <tr>\n      <th>...</th>\n      <td>...</td>\n      <td>...</td>\n      <td>...</td>\n      <td>...</td>\n    </tr>\n    <tr>\n      <th>3708</th>\n      <td>2019-12-31</td>\n      <td>RO20117242</td>\n      <td>10.95</td>\n      <td>US</td>\n    </tr>\n    <tr>\n      <th>3709</th>\n      <td>2019-12-31</td>\n      <td>RO20118319</td>\n      <td>14.90</td>\n      <td>US</td>\n    </tr>\n    <tr>\n      <th>3710</th>\n      <td>2019-12-31</td>\n      <td>RO20117808</td>\n      <td>10.95</td>\n      <td>US</td>\n    </tr>\n    <tr>\n      <th>3711</th>\n      <td>2019-12-31</td>\n      <td>RO20118339</td>\n      <td>14.90</td>\n      <td>US</td>\n    </tr>\n    <tr>\n      <th>3712</th>\n      <td>2019-12-31</td>\n      <td>RO20118322</td>\n      <td>14.90</td>\n      <td>US</td>\n    </tr>\n  </tbody>\n</table>\n<p>3713 rows × 4 columns</p>\n</div>",
      "text/plain": "     purchase_date         sku  item_price ship_country\n0       2019-01-01  R130001251       10.95           FR\n1       2019-01-01  R130004489       14.90           FR\n2       2019-01-01  R130011303       14.90           FR\n3       2019-01-01  R200033488       59.25           BE\n4       2019-01-01  R200001802       49.50           FR\n...            ...         ...         ...          ...\n3708    2019-12-31  RO20117242       10.95           US\n3709    2019-12-31  RO20118319       14.90           US\n3710    2019-12-31  RO20117808       10.95           US\n3711    2019-12-31  RO20118339       14.90           US\n3712    2019-12-31  RO20118322       14.90           US\n\n[3713 rows x 4 columns]"
     },
     "execution_count": 7,
     "metadata": {},
     "output_type": "execute_result"
    }
   ],
   "source": [
    "df_raw['purchase_date'] = df_raw['purchase_date'].astype(str).str.slice(0,10)\n",
    "df_raw['purchase_date'] = pd.to_datetime(df_raw['purchase_date'],format=\"%Y-%m-%d\")\n",
    "df_raw"
   ]
  },
  {
   "cell_type": "code",
   "execution_count": 8,
   "metadata": {},
   "outputs": [
    {
     "data": {
      "text/plain": "purchase_date    datetime64[ns]\nsku                      object\nitem_price              float64\nship_country             object\ndtype: object"
     },
     "execution_count": 8,
     "metadata": {},
     "output_type": "execute_result"
    }
   ],
   "source": [
    "df_raw.dtypes"
   ]
  },
  {
   "cell_type": "code",
   "execution_count": 9,
   "metadata": {},
   "outputs": [
    {
     "data": {
      "text/html": "<div>\n<style scoped>\n    .dataframe tbody tr th:only-of-type {\n        vertical-align: middle;\n    }\n\n    .dataframe tbody tr th {\n        vertical-align: top;\n    }\n\n    .dataframe thead th {\n        text-align: right;\n    }\n</style>\n<table border=\"1\" class=\"dataframe\">\n  <thead>\n    <tr style=\"text-align: right;\">\n      <th></th>\n      <th>Id</th>\n      <th>Code</th>\n      <th>Alpha2</th>\n      <th>Alpha3</th>\n      <th>nom_fr_fr</th>\n      <th>nom_en_gb</th>\n    </tr>\n  </thead>\n  <tbody>\n    <tr>\n      <th>0</th>\n      <td>1</td>\n      <td>4</td>\n      <td>AF</td>\n      <td>AFG</td>\n      <td>Afghanistan</td>\n      <td>Afghanistan</td>\n    </tr>\n    <tr>\n      <th>1</th>\n      <td>2</td>\n      <td>8</td>\n      <td>AL</td>\n      <td>ALB</td>\n      <td>Albanie</td>\n      <td>Albania</td>\n    </tr>\n    <tr>\n      <th>2</th>\n      <td>3</td>\n      <td>10</td>\n      <td>AQ</td>\n      <td>ATA</td>\n      <td>Antarctique</td>\n      <td>Antarctica</td>\n    </tr>\n    <tr>\n      <th>3</th>\n      <td>4</td>\n      <td>12</td>\n      <td>DZ</td>\n      <td>DZA</td>\n      <td>Algérie</td>\n      <td>Algeria</td>\n    </tr>\n    <tr>\n      <th>4</th>\n      <td>5</td>\n      <td>16</td>\n      <td>AS</td>\n      <td>ASM</td>\n      <td>Samoa Américaines</td>\n      <td>American Samoa</td>\n    </tr>\n    <tr>\n      <th>...</th>\n      <td>...</td>\n      <td>...</td>\n      <td>...</td>\n      <td>...</td>\n      <td>...</td>\n      <td>...</td>\n    </tr>\n    <tr>\n      <th>236</th>\n      <td>237</td>\n      <td>876</td>\n      <td>WF</td>\n      <td>WLF</td>\n      <td>Wallis et Futuna</td>\n      <td>Wallis and Futuna</td>\n    </tr>\n    <tr>\n      <th>237</th>\n      <td>238</td>\n      <td>882</td>\n      <td>WS</td>\n      <td>WSM</td>\n      <td>Samoa</td>\n      <td>Samoa</td>\n    </tr>\n    <tr>\n      <th>238</th>\n      <td>239</td>\n      <td>887</td>\n      <td>YE</td>\n      <td>YEM</td>\n      <td>Yémen</td>\n      <td>Yemen</td>\n    </tr>\n    <tr>\n      <th>239</th>\n      <td>240</td>\n      <td>891</td>\n      <td>CS</td>\n      <td>SCG</td>\n      <td>Serbie-et-Monténégro</td>\n      <td>Serbia and Montenegro</td>\n    </tr>\n    <tr>\n      <th>240</th>\n      <td>241</td>\n      <td>894</td>\n      <td>ZM</td>\n      <td>ZMB</td>\n      <td>Zambie</td>\n      <td>Zambia</td>\n    </tr>\n  </tbody>\n</table>\n<p>241 rows × 6 columns</p>\n</div>",
      "text/plain": "      Id  Code Alpha2 Alpha3             nom_fr_fr              nom_en_gb\n0      1     4     AF    AFG           Afghanistan            Afghanistan\n1      2     8     AL    ALB               Albanie                Albania\n2      3    10     AQ    ATA           Antarctique             Antarctica\n3      4    12     DZ    DZA               Algérie                Algeria\n4      5    16     AS    ASM     Samoa Américaines         American Samoa\n..   ...   ...    ...    ...                   ...                    ...\n236  237   876     WF    WLF      Wallis et Futuna      Wallis and Futuna\n237  238   882     WS    WSM                 Samoa                  Samoa\n238  239   887     YE    YEM                 Yémen                  Yemen\n239  240   891     CS    SCG  Serbie-et-Monténégro  Serbia and Montenegro\n240  241   894     ZM    ZMB                Zambie                 Zambia\n\n[241 rows x 6 columns]"
     },
     "execution_count": 9,
     "metadata": {},
     "output_type": "execute_result"
    }
   ],
   "source": [
    "os.chdir(\"C:\\Adrian - GDrive\\Professionnel\\Formation\\Informatique - Digital\\Data University\\Projet certification\\src\")\n",
    "df_country = pd.read_csv(\"sql-pays.csv\")\n",
    "df_country"
   ]
  },
  {
   "cell_type": "code",
   "execution_count": 12,
   "metadata": {},
   "outputs": [
    {
     "data": {
      "text/plain": "Index(['purchase_date', 'sku', 'item_price', 'ship_country', 'Id', 'Code',\n       'Alpha2', 'Alpha3', 'nom_fr_fr', 'nom_en_gb'],\n      dtype='object')"
     },
     "execution_count": 12,
     "metadata": {},
     "output_type": "execute_result"
    }
   ],
   "source": [
    "df_raw = df_raw.merge(df_country, left_on='ship_country', right_on='Alpha2')\n",
    "df_raw.columns"
   ]
  },
  {
   "cell_type": "code",
   "execution_count": 13,
   "metadata": {},
   "outputs": [
    {
     "data": {
      "text/html": "<div>\n<style scoped>\n    .dataframe tbody tr th:only-of-type {\n        vertical-align: middle;\n    }\n\n    .dataframe tbody tr th {\n        vertical-align: top;\n    }\n\n    .dataframe thead th {\n        text-align: right;\n    }\n</style>\n<table border=\"1\" class=\"dataframe\">\n  <thead>\n    <tr style=\"text-align: right;\">\n      <th></th>\n      <th>purchase_date</th>\n      <th>sku</th>\n      <th>item_price</th>\n      <th>nom_en_gb</th>\n    </tr>\n  </thead>\n  <tbody>\n    <tr>\n      <th>0</th>\n      <td>2019-01-01</td>\n      <td>R130001251</td>\n      <td>10.95</td>\n      <td>France</td>\n    </tr>\n    <tr>\n      <th>1</th>\n      <td>2019-01-01</td>\n      <td>R130004489</td>\n      <td>14.90</td>\n      <td>France</td>\n    </tr>\n    <tr>\n      <th>2</th>\n      <td>2019-01-01</td>\n      <td>R130011303</td>\n      <td>14.90</td>\n      <td>France</td>\n    </tr>\n    <tr>\n      <th>3</th>\n      <td>2019-01-01</td>\n      <td>R200001802</td>\n      <td>49.50</td>\n      <td>France</td>\n    </tr>\n    <tr>\n      <th>4</th>\n      <td>2019-01-02</td>\n      <td>R300231701</td>\n      <td>19.80</td>\n      <td>France</td>\n    </tr>\n    <tr>\n      <th>...</th>\n      <td>...</td>\n      <td>...</td>\n      <td>...</td>\n      <td>...</td>\n    </tr>\n    <tr>\n      <th>3707</th>\n      <td>2019-11-08</td>\n      <td>RO90017665</td>\n      <td>10.95</td>\n      <td>Réunion</td>\n    </tr>\n    <tr>\n      <th>3708</th>\n      <td>2019-12-15</td>\n      <td>R200048603</td>\n      <td>19.80</td>\n      <td>Réunion</td>\n    </tr>\n    <tr>\n      <th>3709</th>\n      <td>2019-11-17</td>\n      <td>RO30018207</td>\n      <td>14.90</td>\n      <td>French Guiana</td>\n    </tr>\n    <tr>\n      <th>3710</th>\n      <td>2019-11-17</td>\n      <td>RO30082154</td>\n      <td>29.80</td>\n      <td>French Guiana</td>\n    </tr>\n    <tr>\n      <th>3711</th>\n      <td>2019-11-26</td>\n      <td>RO10051942</td>\n      <td>29.80</td>\n      <td>Thailand</td>\n    </tr>\n  </tbody>\n</table>\n<p>3712 rows × 4 columns</p>\n</div>",
      "text/plain": "     purchase_date         sku  item_price      nom_en_gb\n0       2019-01-01  R130001251       10.95         France\n1       2019-01-01  R130004489       14.90         France\n2       2019-01-01  R130011303       14.90         France\n3       2019-01-01  R200001802       49.50         France\n4       2019-01-02  R300231701       19.80         France\n...            ...         ...         ...            ...\n3707    2019-11-08  RO90017665       10.95        Réunion\n3708    2019-12-15  R200048603       19.80        Réunion\n3709    2019-11-17  RO30018207       14.90  French Guiana\n3710    2019-11-17  RO30082154       29.80  French Guiana\n3711    2019-11-26  RO10051942       29.80       Thailand\n\n[3712 rows x 4 columns]"
     },
     "execution_count": 13,
     "metadata": {},
     "output_type": "execute_result"
    }
   ],
   "source": [
    "df_raw = df_raw.drop(columns=['ship_country', 'Id', 'Code', 'Alpha2', 'Alpha3', 'nom_fr_fr'])\n",
    "df_raw"
   ]
  },
  {
   "cell_type": "code",
   "execution_count": 14,
   "metadata": {},
   "outputs": [],
   "source": [
    "os.chdir(\"C:\\Adrian - GDrive\\Professionnel\\Formation\\Informatique - Digital\\Data University\\Projet certification\\csv\")\n",
    "\n",
    "df_raw.to_csv(\"1-lelivre.csv\", index=False)"
   ]
  },
  {
   "cell_type": "code",
   "execution_count": null,
   "metadata": {},
   "outputs": [],
   "source": []
  }
 ]
}